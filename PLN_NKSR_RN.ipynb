{
  "nbformat": 4,
  "nbformat_minor": 0,
  "metadata": {
    "colab": {
      "provenance": [],
      "gpuType": "T4"
    },
    "kernelspec": {
      "name": "python3",
      "display_name": "Python 3"
    },
    "language_info": {
      "name": "python"
    },
    "accelerator": "GPU"
  },
  "cells": [
    {
      "cell_type": "code",
      "source": [
        "!pip install emoji"
      ],
      "metadata": {
        "colab": {
          "base_uri": "https://localhost:8080/"
        },
        "id": "KxzThDTm1_Ur",
        "outputId": "7d347f4a-9329-4e12-d09b-99d7ce260c95"
      },
      "execution_count": null,
      "outputs": [
        {
          "output_type": "stream",
          "name": "stdout",
          "text": [
            "Collecting emoji\n",
            "  Downloading emoji-2.10.1-py2.py3-none-any.whl (421 kB)\n",
            "\u001b[2K     \u001b[90m━━━━━━━━━━━━━━━━━━━━━━━━━━━━━━━━━━━━━━━━\u001b[0m \u001b[32m421.5/421.5 kB\u001b[0m \u001b[31m3.0 MB/s\u001b[0m eta \u001b[36m0:00:00\u001b[0m\n",
            "\u001b[?25hInstalling collected packages: emoji\n",
            "Successfully installed emoji-2.10.1\n"
          ]
        }
      ]
    },
    {
      "cell_type": "code",
      "source": [
        "!pip install pyspellchecker"
      ],
      "metadata": {
        "colab": {
          "base_uri": "https://localhost:8080/"
        },
        "id": "Vf9HVeLguq-6",
        "outputId": "b8a50e55-91e5-488e-9eda-d7d8d5d583b0"
      },
      "execution_count": null,
      "outputs": [
        {
          "output_type": "stream",
          "name": "stdout",
          "text": [
            "Collecting pyspellchecker\n",
            "  Downloading pyspellchecker-0.8.1-py3-none-any.whl (6.8 MB)\n",
            "\u001b[2K     \u001b[90m━━━━━━━━━━━━━━━━━━━━━━━━━━━━━━━━━━━━━━━━\u001b[0m \u001b[32m6.8/6.8 MB\u001b[0m \u001b[31m16.1 MB/s\u001b[0m eta \u001b[36m0:00:00\u001b[0m\n",
            "\u001b[?25hInstalling collected packages: pyspellchecker\n",
            "Successfully installed pyspellchecker-0.8.1\n"
          ]
        }
      ]
    },
    {
      "cell_type": "code",
      "execution_count": null,
      "metadata": {
        "id": "hn_MkQPDHt3h"
      },
      "outputs": [],
      "source": [
        "import pandas as pd\n",
        "from nltk.corpus import stopwords\n",
        "from wordcloud import WordCloud, STOPWORDS\n",
        "import matplotlib.pyplot as plt\n",
        "import nltk\n",
        "import plotly.express as px\n",
        "import emoji\n",
        "import unicodedata\n",
        "import re\n",
        "from spellchecker import SpellChecker\n",
        "from tensorflow.keras.preprocessing.text import Tokenizer\n",
        "from tensorflow.keras.preprocessing.sequence import pad_sequences\n",
        "from nltk.stem import WordNetLemmatizer\n",
        "from nltk.tokenize import word_tokenize"
      ]
    },
    {
      "cell_type": "code",
      "source": [
        "nltk.download('punkt')"
      ],
      "metadata": {
        "colab": {
          "base_uri": "https://localhost:8080/"
        },
        "id": "Lzl6qIrK-Y1q",
        "outputId": "f48336e5-6173-4e23-ef0c-33104dd91b8a"
      },
      "execution_count": null,
      "outputs": [
        {
          "output_type": "stream",
          "name": "stderr",
          "text": [
            "[nltk_data] Downloading package punkt to /root/nltk_data...\n",
            "[nltk_data]   Unzipping tokenizers/punkt.zip.\n"
          ]
        },
        {
          "output_type": "execute_result",
          "data": {
            "text/plain": [
              "True"
            ]
          },
          "metadata": {},
          "execution_count": 4
        }
      ]
    },
    {
      "cell_type": "code",
      "source": [
        "nltk.download('stopwords')"
      ],
      "metadata": {
        "colab": {
          "base_uri": "https://localhost:8080/"
        },
        "id": "EilrXL2US_s0",
        "outputId": "324125a4-6d8c-415f-9a30-f8845f53242f"
      },
      "execution_count": null,
      "outputs": [
        {
          "output_type": "stream",
          "name": "stderr",
          "text": [
            "[nltk_data] Downloading package stopwords to /root/nltk_data...\n",
            "[nltk_data]   Unzipping corpora/stopwords.zip.\n"
          ]
        },
        {
          "output_type": "execute_result",
          "data": {
            "text/plain": [
              "True"
            ]
          },
          "metadata": {},
          "execution_count": 5
        }
      ]
    },
    {
      "cell_type": "code",
      "source": [
        "nltk.download('wordnet')"
      ],
      "metadata": {
        "colab": {
          "base_uri": "https://localhost:8080/"
        },
        "id": "SJAeYb1l-gBB",
        "outputId": "ec801016-5a7d-4f43-feb1-8fcb7284b136"
      },
      "execution_count": null,
      "outputs": [
        {
          "output_type": "stream",
          "name": "stderr",
          "text": [
            "[nltk_data] Downloading package wordnet to /root/nltk_data...\n"
          ]
        },
        {
          "output_type": "execute_result",
          "data": {
            "text/plain": [
              "True"
            ]
          },
          "metadata": {},
          "execution_count": 6
        }
      ]
    },
    {
      "cell_type": "markdown",
      "source": [
        "# EDA"
      ],
      "metadata": {
        "id": "DMlx2IgWv4kS"
      }
    },
    {
      "cell_type": "code",
      "source": [
        "import pandas as pd\n",
        "from google.colab import drive\n",
        "import matplotlib.pyplot as plt\n",
        "drive.mount('/content/drive')"
      ],
      "metadata": {
        "colab": {
          "base_uri": "https://localhost:8080/"
        },
        "id": "2zrUyfrCA8cN",
        "outputId": "f66ac984-9f1b-4b7d-c4c7-5519b3214b05"
      },
      "execution_count": null,
      "outputs": [
        {
          "output_type": "stream",
          "name": "stdout",
          "text": [
            "Mounted at /content/drive\n"
          ]
        }
      ]
    },
    {
      "cell_type": "code",
      "source": [
        "df=pd.read_csv(\"/content/drive/MyDrive/1_DCD/M4_2Practica/tweet_emotions.csv\")"
      ],
      "metadata": {
        "id": "b_mY1gtsJeEq"
      },
      "execution_count": null,
      "outputs": []
    },
    {
      "cell_type": "code",
      "source": [
        "df.head(5)"
      ],
      "metadata": {
        "colab": {
          "base_uri": "https://localhost:8080/",
          "height": 206
        },
        "id": "ERCMRS0bL7GJ",
        "outputId": "372cfeb3-5668-4895-ea1d-2ff1c8b9a676"
      },
      "execution_count": null,
      "outputs": [
        {
          "output_type": "execute_result",
          "data": {
            "text/plain": [
              "     tweet_id   sentiment                                            content  \\\n",
              "0  1956967341       empty  @tiffanylue i know  i was listenin to bad habi...   \n",
              "1  1956967666     sadness  Layin n bed with a headache  ughhhh...waitin o...   \n",
              "2  1956967696     sadness                Funeral ceremony...gloomy friday...   \n",
              "3  1956967789  enthusiasm               wants to hang out with friends SOON!   \n",
              "4  1956968416     neutral  @dannycastillo We want to trade with someone w...   \n",
              "\n",
              "   clase  \n",
              "0    NaN  \n",
              "1    0.0  \n",
              "2    0.0  \n",
              "3    2.0  \n",
              "4    1.0  "
            ],
            "text/html": [
              "\n",
              "  <div id=\"df-0f1ac008-b345-4a97-97fa-88739d63fa67\" class=\"colab-df-container\">\n",
              "    <div>\n",
              "<style scoped>\n",
              "    .dataframe tbody tr th:only-of-type {\n",
              "        vertical-align: middle;\n",
              "    }\n",
              "\n",
              "    .dataframe tbody tr th {\n",
              "        vertical-align: top;\n",
              "    }\n",
              "\n",
              "    .dataframe thead th {\n",
              "        text-align: right;\n",
              "    }\n",
              "</style>\n",
              "<table border=\"1\" class=\"dataframe\">\n",
              "  <thead>\n",
              "    <tr style=\"text-align: right;\">\n",
              "      <th></th>\n",
              "      <th>tweet_id</th>\n",
              "      <th>sentiment</th>\n",
              "      <th>content</th>\n",
              "      <th>clase</th>\n",
              "    </tr>\n",
              "  </thead>\n",
              "  <tbody>\n",
              "    <tr>\n",
              "      <th>0</th>\n",
              "      <td>1956967341</td>\n",
              "      <td>empty</td>\n",
              "      <td>@tiffanylue i know  i was listenin to bad habi...</td>\n",
              "      <td>NaN</td>\n",
              "    </tr>\n",
              "    <tr>\n",
              "      <th>1</th>\n",
              "      <td>1956967666</td>\n",
              "      <td>sadness</td>\n",
              "      <td>Layin n bed with a headache  ughhhh...waitin o...</td>\n",
              "      <td>0.0</td>\n",
              "    </tr>\n",
              "    <tr>\n",
              "      <th>2</th>\n",
              "      <td>1956967696</td>\n",
              "      <td>sadness</td>\n",
              "      <td>Funeral ceremony...gloomy friday...</td>\n",
              "      <td>0.0</td>\n",
              "    </tr>\n",
              "    <tr>\n",
              "      <th>3</th>\n",
              "      <td>1956967789</td>\n",
              "      <td>enthusiasm</td>\n",
              "      <td>wants to hang out with friends SOON!</td>\n",
              "      <td>2.0</td>\n",
              "    </tr>\n",
              "    <tr>\n",
              "      <th>4</th>\n",
              "      <td>1956968416</td>\n",
              "      <td>neutral</td>\n",
              "      <td>@dannycastillo We want to trade with someone w...</td>\n",
              "      <td>1.0</td>\n",
              "    </tr>\n",
              "  </tbody>\n",
              "</table>\n",
              "</div>\n",
              "    <div class=\"colab-df-buttons\">\n",
              "\n",
              "  <div class=\"colab-df-container\">\n",
              "    <button class=\"colab-df-convert\" onclick=\"convertToInteractive('df-0f1ac008-b345-4a97-97fa-88739d63fa67')\"\n",
              "            title=\"Convert this dataframe to an interactive table.\"\n",
              "            style=\"display:none;\">\n",
              "\n",
              "  <svg xmlns=\"http://www.w3.org/2000/svg\" height=\"24px\" viewBox=\"0 -960 960 960\">\n",
              "    <path d=\"M120-120v-720h720v720H120Zm60-500h600v-160H180v160Zm220 220h160v-160H400v160Zm0 220h160v-160H400v160ZM180-400h160v-160H180v160Zm440 0h160v-160H620v160ZM180-180h160v-160H180v160Zm440 0h160v-160H620v160Z\"/>\n",
              "  </svg>\n",
              "    </button>\n",
              "\n",
              "  <style>\n",
              "    .colab-df-container {\n",
              "      display:flex;\n",
              "      gap: 12px;\n",
              "    }\n",
              "\n",
              "    .colab-df-convert {\n",
              "      background-color: #E8F0FE;\n",
              "      border: none;\n",
              "      border-radius: 50%;\n",
              "      cursor: pointer;\n",
              "      display: none;\n",
              "      fill: #1967D2;\n",
              "      height: 32px;\n",
              "      padding: 0 0 0 0;\n",
              "      width: 32px;\n",
              "    }\n",
              "\n",
              "    .colab-df-convert:hover {\n",
              "      background-color: #E2EBFA;\n",
              "      box-shadow: 0px 1px 2px rgba(60, 64, 67, 0.3), 0px 1px 3px 1px rgba(60, 64, 67, 0.15);\n",
              "      fill: #174EA6;\n",
              "    }\n",
              "\n",
              "    .colab-df-buttons div {\n",
              "      margin-bottom: 4px;\n",
              "    }\n",
              "\n",
              "    [theme=dark] .colab-df-convert {\n",
              "      background-color: #3B4455;\n",
              "      fill: #D2E3FC;\n",
              "    }\n",
              "\n",
              "    [theme=dark] .colab-df-convert:hover {\n",
              "      background-color: #434B5C;\n",
              "      box-shadow: 0px 1px 3px 1px rgba(0, 0, 0, 0.15);\n",
              "      filter: drop-shadow(0px 1px 2px rgba(0, 0, 0, 0.3));\n",
              "      fill: #FFFFFF;\n",
              "    }\n",
              "  </style>\n",
              "\n",
              "    <script>\n",
              "      const buttonEl =\n",
              "        document.querySelector('#df-0f1ac008-b345-4a97-97fa-88739d63fa67 button.colab-df-convert');\n",
              "      buttonEl.style.display =\n",
              "        google.colab.kernel.accessAllowed ? 'block' : 'none';\n",
              "\n",
              "      async function convertToInteractive(key) {\n",
              "        const element = document.querySelector('#df-0f1ac008-b345-4a97-97fa-88739d63fa67');\n",
              "        const dataTable =\n",
              "          await google.colab.kernel.invokeFunction('convertToInteractive',\n",
              "                                                    [key], {});\n",
              "        if (!dataTable) return;\n",
              "\n",
              "        const docLinkHtml = 'Like what you see? Visit the ' +\n",
              "          '<a target=\"_blank\" href=https://colab.research.google.com/notebooks/data_table.ipynb>data table notebook</a>'\n",
              "          + ' to learn more about interactive tables.';\n",
              "        element.innerHTML = '';\n",
              "        dataTable['output_type'] = 'display_data';\n",
              "        await google.colab.output.renderOutput(dataTable, element);\n",
              "        const docLink = document.createElement('div');\n",
              "        docLink.innerHTML = docLinkHtml;\n",
              "        element.appendChild(docLink);\n",
              "      }\n",
              "    </script>\n",
              "  </div>\n",
              "\n",
              "\n",
              "<div id=\"df-cd65d47d-a15b-4ef9-9661-0ffdf84274cc\">\n",
              "  <button class=\"colab-df-quickchart\" onclick=\"quickchart('df-cd65d47d-a15b-4ef9-9661-0ffdf84274cc')\"\n",
              "            title=\"Suggest charts\"\n",
              "            style=\"display:none;\">\n",
              "\n",
              "<svg xmlns=\"http://www.w3.org/2000/svg\" height=\"24px\"viewBox=\"0 0 24 24\"\n",
              "     width=\"24px\">\n",
              "    <g>\n",
              "        <path d=\"M19 3H5c-1.1 0-2 .9-2 2v14c0 1.1.9 2 2 2h14c1.1 0 2-.9 2-2V5c0-1.1-.9-2-2-2zM9 17H7v-7h2v7zm4 0h-2V7h2v10zm4 0h-2v-4h2v4z\"/>\n",
              "    </g>\n",
              "</svg>\n",
              "  </button>\n",
              "\n",
              "<style>\n",
              "  .colab-df-quickchart {\n",
              "      --bg-color: #E8F0FE;\n",
              "      --fill-color: #1967D2;\n",
              "      --hover-bg-color: #E2EBFA;\n",
              "      --hover-fill-color: #174EA6;\n",
              "      --disabled-fill-color: #AAA;\n",
              "      --disabled-bg-color: #DDD;\n",
              "  }\n",
              "\n",
              "  [theme=dark] .colab-df-quickchart {\n",
              "      --bg-color: #3B4455;\n",
              "      --fill-color: #D2E3FC;\n",
              "      --hover-bg-color: #434B5C;\n",
              "      --hover-fill-color: #FFFFFF;\n",
              "      --disabled-bg-color: #3B4455;\n",
              "      --disabled-fill-color: #666;\n",
              "  }\n",
              "\n",
              "  .colab-df-quickchart {\n",
              "    background-color: var(--bg-color);\n",
              "    border: none;\n",
              "    border-radius: 50%;\n",
              "    cursor: pointer;\n",
              "    display: none;\n",
              "    fill: var(--fill-color);\n",
              "    height: 32px;\n",
              "    padding: 0;\n",
              "    width: 32px;\n",
              "  }\n",
              "\n",
              "  .colab-df-quickchart:hover {\n",
              "    background-color: var(--hover-bg-color);\n",
              "    box-shadow: 0 1px 2px rgba(60, 64, 67, 0.3), 0 1px 3px 1px rgba(60, 64, 67, 0.15);\n",
              "    fill: var(--button-hover-fill-color);\n",
              "  }\n",
              "\n",
              "  .colab-df-quickchart-complete:disabled,\n",
              "  .colab-df-quickchart-complete:disabled:hover {\n",
              "    background-color: var(--disabled-bg-color);\n",
              "    fill: var(--disabled-fill-color);\n",
              "    box-shadow: none;\n",
              "  }\n",
              "\n",
              "  .colab-df-spinner {\n",
              "    border: 2px solid var(--fill-color);\n",
              "    border-color: transparent;\n",
              "    border-bottom-color: var(--fill-color);\n",
              "    animation:\n",
              "      spin 1s steps(1) infinite;\n",
              "  }\n",
              "\n",
              "  @keyframes spin {\n",
              "    0% {\n",
              "      border-color: transparent;\n",
              "      border-bottom-color: var(--fill-color);\n",
              "      border-left-color: var(--fill-color);\n",
              "    }\n",
              "    20% {\n",
              "      border-color: transparent;\n",
              "      border-left-color: var(--fill-color);\n",
              "      border-top-color: var(--fill-color);\n",
              "    }\n",
              "    30% {\n",
              "      border-color: transparent;\n",
              "      border-left-color: var(--fill-color);\n",
              "      border-top-color: var(--fill-color);\n",
              "      border-right-color: var(--fill-color);\n",
              "    }\n",
              "    40% {\n",
              "      border-color: transparent;\n",
              "      border-right-color: var(--fill-color);\n",
              "      border-top-color: var(--fill-color);\n",
              "    }\n",
              "    60% {\n",
              "      border-color: transparent;\n",
              "      border-right-color: var(--fill-color);\n",
              "    }\n",
              "    80% {\n",
              "      border-color: transparent;\n",
              "      border-right-color: var(--fill-color);\n",
              "      border-bottom-color: var(--fill-color);\n",
              "    }\n",
              "    90% {\n",
              "      border-color: transparent;\n",
              "      border-bottom-color: var(--fill-color);\n",
              "    }\n",
              "  }\n",
              "</style>\n",
              "\n",
              "  <script>\n",
              "    async function quickchart(key) {\n",
              "      const quickchartButtonEl =\n",
              "        document.querySelector('#' + key + ' button');\n",
              "      quickchartButtonEl.disabled = true;  // To prevent multiple clicks.\n",
              "      quickchartButtonEl.classList.add('colab-df-spinner');\n",
              "      try {\n",
              "        const charts = await google.colab.kernel.invokeFunction(\n",
              "            'suggestCharts', [key], {});\n",
              "      } catch (error) {\n",
              "        console.error('Error during call to suggestCharts:', error);\n",
              "      }\n",
              "      quickchartButtonEl.classList.remove('colab-df-spinner');\n",
              "      quickchartButtonEl.classList.add('colab-df-quickchart-complete');\n",
              "    }\n",
              "    (() => {\n",
              "      let quickchartButtonEl =\n",
              "        document.querySelector('#df-cd65d47d-a15b-4ef9-9661-0ffdf84274cc button');\n",
              "      quickchartButtonEl.style.display =\n",
              "        google.colab.kernel.accessAllowed ? 'block' : 'none';\n",
              "    })();\n",
              "  </script>\n",
              "</div>\n",
              "\n",
              "    </div>\n",
              "  </div>\n"
            ],
            "application/vnd.google.colaboratory.intrinsic+json": {
              "type": "dataframe",
              "variable_name": "df",
              "summary": "{\n  \"name\": \"df\",\n  \"rows\": 40000,\n  \"fields\": [\n    {\n      \"column\": \"tweet_id\",\n      \"properties\": {\n        \"dtype\": \"number\",\n        \"std\": 118857896,\n        \"min\": 1693956175,\n        \"max\": 1966441171,\n        \"num_unique_values\": 40000,\n        \"samples\": [\n          1752414968,\n          1965295852,\n          1696219218\n        ],\n        \"semantic_type\": \"\",\n        \"description\": \"\"\n      }\n    },\n    {\n      \"column\": \"sentiment\",\n      \"properties\": {\n        \"dtype\": \"category\",\n        \"num_unique_values\": 13,\n        \"samples\": [\n          \"relief\",\n          \"happiness\",\n          \"empty\"\n        ],\n        \"semantic_type\": \"\",\n        \"description\": \"\"\n      }\n    },\n    {\n      \"column\": \"content\",\n      \"properties\": {\n        \"dtype\": \"string\",\n        \"num_unique_values\": 39827,\n        \"samples\": [\n          \"the sun is shinning! im off out!!\",\n          \"wow i must have been tired. i fell asleep @ exactly the start of the 10pm news &amp; now up as if its 8am.\",\n          \"@knobzie their loss\"\n        ],\n        \"semantic_type\": \"\",\n        \"description\": \"\"\n      }\n    },\n    {\n      \"column\": \"clase\",\n      \"properties\": {\n        \"dtype\": \"number\",\n        \"std\": 0.8572692013184099,\n        \"min\": 0.0,\n        \"max\": 2.0,\n        \"num_unique_values\": 3,\n        \"samples\": [\n          0.0,\n          2.0,\n          1.0\n        ],\n        \"semantic_type\": \"\",\n        \"description\": \"\"\n      }\n    }\n  ]\n}"
            }
          },
          "metadata": {},
          "execution_count": 8
        }
      ]
    },
    {
      "cell_type": "code",
      "source": [
        "def obtener_clase(descripcion):\n",
        "    emociones = {\n",
        "        'hate':     0,    # -5,\n",
        "        'anger':    0,    # -4,\n",
        "        'sadness':  0,    # -3,\n",
        "        'worry':    1,    # -2,\n",
        "        'boredom':  2,    # -1,\n",
        "        'neutral':  2,    # 0,\n",
        "        'empty':    2,    # 1,  eliminar registros\n",
        "        'relief':   3,    # 2,\n",
        "        'surprise': 3,    # 3,\n",
        "        'fun':      3,    # 4,\n",
        "        'enthusiasm': 3, # 5,\n",
        "        'happiness': 4,  # 6,\n",
        "        'love':      4    # 7\n",
        "    }\n",
        "    return emociones.get(descripcion.lower(), None)\n",
        "\n",
        "# Aplicar la función a la columna 'descripcion' del DataFrame\n",
        "df['clase'] = df['sentiment'].apply(obtener_clase)"
      ],
      "metadata": {
        "id": "NzlWR9qxBRvj"
      },
      "execution_count": null,
      "outputs": []
    },
    {
      "cell_type": "code",
      "source": [
        "def obtener_clase(descripcion):\n",
        "    emociones = {\n",
        "        'hate':     0,    # -5,\n",
        "        'anger':    0,    # -4,\n",
        "        'sadness':  0,    # -3,\n",
        "        'worry':    0,    # -2,\n",
        "        'boredom':  1,    # -1,\n",
        "        'neutral':  1,    # 0,\n",
        "        'empty':    1,    # 1,  eliminar registros\n",
        "        'relief':   1,    # 2,\n",
        "        'surprise': 2,    # 3,\n",
        "        'fun':      2,    # 4,\n",
        "        'enthusiasm': 2, # 5,\n",
        "        'happiness': 2,  # 6,\n",
        "        'love':      2    # 7\n",
        "    }\n",
        "    return emociones.get(descripcion.lower(), None)\n",
        "\n",
        "# Aplicar la función a la columna 'descripcion' del DataFrame\n",
        "df['clase'] = df['sentiment'].apply(obtener_clase)"
      ],
      "metadata": {
        "id": "Xetarhqnaynz"
      },
      "execution_count": null,
      "outputs": []
    },
    {
      "cell_type": "code",
      "source": [
        "df = df.drop(df[df['sentiment']=='empty'].index)"
      ],
      "metadata": {
        "id": "09udFPhnBaiK"
      },
      "execution_count": null,
      "outputs": []
    },
    {
      "cell_type": "code",
      "source": [
        "df.info()"
      ],
      "metadata": {
        "colab": {
          "base_uri": "https://localhost:8080/"
        },
        "id": "4IfgEFQDBeoK",
        "outputId": "8ae5bd84-84c3-4abf-dd4c-dbea82ce356d"
      },
      "execution_count": null,
      "outputs": [
        {
          "output_type": "stream",
          "name": "stdout",
          "text": [
            "<class 'pandas.core.frame.DataFrame'>\n",
            "RangeIndex: 40000 entries, 0 to 39999\n",
            "Data columns (total 4 columns):\n",
            " #   Column     Non-Null Count  Dtype \n",
            "---  ------     --------------  ----- \n",
            " 0   tweet_id   40000 non-null  int64 \n",
            " 1   sentiment  40000 non-null  object\n",
            " 2   content    40000 non-null  object\n",
            " 3   clase      40000 non-null  int64 \n",
            "dtypes: int64(2), object(2)\n",
            "memory usage: 1.2+ MB\n"
          ]
        }
      ]
    },
    {
      "cell_type": "code",
      "source": [
        "## eliminar tweets que solo sean de una palabra#################\n",
        "\n",
        "df['num_palabras'] = df['content'].apply(lambda x: len(x.split()))\n",
        "\n",
        "# Filtrar el DataFrame para mantener solo los textos que tienen más de dos palabras\n",
        "df = df[df['num_palabras'] > 1]\n",
        "\n",
        "# Eliminar la columna 'num_palabras', ya que ya no la necesitamos\n",
        "df = df.drop(columns=['num_palabras'])"
      ],
      "metadata": {
        "id": "LA78Y1jkB2Ch"
      },
      "execution_count": null,
      "outputs": []
    },
    {
      "cell_type": "code",
      "source": [
        "def eliminar_urls(texto):\n",
        "    return re.sub(r'http\\S+', '', texto)\n",
        "\n",
        "# Aplicar la función eliminar_urls a la columna 'texto' del DataFrame\n",
        "df['content_clean'] = df['content'].apply(eliminar_urls)"
      ],
      "metadata": {
        "id": "4XO0XY_6C75m"
      },
      "execution_count": null,
      "outputs": []
    },
    {
      "cell_type": "code",
      "source": [],
      "metadata": {
        "id": "ZMVosH7bDGnj"
      },
      "execution_count": null,
      "outputs": []
    },
    {
      "cell_type": "code",
      "source": [
        "df['content_clean'] = df['content_clean'].str.replace(r'LOL', 'laughter', regex=True)\n",
        "df['content_clean'] = df['content_clean'].str.replace(r'lol', 'laughter', regex=True)\n",
        "df['content_clean'] = df['content_clean'].str.replace(r'\\bha+h+a*\\b', 'laughter', regex=True)\n"
      ],
      "metadata": {
        "id": "oRSh1ftmGD0x"
      },
      "execution_count": null,
      "outputs": []
    },
    {
      "cell_type": "code",
      "source": [],
      "metadata": {
        "id": "hhVy7aFfGHGo"
      },
      "execution_count": null,
      "outputs": []
    },
    {
      "cell_type": "code",
      "source": [
        "# Reemplazar todas las \"u\" solitarias por \"you\"\n",
        "df['content_clean'] = df['content_clean'].str.replace(r'\\bu\\b', 'you', regex=True)\n",
        "df['content_clean'] = df['content_clean'].str.replace(r'\\br\\b', 'are', regex=True)\n"
      ],
      "metadata": {
        "id": "vzkYTN7UqJjI"
      },
      "execution_count": null,
      "outputs": []
    },
    {
      "cell_type": "code",
      "source": [
        "import unicodedata\n",
        "import re\n",
        "import spacy\n",
        "nlp = spacy.load(\"en_core_web_sm\")\n",
        "import emoji\n",
        "\n",
        "# Obtener las stopwords para inglés de spacy\n",
        "stopwords = spacy.lang.en.stop_words.STOP_WORDS\n",
        "\n",
        "#eliminar menciones\n",
        "def eliminar_menciones(texto, patron):\n",
        "    return re.sub(patron, '', texto)\n",
        "\n",
        "\n",
        "\n",
        "def clean_text(text, pattern=\"[^a-zA-Z0-9' ]\"):\n",
        "    cleaned_text = unicodedata.normalize('NFD', text).encode('ascii', 'ignore')\n",
        "    cleaned_text = re.sub(pattern, \" \", cleaned_text.decode(\"utf-8\"), flags=re.UNICODE)\n",
        "    doc = nlp(cleaned_text)    # Tokenizar el texto con spaCy\n",
        "    cleaned_text = \" \".join(token.text for token in doc if not token.is_stop)  # Eliminar las stop words con spacy\n",
        "    #cleaned_text = u' '.join(cleaned_text.lower().split())\n",
        "    cleaned_text = u' '.join(cleaned_text.lower().strip().split())\n",
        "\n",
        "    return cleaned_text"
      ],
      "metadata": {
        "id": "xzwnO836Cm3e"
      },
      "execution_count": null,
      "outputs": []
    },
    {
      "cell_type": "code",
      "source": [
        "stopwords"
      ],
      "metadata": {
        "colab": {
          "base_uri": "https://localhost:8080/"
        },
        "id": "_k0ExTy-EBWq",
        "outputId": "162c7845-b574-477b-8247-64ed47a9dad4"
      },
      "execution_count": null,
      "outputs": [
        {
          "output_type": "execute_result",
          "data": {
            "text/plain": [
              "{\"'d\",\n",
              " \"'ll\",\n",
              " \"'m\",\n",
              " \"'re\",\n",
              " \"'s\",\n",
              " \"'ve\",\n",
              " 'a',\n",
              " 'about',\n",
              " 'above',\n",
              " 'across',\n",
              " 'after',\n",
              " 'afterwards',\n",
              " 'again',\n",
              " 'against',\n",
              " 'all',\n",
              " 'almost',\n",
              " 'alone',\n",
              " 'along',\n",
              " 'already',\n",
              " 'also',\n",
              " 'although',\n",
              " 'always',\n",
              " 'am',\n",
              " 'among',\n",
              " 'amongst',\n",
              " 'amount',\n",
              " 'an',\n",
              " 'and',\n",
              " 'another',\n",
              " 'any',\n",
              " 'anyhow',\n",
              " 'anyone',\n",
              " 'anything',\n",
              " 'anyway',\n",
              " 'anywhere',\n",
              " 'are',\n",
              " 'around',\n",
              " 'as',\n",
              " 'at',\n",
              " 'back',\n",
              " 'be',\n",
              " 'became',\n",
              " 'because',\n",
              " 'become',\n",
              " 'becomes',\n",
              " 'becoming',\n",
              " 'been',\n",
              " 'before',\n",
              " 'beforehand',\n",
              " 'behind',\n",
              " 'being',\n",
              " 'below',\n",
              " 'beside',\n",
              " 'besides',\n",
              " 'between',\n",
              " 'beyond',\n",
              " 'both',\n",
              " 'bottom',\n",
              " 'but',\n",
              " 'by',\n",
              " 'ca',\n",
              " 'call',\n",
              " 'can',\n",
              " 'cannot',\n",
              " 'could',\n",
              " 'did',\n",
              " 'do',\n",
              " 'does',\n",
              " 'doing',\n",
              " 'done',\n",
              " 'down',\n",
              " 'due',\n",
              " 'during',\n",
              " 'each',\n",
              " 'eight',\n",
              " 'either',\n",
              " 'eleven',\n",
              " 'else',\n",
              " 'elsewhere',\n",
              " 'empty',\n",
              " 'enough',\n",
              " 'even',\n",
              " 'ever',\n",
              " 'every',\n",
              " 'everyone',\n",
              " 'everything',\n",
              " 'everywhere',\n",
              " 'except',\n",
              " 'few',\n",
              " 'fifteen',\n",
              " 'fifty',\n",
              " 'first',\n",
              " 'five',\n",
              " 'for',\n",
              " 'former',\n",
              " 'formerly',\n",
              " 'forty',\n",
              " 'four',\n",
              " 'from',\n",
              " 'front',\n",
              " 'full',\n",
              " 'further',\n",
              " 'get',\n",
              " 'give',\n",
              " 'go',\n",
              " 'had',\n",
              " 'has',\n",
              " 'have',\n",
              " 'he',\n",
              " 'hence',\n",
              " 'her',\n",
              " 'here',\n",
              " 'hereafter',\n",
              " 'hereby',\n",
              " 'herein',\n",
              " 'hereupon',\n",
              " 'hers',\n",
              " 'herself',\n",
              " 'him',\n",
              " 'himself',\n",
              " 'his',\n",
              " 'how',\n",
              " 'however',\n",
              " 'hundred',\n",
              " 'i',\n",
              " 'if',\n",
              " 'in',\n",
              " 'indeed',\n",
              " 'into',\n",
              " 'is',\n",
              " 'it',\n",
              " 'its',\n",
              " 'itself',\n",
              " 'just',\n",
              " 'keep',\n",
              " 'last',\n",
              " 'latter',\n",
              " 'latterly',\n",
              " 'least',\n",
              " 'less',\n",
              " 'made',\n",
              " 'make',\n",
              " 'many',\n",
              " 'may',\n",
              " 'me',\n",
              " 'meanwhile',\n",
              " 'might',\n",
              " 'mine',\n",
              " 'more',\n",
              " 'moreover',\n",
              " 'most',\n",
              " 'mostly',\n",
              " 'move',\n",
              " 'much',\n",
              " 'must',\n",
              " 'my',\n",
              " 'myself',\n",
              " \"n't\",\n",
              " 'name',\n",
              " 'namely',\n",
              " 'neither',\n",
              " 'never',\n",
              " 'nevertheless',\n",
              " 'next',\n",
              " 'nine',\n",
              " 'no',\n",
              " 'nobody',\n",
              " 'none',\n",
              " 'noone',\n",
              " 'nor',\n",
              " 'not',\n",
              " 'nothing',\n",
              " 'now',\n",
              " 'nowhere',\n",
              " 'n‘t',\n",
              " 'n’t',\n",
              " 'of',\n",
              " 'off',\n",
              " 'often',\n",
              " 'on',\n",
              " 'once',\n",
              " 'one',\n",
              " 'only',\n",
              " 'onto',\n",
              " 'or',\n",
              " 'other',\n",
              " 'others',\n",
              " 'otherwise',\n",
              " 'our',\n",
              " 'ours',\n",
              " 'ourselves',\n",
              " 'out',\n",
              " 'over',\n",
              " 'own',\n",
              " 'part',\n",
              " 'per',\n",
              " 'perhaps',\n",
              " 'please',\n",
              " 'put',\n",
              " 'quite',\n",
              " 'rather',\n",
              " 're',\n",
              " 'really',\n",
              " 'regarding',\n",
              " 'same',\n",
              " 'say',\n",
              " 'see',\n",
              " 'seem',\n",
              " 'seemed',\n",
              " 'seeming',\n",
              " 'seems',\n",
              " 'serious',\n",
              " 'several',\n",
              " 'she',\n",
              " 'should',\n",
              " 'show',\n",
              " 'side',\n",
              " 'since',\n",
              " 'six',\n",
              " 'sixty',\n",
              " 'so',\n",
              " 'some',\n",
              " 'somehow',\n",
              " 'someone',\n",
              " 'something',\n",
              " 'sometime',\n",
              " 'sometimes',\n",
              " 'somewhere',\n",
              " 'still',\n",
              " 'such',\n",
              " 'take',\n",
              " 'ten',\n",
              " 'than',\n",
              " 'that',\n",
              " 'the',\n",
              " 'their',\n",
              " 'them',\n",
              " 'themselves',\n",
              " 'then',\n",
              " 'thence',\n",
              " 'there',\n",
              " 'thereafter',\n",
              " 'thereby',\n",
              " 'therefore',\n",
              " 'therein',\n",
              " 'thereupon',\n",
              " 'these',\n",
              " 'they',\n",
              " 'third',\n",
              " 'this',\n",
              " 'those',\n",
              " 'though',\n",
              " 'three',\n",
              " 'through',\n",
              " 'throughout',\n",
              " 'thru',\n",
              " 'thus',\n",
              " 'to',\n",
              " 'together',\n",
              " 'too',\n",
              " 'top',\n",
              " 'toward',\n",
              " 'towards',\n",
              " 'twelve',\n",
              " 'twenty',\n",
              " 'two',\n",
              " 'under',\n",
              " 'unless',\n",
              " 'until',\n",
              " 'up',\n",
              " 'upon',\n",
              " 'us',\n",
              " 'used',\n",
              " 'using',\n",
              " 'various',\n",
              " 'very',\n",
              " 'via',\n",
              " 'was',\n",
              " 'we',\n",
              " 'well',\n",
              " 'were',\n",
              " 'what',\n",
              " 'whatever',\n",
              " 'when',\n",
              " 'whence',\n",
              " 'whenever',\n",
              " 'where',\n",
              " 'whereafter',\n",
              " 'whereas',\n",
              " 'whereby',\n",
              " 'wherein',\n",
              " 'whereupon',\n",
              " 'wherever',\n",
              " 'whether',\n",
              " 'which',\n",
              " 'while',\n",
              " 'whither',\n",
              " 'who',\n",
              " 'whoever',\n",
              " 'whole',\n",
              " 'whom',\n",
              " 'whose',\n",
              " 'why',\n",
              " 'will',\n",
              " 'with',\n",
              " 'within',\n",
              " 'without',\n",
              " 'would',\n",
              " 'yet',\n",
              " 'you',\n",
              " 'your',\n",
              " 'yours',\n",
              " 'yourself',\n",
              " 'yourselves',\n",
              " '‘d',\n",
              " '‘ll',\n",
              " '‘m',\n",
              " '‘re',\n",
              " '‘s',\n",
              " '‘ve',\n",
              " '’d',\n",
              " '’ll',\n",
              " '’m',\n",
              " '’re',\n",
              " '’s',\n",
              " '’ve'}"
            ]
          },
          "metadata": {},
          "execution_count": 22
        }
      ]
    },
    {
      "cell_type": "code",
      "source": [
        "df['content_clean'] = df['content_clean'].apply(eliminar_menciones, patron=r'@[\\w]+')"
      ],
      "metadata": {
        "id": "uhhJXg5yDR-j"
      },
      "execution_count": null,
      "outputs": []
    },
    {
      "cell_type": "code",
      "source": [
        "df"
      ],
      "metadata": {
        "colab": {
          "base_uri": "https://localhost:8080/",
          "height": 423
        },
        "id": "LhlGLVzADZFC",
        "outputId": "06e3a7a1-a624-4902-9e71-8b1680148455"
      },
      "execution_count": null,
      "outputs": [
        {
          "output_type": "execute_result",
          "data": {
            "text/plain": [
              "         tweet_id   sentiment  \\\n",
              "1      1956967666     sadness   \n",
              "2      1956967696     sadness   \n",
              "3      1956967789  enthusiasm   \n",
              "4      1956968416     neutral   \n",
              "5      1956968477       worry   \n",
              "...           ...         ...   \n",
              "39995  1753918954     neutral   \n",
              "39996  1753919001        love   \n",
              "39997  1753919005        love   \n",
              "39998  1753919043   happiness   \n",
              "39999  1753919049        love   \n",
              "\n",
              "                                                 content  clase  \\\n",
              "1      Layin n bed with a headache  ughhhh...waitin o...    0.0   \n",
              "2                    Funeral ceremony...gloomy friday...    0.0   \n",
              "3                   wants to hang out with friends SOON!    3.0   \n",
              "4      @dannycastillo We want to trade with someone w...    2.0   \n",
              "5      Re-pinging @ghostridah14: why didn't you go to...    1.0   \n",
              "...                                                  ...    ...   \n",
              "39995                                   @JohnLloydTaylor    2.0   \n",
              "39996                     Happy Mothers Day  All my love    4.0   \n",
              "39997  Happy Mother's Day to all the mommies out ther...    4.0   \n",
              "39998  @niariley WASSUP BEAUTIFUL!!! FOLLOW ME!!  PEE...    4.0   \n",
              "39999  @mopedronin bullet train from tokyo    the gf ...    4.0   \n",
              "\n",
              "                                           content_clean  \n",
              "1      Layin n bed with a headache  ughhhh...waitin o...  \n",
              "2                    Funeral ceremony...gloomy friday...  \n",
              "3                   wants to hang out with friends SOON!  \n",
              "4       We want to trade with someone who has Houston...  \n",
              "5      Re-pinging : why didn't you go to prom? BC my ...  \n",
              "...                                                  ...  \n",
              "39995                                                     \n",
              "39996                     Happy Mothers Day  All my love  \n",
              "39997  Happy Mother's Day to all the mommies out ther...  \n",
              "39998   WASSUP BEAUTIFUL!!! FOLLOW ME!!  PEEP OUT MY ...  \n",
              "39999   bullet train from tokyo    the gf and i have ...  \n",
              "\n",
              "[39173 rows x 5 columns]"
            ],
            "text/html": [
              "\n",
              "  <div id=\"df-41ee7a36-bdfc-4238-8cc4-7d205bb5da82\" class=\"colab-df-container\">\n",
              "    <div>\n",
              "<style scoped>\n",
              "    .dataframe tbody tr th:only-of-type {\n",
              "        vertical-align: middle;\n",
              "    }\n",
              "\n",
              "    .dataframe tbody tr th {\n",
              "        vertical-align: top;\n",
              "    }\n",
              "\n",
              "    .dataframe thead th {\n",
              "        text-align: right;\n",
              "    }\n",
              "</style>\n",
              "<table border=\"1\" class=\"dataframe\">\n",
              "  <thead>\n",
              "    <tr style=\"text-align: right;\">\n",
              "      <th></th>\n",
              "      <th>tweet_id</th>\n",
              "      <th>sentiment</th>\n",
              "      <th>content</th>\n",
              "      <th>clase</th>\n",
              "      <th>content_clean</th>\n",
              "    </tr>\n",
              "  </thead>\n",
              "  <tbody>\n",
              "    <tr>\n",
              "      <th>1</th>\n",
              "      <td>1956967666</td>\n",
              "      <td>sadness</td>\n",
              "      <td>Layin n bed with a headache  ughhhh...waitin o...</td>\n",
              "      <td>0.0</td>\n",
              "      <td>Layin n bed with a headache  ughhhh...waitin o...</td>\n",
              "    </tr>\n",
              "    <tr>\n",
              "      <th>2</th>\n",
              "      <td>1956967696</td>\n",
              "      <td>sadness</td>\n",
              "      <td>Funeral ceremony...gloomy friday...</td>\n",
              "      <td>0.0</td>\n",
              "      <td>Funeral ceremony...gloomy friday...</td>\n",
              "    </tr>\n",
              "    <tr>\n",
              "      <th>3</th>\n",
              "      <td>1956967789</td>\n",
              "      <td>enthusiasm</td>\n",
              "      <td>wants to hang out with friends SOON!</td>\n",
              "      <td>3.0</td>\n",
              "      <td>wants to hang out with friends SOON!</td>\n",
              "    </tr>\n",
              "    <tr>\n",
              "      <th>4</th>\n",
              "      <td>1956968416</td>\n",
              "      <td>neutral</td>\n",
              "      <td>@dannycastillo We want to trade with someone w...</td>\n",
              "      <td>2.0</td>\n",
              "      <td>We want to trade with someone who has Houston...</td>\n",
              "    </tr>\n",
              "    <tr>\n",
              "      <th>5</th>\n",
              "      <td>1956968477</td>\n",
              "      <td>worry</td>\n",
              "      <td>Re-pinging @ghostridah14: why didn't you go to...</td>\n",
              "      <td>1.0</td>\n",
              "      <td>Re-pinging : why didn't you go to prom? BC my ...</td>\n",
              "    </tr>\n",
              "    <tr>\n",
              "      <th>...</th>\n",
              "      <td>...</td>\n",
              "      <td>...</td>\n",
              "      <td>...</td>\n",
              "      <td>...</td>\n",
              "      <td>...</td>\n",
              "    </tr>\n",
              "    <tr>\n",
              "      <th>39995</th>\n",
              "      <td>1753918954</td>\n",
              "      <td>neutral</td>\n",
              "      <td>@JohnLloydTaylor</td>\n",
              "      <td>2.0</td>\n",
              "      <td></td>\n",
              "    </tr>\n",
              "    <tr>\n",
              "      <th>39996</th>\n",
              "      <td>1753919001</td>\n",
              "      <td>love</td>\n",
              "      <td>Happy Mothers Day  All my love</td>\n",
              "      <td>4.0</td>\n",
              "      <td>Happy Mothers Day  All my love</td>\n",
              "    </tr>\n",
              "    <tr>\n",
              "      <th>39997</th>\n",
              "      <td>1753919005</td>\n",
              "      <td>love</td>\n",
              "      <td>Happy Mother's Day to all the mommies out ther...</td>\n",
              "      <td>4.0</td>\n",
              "      <td>Happy Mother's Day to all the mommies out ther...</td>\n",
              "    </tr>\n",
              "    <tr>\n",
              "      <th>39998</th>\n",
              "      <td>1753919043</td>\n",
              "      <td>happiness</td>\n",
              "      <td>@niariley WASSUP BEAUTIFUL!!! FOLLOW ME!!  PEE...</td>\n",
              "      <td>4.0</td>\n",
              "      <td>WASSUP BEAUTIFUL!!! FOLLOW ME!!  PEEP OUT MY ...</td>\n",
              "    </tr>\n",
              "    <tr>\n",
              "      <th>39999</th>\n",
              "      <td>1753919049</td>\n",
              "      <td>love</td>\n",
              "      <td>@mopedronin bullet train from tokyo    the gf ...</td>\n",
              "      <td>4.0</td>\n",
              "      <td>bullet train from tokyo    the gf and i have ...</td>\n",
              "    </tr>\n",
              "  </tbody>\n",
              "</table>\n",
              "<p>39173 rows × 5 columns</p>\n",
              "</div>\n",
              "    <div class=\"colab-df-buttons\">\n",
              "\n",
              "  <div class=\"colab-df-container\">\n",
              "    <button class=\"colab-df-convert\" onclick=\"convertToInteractive('df-41ee7a36-bdfc-4238-8cc4-7d205bb5da82')\"\n",
              "            title=\"Convert this dataframe to an interactive table.\"\n",
              "            style=\"display:none;\">\n",
              "\n",
              "  <svg xmlns=\"http://www.w3.org/2000/svg\" height=\"24px\" viewBox=\"0 -960 960 960\">\n",
              "    <path d=\"M120-120v-720h720v720H120Zm60-500h600v-160H180v160Zm220 220h160v-160H400v160Zm0 220h160v-160H400v160ZM180-400h160v-160H180v160Zm440 0h160v-160H620v160ZM180-180h160v-160H180v160Zm440 0h160v-160H620v160Z\"/>\n",
              "  </svg>\n",
              "    </button>\n",
              "\n",
              "  <style>\n",
              "    .colab-df-container {\n",
              "      display:flex;\n",
              "      gap: 12px;\n",
              "    }\n",
              "\n",
              "    .colab-df-convert {\n",
              "      background-color: #E8F0FE;\n",
              "      border: none;\n",
              "      border-radius: 50%;\n",
              "      cursor: pointer;\n",
              "      display: none;\n",
              "      fill: #1967D2;\n",
              "      height: 32px;\n",
              "      padding: 0 0 0 0;\n",
              "      width: 32px;\n",
              "    }\n",
              "\n",
              "    .colab-df-convert:hover {\n",
              "      background-color: #E2EBFA;\n",
              "      box-shadow: 0px 1px 2px rgba(60, 64, 67, 0.3), 0px 1px 3px 1px rgba(60, 64, 67, 0.15);\n",
              "      fill: #174EA6;\n",
              "    }\n",
              "\n",
              "    .colab-df-buttons div {\n",
              "      margin-bottom: 4px;\n",
              "    }\n",
              "\n",
              "    [theme=dark] .colab-df-convert {\n",
              "      background-color: #3B4455;\n",
              "      fill: #D2E3FC;\n",
              "    }\n",
              "\n",
              "    [theme=dark] .colab-df-convert:hover {\n",
              "      background-color: #434B5C;\n",
              "      box-shadow: 0px 1px 3px 1px rgba(0, 0, 0, 0.15);\n",
              "      filter: drop-shadow(0px 1px 2px rgba(0, 0, 0, 0.3));\n",
              "      fill: #FFFFFF;\n",
              "    }\n",
              "  </style>\n",
              "\n",
              "    <script>\n",
              "      const buttonEl =\n",
              "        document.querySelector('#df-41ee7a36-bdfc-4238-8cc4-7d205bb5da82 button.colab-df-convert');\n",
              "      buttonEl.style.display =\n",
              "        google.colab.kernel.accessAllowed ? 'block' : 'none';\n",
              "\n",
              "      async function convertToInteractive(key) {\n",
              "        const element = document.querySelector('#df-41ee7a36-bdfc-4238-8cc4-7d205bb5da82');\n",
              "        const dataTable =\n",
              "          await google.colab.kernel.invokeFunction('convertToInteractive',\n",
              "                                                    [key], {});\n",
              "        if (!dataTable) return;\n",
              "\n",
              "        const docLinkHtml = 'Like what you see? Visit the ' +\n",
              "          '<a target=\"_blank\" href=https://colab.research.google.com/notebooks/data_table.ipynb>data table notebook</a>'\n",
              "          + ' to learn more about interactive tables.';\n",
              "        element.innerHTML = '';\n",
              "        dataTable['output_type'] = 'display_data';\n",
              "        await google.colab.output.renderOutput(dataTable, element);\n",
              "        const docLink = document.createElement('div');\n",
              "        docLink.innerHTML = docLinkHtml;\n",
              "        element.appendChild(docLink);\n",
              "      }\n",
              "    </script>\n",
              "  </div>\n",
              "\n",
              "\n",
              "<div id=\"df-9956bf71-f6f8-4ed7-ba71-32a69e2b60ee\">\n",
              "  <button class=\"colab-df-quickchart\" onclick=\"quickchart('df-9956bf71-f6f8-4ed7-ba71-32a69e2b60ee')\"\n",
              "            title=\"Suggest charts\"\n",
              "            style=\"display:none;\">\n",
              "\n",
              "<svg xmlns=\"http://www.w3.org/2000/svg\" height=\"24px\"viewBox=\"0 0 24 24\"\n",
              "     width=\"24px\">\n",
              "    <g>\n",
              "        <path d=\"M19 3H5c-1.1 0-2 .9-2 2v14c0 1.1.9 2 2 2h14c1.1 0 2-.9 2-2V5c0-1.1-.9-2-2-2zM9 17H7v-7h2v7zm4 0h-2V7h2v10zm4 0h-2v-4h2v4z\"/>\n",
              "    </g>\n",
              "</svg>\n",
              "  </button>\n",
              "\n",
              "<style>\n",
              "  .colab-df-quickchart {\n",
              "      --bg-color: #E8F0FE;\n",
              "      --fill-color: #1967D2;\n",
              "      --hover-bg-color: #E2EBFA;\n",
              "      --hover-fill-color: #174EA6;\n",
              "      --disabled-fill-color: #AAA;\n",
              "      --disabled-bg-color: #DDD;\n",
              "  }\n",
              "\n",
              "  [theme=dark] .colab-df-quickchart {\n",
              "      --bg-color: #3B4455;\n",
              "      --fill-color: #D2E3FC;\n",
              "      --hover-bg-color: #434B5C;\n",
              "      --hover-fill-color: #FFFFFF;\n",
              "      --disabled-bg-color: #3B4455;\n",
              "      --disabled-fill-color: #666;\n",
              "  }\n",
              "\n",
              "  .colab-df-quickchart {\n",
              "    background-color: var(--bg-color);\n",
              "    border: none;\n",
              "    border-radius: 50%;\n",
              "    cursor: pointer;\n",
              "    display: none;\n",
              "    fill: var(--fill-color);\n",
              "    height: 32px;\n",
              "    padding: 0;\n",
              "    width: 32px;\n",
              "  }\n",
              "\n",
              "  .colab-df-quickchart:hover {\n",
              "    background-color: var(--hover-bg-color);\n",
              "    box-shadow: 0 1px 2px rgba(60, 64, 67, 0.3), 0 1px 3px 1px rgba(60, 64, 67, 0.15);\n",
              "    fill: var(--button-hover-fill-color);\n",
              "  }\n",
              "\n",
              "  .colab-df-quickchart-complete:disabled,\n",
              "  .colab-df-quickchart-complete:disabled:hover {\n",
              "    background-color: var(--disabled-bg-color);\n",
              "    fill: var(--disabled-fill-color);\n",
              "    box-shadow: none;\n",
              "  }\n",
              "\n",
              "  .colab-df-spinner {\n",
              "    border: 2px solid var(--fill-color);\n",
              "    border-color: transparent;\n",
              "    border-bottom-color: var(--fill-color);\n",
              "    animation:\n",
              "      spin 1s steps(1) infinite;\n",
              "  }\n",
              "\n",
              "  @keyframes spin {\n",
              "    0% {\n",
              "      border-color: transparent;\n",
              "      border-bottom-color: var(--fill-color);\n",
              "      border-left-color: var(--fill-color);\n",
              "    }\n",
              "    20% {\n",
              "      border-color: transparent;\n",
              "      border-left-color: var(--fill-color);\n",
              "      border-top-color: var(--fill-color);\n",
              "    }\n",
              "    30% {\n",
              "      border-color: transparent;\n",
              "      border-left-color: var(--fill-color);\n",
              "      border-top-color: var(--fill-color);\n",
              "      border-right-color: var(--fill-color);\n",
              "    }\n",
              "    40% {\n",
              "      border-color: transparent;\n",
              "      border-right-color: var(--fill-color);\n",
              "      border-top-color: var(--fill-color);\n",
              "    }\n",
              "    60% {\n",
              "      border-color: transparent;\n",
              "      border-right-color: var(--fill-color);\n",
              "    }\n",
              "    80% {\n",
              "      border-color: transparent;\n",
              "      border-right-color: var(--fill-color);\n",
              "      border-bottom-color: var(--fill-color);\n",
              "    }\n",
              "    90% {\n",
              "      border-color: transparent;\n",
              "      border-bottom-color: var(--fill-color);\n",
              "    }\n",
              "  }\n",
              "</style>\n",
              "\n",
              "  <script>\n",
              "    async function quickchart(key) {\n",
              "      const quickchartButtonEl =\n",
              "        document.querySelector('#' + key + ' button');\n",
              "      quickchartButtonEl.disabled = true;  // To prevent multiple clicks.\n",
              "      quickchartButtonEl.classList.add('colab-df-spinner');\n",
              "      try {\n",
              "        const charts = await google.colab.kernel.invokeFunction(\n",
              "            'suggestCharts', [key], {});\n",
              "      } catch (error) {\n",
              "        console.error('Error during call to suggestCharts:', error);\n",
              "      }\n",
              "      quickchartButtonEl.classList.remove('colab-df-spinner');\n",
              "      quickchartButtonEl.classList.add('colab-df-quickchart-complete');\n",
              "    }\n",
              "    (() => {\n",
              "      let quickchartButtonEl =\n",
              "        document.querySelector('#df-9956bf71-f6f8-4ed7-ba71-32a69e2b60ee button');\n",
              "      quickchartButtonEl.style.display =\n",
              "        google.colab.kernel.accessAllowed ? 'block' : 'none';\n",
              "    })();\n",
              "  </script>\n",
              "</div>\n",
              "\n",
              "  <div id=\"id_34e198fe-50b3-419d-b215-c2608af2bf3b\">\n",
              "    <style>\n",
              "      .colab-df-generate {\n",
              "        background-color: #E8F0FE;\n",
              "        border: none;\n",
              "        border-radius: 50%;\n",
              "        cursor: pointer;\n",
              "        display: none;\n",
              "        fill: #1967D2;\n",
              "        height: 32px;\n",
              "        padding: 0 0 0 0;\n",
              "        width: 32px;\n",
              "      }\n",
              "\n",
              "      .colab-df-generate:hover {\n",
              "        background-color: #E2EBFA;\n",
              "        box-shadow: 0px 1px 2px rgba(60, 64, 67, 0.3), 0px 1px 3px 1px rgba(60, 64, 67, 0.15);\n",
              "        fill: #174EA6;\n",
              "      }\n",
              "\n",
              "      [theme=dark] .colab-df-generate {\n",
              "        background-color: #3B4455;\n",
              "        fill: #D2E3FC;\n",
              "      }\n",
              "\n",
              "      [theme=dark] .colab-df-generate:hover {\n",
              "        background-color: #434B5C;\n",
              "        box-shadow: 0px 1px 3px 1px rgba(0, 0, 0, 0.15);\n",
              "        filter: drop-shadow(0px 1px 2px rgba(0, 0, 0, 0.3));\n",
              "        fill: #FFFFFF;\n",
              "      }\n",
              "    </style>\n",
              "    <button class=\"colab-df-generate\" onclick=\"generateWithVariable('df')\"\n",
              "            title=\"Generate code using this dataframe.\"\n",
              "            style=\"display:none;\">\n",
              "\n",
              "  <svg xmlns=\"http://www.w3.org/2000/svg\" height=\"24px\"viewBox=\"0 0 24 24\"\n",
              "       width=\"24px\">\n",
              "    <path d=\"M7,19H8.4L18.45,9,17,7.55,7,17.6ZM5,21V16.75L18.45,3.32a2,2,0,0,1,2.83,0l1.4,1.43a1.91,1.91,0,0,1,.58,1.4,1.91,1.91,0,0,1-.58,1.4L9.25,21ZM18.45,9,17,7.55Zm-12,3A5.31,5.31,0,0,0,4.9,8.1,5.31,5.31,0,0,0,1,6.5,5.31,5.31,0,0,0,4.9,4.9,5.31,5.31,0,0,0,6.5,1,5.31,5.31,0,0,0,8.1,4.9,5.31,5.31,0,0,0,12,6.5,5.46,5.46,0,0,0,6.5,12Z\"/>\n",
              "  </svg>\n",
              "    </button>\n",
              "    <script>\n",
              "      (() => {\n",
              "      const buttonEl =\n",
              "        document.querySelector('#id_34e198fe-50b3-419d-b215-c2608af2bf3b button.colab-df-generate');\n",
              "      buttonEl.style.display =\n",
              "        google.colab.kernel.accessAllowed ? 'block' : 'none';\n",
              "\n",
              "      buttonEl.onclick = () => {\n",
              "        google.colab.notebook.generateWithVariable('df');\n",
              "      }\n",
              "      })();\n",
              "    </script>\n",
              "  </div>\n",
              "\n",
              "    </div>\n",
              "  </div>\n"
            ],
            "application/vnd.google.colaboratory.intrinsic+json": {
              "type": "dataframe",
              "variable_name": "df",
              "summary": "{\n  \"name\": \"df\",\n  \"rows\": 39173,\n  \"fields\": [\n    {\n      \"column\": \"tweet_id\",\n      \"properties\": {\n        \"dtype\": \"number\",\n        \"std\": 118833374,\n        \"min\": 1693956189,\n        \"max\": 1966441171,\n        \"num_unique_values\": 39173,\n        \"samples\": [\n          1963875034,\n          1695374566,\n          1695963429\n        ],\n        \"semantic_type\": \"\",\n        \"description\": \"\"\n      }\n    },\n    {\n      \"column\": \"sentiment\",\n      \"properties\": {\n        \"dtype\": \"category\",\n        \"num_unique_values\": 12,\n        \"samples\": [\n          \"relief\",\n          \"boredom\",\n          \"sadness\"\n        ],\n        \"semantic_type\": \"\",\n        \"description\": \"\"\n      }\n    },\n    {\n      \"column\": \"content\",\n      \"properties\": {\n        \"dtype\": \"string\",\n        \"num_unique_values\": 39006,\n        \"samples\": [\n          \"Finished dexter season2    start on season 3 next week?\",\n          \"Who's going out tonight? I want to go out  xxx\",\n          \"Had a pretty good day. Let's see how the night goes. ;-) oh I have to work all day tomorrow no picnic for me\"\n        ],\n        \"semantic_type\": \"\",\n        \"description\": \"\"\n      }\n    },\n    {\n      \"column\": \"clase\",\n      \"properties\": {\n        \"dtype\": \"number\",\n        \"std\": 1.3905315283096564,\n        \"min\": 0.0,\n        \"max\": 4.0,\n        \"num_unique_values\": 5,\n        \"samples\": [\n          3.0,\n          4.0,\n          2.0\n        ],\n        \"semantic_type\": \"\",\n        \"description\": \"\"\n      }\n    },\n    {\n      \"column\": \"content_clean\",\n      \"properties\": {\n        \"dtype\": \"string\",\n        \"num_unique_values\": 38729,\n        \"samples\": [\n          \"Also, I designed the banner for  - pretty stinkin' cute no?\",\n          \"joe: 2.30pm Kevin pics up a new pair of pjs :') PMSL i could have died!!! lmfaoo :') I MISS MY BOYS\",\n          \"hair, grow back!\"\n        ],\n        \"semantic_type\": \"\",\n        \"description\": \"\"\n      }\n    }\n  ]\n}"
            }
          },
          "metadata": {},
          "execution_count": 19
        }
      ]
    },
    {
      "cell_type": "code",
      "source": [
        "df['content_clean'] = df['content_clean'].apply(clean_text)"
      ],
      "metadata": {
        "id": "yX2jrE2SDSsU"
      },
      "execution_count": null,
      "outputs": []
    },
    {
      "cell_type": "code",
      "source": [
        "df.head(20)"
      ],
      "metadata": {
        "colab": {
          "base_uri": "https://localhost:8080/",
          "height": 676
        },
        "id": "LizxIJuPEumL",
        "outputId": "9e8611f9-3af9-4d51-e6ec-ec135382b8bd"
      },
      "execution_count": null,
      "outputs": [
        {
          "output_type": "execute_result",
          "data": {
            "text/plain": [
              "      tweet_id   sentiment                                            content  \\\n",
              "1   1956967666     sadness  Layin n bed with a headache  ughhhh...waitin o...   \n",
              "2   1956967696     sadness                Funeral ceremony...gloomy friday...   \n",
              "3   1956967789  enthusiasm               wants to hang out with friends SOON!   \n",
              "4   1956968416     neutral  @dannycastillo We want to trade with someone w...   \n",
              "5   1956968477       worry  Re-pinging @ghostridah14: why didn't you go to...   \n",
              "6   1956968487     sadness  I should be sleep, but im not! thinking about ...   \n",
              "7   1956968636       worry               Hmmm. http://www.djhero.com/ is down   \n",
              "8   1956969035     sadness            @charviray Charlene my love. I miss you   \n",
              "9   1956969172     sadness         @kelcouch I'm sorry  at least it's Friday?   \n",
              "10  1956969456     neutral                                   cant fall asleep   \n",
              "11  1956969531       worry                            Choked on her retainers   \n",
              "12  1956970047     sadness  Ugh! I have to beat this stupid song to get to...   \n",
              "13  1956970424     sadness  @BrodyJenner if u watch the hills in london u ...   \n",
              "14  1956970860    surprise                                       Got the news   \n",
              "15  1956971077     sadness      The storm is here and the electricity is gone   \n",
              "16  1956971170        love                               @annarosekerr agreed   \n",
              "17  1956971206     sadness  So sleepy again and it's not even that late. I...   \n",
              "18  1956971473       worry  @PerezHilton lady gaga tweeted about not being...   \n",
              "19  1956971586     sadness  How are YOU convinced that I have always wante...   \n",
              "20  1956971981       worry  @raaaaaaek oh too bad! I hope it gets better. ...   \n",
              "\n",
              "    clase                                      content_clean  \n",
              "1     0.0                 layin n bed headache ughhhh waitin  \n",
              "2     0.0                     funeral ceremony gloomy friday  \n",
              "3     3.0                            wants hang friends soon  \n",
              "4     2.0                         want trade houston tickets  \n",
              "5     1.0                    pinging prom bc bf like friends  \n",
              "6     0.0  sleep m thinking old friend want married damn ...  \n",
              "7     1.0                                               hmmm  \n",
              "8     0.0                                 charlene love miss  \n",
              "9     0.0                                       sorry friday  \n",
              "10    2.0                                     nt fall asleep  \n",
              "11    1.0                                   choked retainers  \n",
              "12    0.0                          ugh beat stupid song rude  \n",
              "13    0.0  watch hills london realise tourture weeks week...  \n",
              "14    3.0                                           got news  \n",
              "15    0.0                             storm electricity gone  \n",
              "16    4.0                                             agreed  \n",
              "17    0.0                                   sleepy late fail  \n",
              "18    1.0     lady gaga tweeted impressed video leaking know  \n",
              "19    0.0    convinced wanted signals damn think lost friend  \n",
              "20    1.0  oh bad hope gets better having sleep issues la...  "
            ],
            "text/html": [
              "\n",
              "  <div id=\"df-ea1d654c-720f-458f-8812-317c5f235e06\" class=\"colab-df-container\">\n",
              "    <div>\n",
              "<style scoped>\n",
              "    .dataframe tbody tr th:only-of-type {\n",
              "        vertical-align: middle;\n",
              "    }\n",
              "\n",
              "    .dataframe tbody tr th {\n",
              "        vertical-align: top;\n",
              "    }\n",
              "\n",
              "    .dataframe thead th {\n",
              "        text-align: right;\n",
              "    }\n",
              "</style>\n",
              "<table border=\"1\" class=\"dataframe\">\n",
              "  <thead>\n",
              "    <tr style=\"text-align: right;\">\n",
              "      <th></th>\n",
              "      <th>tweet_id</th>\n",
              "      <th>sentiment</th>\n",
              "      <th>content</th>\n",
              "      <th>clase</th>\n",
              "      <th>content_clean</th>\n",
              "    </tr>\n",
              "  </thead>\n",
              "  <tbody>\n",
              "    <tr>\n",
              "      <th>1</th>\n",
              "      <td>1956967666</td>\n",
              "      <td>sadness</td>\n",
              "      <td>Layin n bed with a headache  ughhhh...waitin o...</td>\n",
              "      <td>0.0</td>\n",
              "      <td>layin n bed headache ughhhh waitin</td>\n",
              "    </tr>\n",
              "    <tr>\n",
              "      <th>2</th>\n",
              "      <td>1956967696</td>\n",
              "      <td>sadness</td>\n",
              "      <td>Funeral ceremony...gloomy friday...</td>\n",
              "      <td>0.0</td>\n",
              "      <td>funeral ceremony gloomy friday</td>\n",
              "    </tr>\n",
              "    <tr>\n",
              "      <th>3</th>\n",
              "      <td>1956967789</td>\n",
              "      <td>enthusiasm</td>\n",
              "      <td>wants to hang out with friends SOON!</td>\n",
              "      <td>3.0</td>\n",
              "      <td>wants hang friends soon</td>\n",
              "    </tr>\n",
              "    <tr>\n",
              "      <th>4</th>\n",
              "      <td>1956968416</td>\n",
              "      <td>neutral</td>\n",
              "      <td>@dannycastillo We want to trade with someone w...</td>\n",
              "      <td>2.0</td>\n",
              "      <td>want trade houston tickets</td>\n",
              "    </tr>\n",
              "    <tr>\n",
              "      <th>5</th>\n",
              "      <td>1956968477</td>\n",
              "      <td>worry</td>\n",
              "      <td>Re-pinging @ghostridah14: why didn't you go to...</td>\n",
              "      <td>1.0</td>\n",
              "      <td>pinging prom bc bf like friends</td>\n",
              "    </tr>\n",
              "    <tr>\n",
              "      <th>6</th>\n",
              "      <td>1956968487</td>\n",
              "      <td>sadness</td>\n",
              "      <td>I should be sleep, but im not! thinking about ...</td>\n",
              "      <td>0.0</td>\n",
              "      <td>sleep m thinking old friend want married damn ...</td>\n",
              "    </tr>\n",
              "    <tr>\n",
              "      <th>7</th>\n",
              "      <td>1956968636</td>\n",
              "      <td>worry</td>\n",
              "      <td>Hmmm. http://www.djhero.com/ is down</td>\n",
              "      <td>1.0</td>\n",
              "      <td>hmmm</td>\n",
              "    </tr>\n",
              "    <tr>\n",
              "      <th>8</th>\n",
              "      <td>1956969035</td>\n",
              "      <td>sadness</td>\n",
              "      <td>@charviray Charlene my love. I miss you</td>\n",
              "      <td>0.0</td>\n",
              "      <td>charlene love miss</td>\n",
              "    </tr>\n",
              "    <tr>\n",
              "      <th>9</th>\n",
              "      <td>1956969172</td>\n",
              "      <td>sadness</td>\n",
              "      <td>@kelcouch I'm sorry  at least it's Friday?</td>\n",
              "      <td>0.0</td>\n",
              "      <td>sorry friday</td>\n",
              "    </tr>\n",
              "    <tr>\n",
              "      <th>10</th>\n",
              "      <td>1956969456</td>\n",
              "      <td>neutral</td>\n",
              "      <td>cant fall asleep</td>\n",
              "      <td>2.0</td>\n",
              "      <td>nt fall asleep</td>\n",
              "    </tr>\n",
              "    <tr>\n",
              "      <th>11</th>\n",
              "      <td>1956969531</td>\n",
              "      <td>worry</td>\n",
              "      <td>Choked on her retainers</td>\n",
              "      <td>1.0</td>\n",
              "      <td>choked retainers</td>\n",
              "    </tr>\n",
              "    <tr>\n",
              "      <th>12</th>\n",
              "      <td>1956970047</td>\n",
              "      <td>sadness</td>\n",
              "      <td>Ugh! I have to beat this stupid song to get to...</td>\n",
              "      <td>0.0</td>\n",
              "      <td>ugh beat stupid song rude</td>\n",
              "    </tr>\n",
              "    <tr>\n",
              "      <th>13</th>\n",
              "      <td>1956970424</td>\n",
              "      <td>sadness</td>\n",
              "      <td>@BrodyJenner if u watch the hills in london u ...</td>\n",
              "      <td>0.0</td>\n",
              "      <td>watch hills london realise tourture weeks week...</td>\n",
              "    </tr>\n",
              "    <tr>\n",
              "      <th>14</th>\n",
              "      <td>1956970860</td>\n",
              "      <td>surprise</td>\n",
              "      <td>Got the news</td>\n",
              "      <td>3.0</td>\n",
              "      <td>got news</td>\n",
              "    </tr>\n",
              "    <tr>\n",
              "      <th>15</th>\n",
              "      <td>1956971077</td>\n",
              "      <td>sadness</td>\n",
              "      <td>The storm is here and the electricity is gone</td>\n",
              "      <td>0.0</td>\n",
              "      <td>storm electricity gone</td>\n",
              "    </tr>\n",
              "    <tr>\n",
              "      <th>16</th>\n",
              "      <td>1956971170</td>\n",
              "      <td>love</td>\n",
              "      <td>@annarosekerr agreed</td>\n",
              "      <td>4.0</td>\n",
              "      <td>agreed</td>\n",
              "    </tr>\n",
              "    <tr>\n",
              "      <th>17</th>\n",
              "      <td>1956971206</td>\n",
              "      <td>sadness</td>\n",
              "      <td>So sleepy again and it's not even that late. I...</td>\n",
              "      <td>0.0</td>\n",
              "      <td>sleepy late fail</td>\n",
              "    </tr>\n",
              "    <tr>\n",
              "      <th>18</th>\n",
              "      <td>1956971473</td>\n",
              "      <td>worry</td>\n",
              "      <td>@PerezHilton lady gaga tweeted about not being...</td>\n",
              "      <td>1.0</td>\n",
              "      <td>lady gaga tweeted impressed video leaking know</td>\n",
              "    </tr>\n",
              "    <tr>\n",
              "      <th>19</th>\n",
              "      <td>1956971586</td>\n",
              "      <td>sadness</td>\n",
              "      <td>How are YOU convinced that I have always wante...</td>\n",
              "      <td>0.0</td>\n",
              "      <td>convinced wanted signals damn think lost friend</td>\n",
              "    </tr>\n",
              "    <tr>\n",
              "      <th>20</th>\n",
              "      <td>1956971981</td>\n",
              "      <td>worry</td>\n",
              "      <td>@raaaaaaek oh too bad! I hope it gets better. ...</td>\n",
              "      <td>1.0</td>\n",
              "      <td>oh bad hope gets better having sleep issues la...</td>\n",
              "    </tr>\n",
              "  </tbody>\n",
              "</table>\n",
              "</div>\n",
              "    <div class=\"colab-df-buttons\">\n",
              "\n",
              "  <div class=\"colab-df-container\">\n",
              "    <button class=\"colab-df-convert\" onclick=\"convertToInteractive('df-ea1d654c-720f-458f-8812-317c5f235e06')\"\n",
              "            title=\"Convert this dataframe to an interactive table.\"\n",
              "            style=\"display:none;\">\n",
              "\n",
              "  <svg xmlns=\"http://www.w3.org/2000/svg\" height=\"24px\" viewBox=\"0 -960 960 960\">\n",
              "    <path d=\"M120-120v-720h720v720H120Zm60-500h600v-160H180v160Zm220 220h160v-160H400v160Zm0 220h160v-160H400v160ZM180-400h160v-160H180v160Zm440 0h160v-160H620v160ZM180-180h160v-160H180v160Zm440 0h160v-160H620v160Z\"/>\n",
              "  </svg>\n",
              "    </button>\n",
              "\n",
              "  <style>\n",
              "    .colab-df-container {\n",
              "      display:flex;\n",
              "      gap: 12px;\n",
              "    }\n",
              "\n",
              "    .colab-df-convert {\n",
              "      background-color: #E8F0FE;\n",
              "      border: none;\n",
              "      border-radius: 50%;\n",
              "      cursor: pointer;\n",
              "      display: none;\n",
              "      fill: #1967D2;\n",
              "      height: 32px;\n",
              "      padding: 0 0 0 0;\n",
              "      width: 32px;\n",
              "    }\n",
              "\n",
              "    .colab-df-convert:hover {\n",
              "      background-color: #E2EBFA;\n",
              "      box-shadow: 0px 1px 2px rgba(60, 64, 67, 0.3), 0px 1px 3px 1px rgba(60, 64, 67, 0.15);\n",
              "      fill: #174EA6;\n",
              "    }\n",
              "\n",
              "    .colab-df-buttons div {\n",
              "      margin-bottom: 4px;\n",
              "    }\n",
              "\n",
              "    [theme=dark] .colab-df-convert {\n",
              "      background-color: #3B4455;\n",
              "      fill: #D2E3FC;\n",
              "    }\n",
              "\n",
              "    [theme=dark] .colab-df-convert:hover {\n",
              "      background-color: #434B5C;\n",
              "      box-shadow: 0px 1px 3px 1px rgba(0, 0, 0, 0.15);\n",
              "      filter: drop-shadow(0px 1px 2px rgba(0, 0, 0, 0.3));\n",
              "      fill: #FFFFFF;\n",
              "    }\n",
              "  </style>\n",
              "\n",
              "    <script>\n",
              "      const buttonEl =\n",
              "        document.querySelector('#df-ea1d654c-720f-458f-8812-317c5f235e06 button.colab-df-convert');\n",
              "      buttonEl.style.display =\n",
              "        google.colab.kernel.accessAllowed ? 'block' : 'none';\n",
              "\n",
              "      async function convertToInteractive(key) {\n",
              "        const element = document.querySelector('#df-ea1d654c-720f-458f-8812-317c5f235e06');\n",
              "        const dataTable =\n",
              "          await google.colab.kernel.invokeFunction('convertToInteractive',\n",
              "                                                    [key], {});\n",
              "        if (!dataTable) return;\n",
              "\n",
              "        const docLinkHtml = 'Like what you see? Visit the ' +\n",
              "          '<a target=\"_blank\" href=https://colab.research.google.com/notebooks/data_table.ipynb>data table notebook</a>'\n",
              "          + ' to learn more about interactive tables.';\n",
              "        element.innerHTML = '';\n",
              "        dataTable['output_type'] = 'display_data';\n",
              "        await google.colab.output.renderOutput(dataTable, element);\n",
              "        const docLink = document.createElement('div');\n",
              "        docLink.innerHTML = docLinkHtml;\n",
              "        element.appendChild(docLink);\n",
              "      }\n",
              "    </script>\n",
              "  </div>\n",
              "\n",
              "\n",
              "<div id=\"df-78263cf5-1093-4593-a222-9006c4cf65f2\">\n",
              "  <button class=\"colab-df-quickchart\" onclick=\"quickchart('df-78263cf5-1093-4593-a222-9006c4cf65f2')\"\n",
              "            title=\"Suggest charts\"\n",
              "            style=\"display:none;\">\n",
              "\n",
              "<svg xmlns=\"http://www.w3.org/2000/svg\" height=\"24px\"viewBox=\"0 0 24 24\"\n",
              "     width=\"24px\">\n",
              "    <g>\n",
              "        <path d=\"M19 3H5c-1.1 0-2 .9-2 2v14c0 1.1.9 2 2 2h14c1.1 0 2-.9 2-2V5c0-1.1-.9-2-2-2zM9 17H7v-7h2v7zm4 0h-2V7h2v10zm4 0h-2v-4h2v4z\"/>\n",
              "    </g>\n",
              "</svg>\n",
              "  </button>\n",
              "\n",
              "<style>\n",
              "  .colab-df-quickchart {\n",
              "      --bg-color: #E8F0FE;\n",
              "      --fill-color: #1967D2;\n",
              "      --hover-bg-color: #E2EBFA;\n",
              "      --hover-fill-color: #174EA6;\n",
              "      --disabled-fill-color: #AAA;\n",
              "      --disabled-bg-color: #DDD;\n",
              "  }\n",
              "\n",
              "  [theme=dark] .colab-df-quickchart {\n",
              "      --bg-color: #3B4455;\n",
              "      --fill-color: #D2E3FC;\n",
              "      --hover-bg-color: #434B5C;\n",
              "      --hover-fill-color: #FFFFFF;\n",
              "      --disabled-bg-color: #3B4455;\n",
              "      --disabled-fill-color: #666;\n",
              "  }\n",
              "\n",
              "  .colab-df-quickchart {\n",
              "    background-color: var(--bg-color);\n",
              "    border: none;\n",
              "    border-radius: 50%;\n",
              "    cursor: pointer;\n",
              "    display: none;\n",
              "    fill: var(--fill-color);\n",
              "    height: 32px;\n",
              "    padding: 0;\n",
              "    width: 32px;\n",
              "  }\n",
              "\n",
              "  .colab-df-quickchart:hover {\n",
              "    background-color: var(--hover-bg-color);\n",
              "    box-shadow: 0 1px 2px rgba(60, 64, 67, 0.3), 0 1px 3px 1px rgba(60, 64, 67, 0.15);\n",
              "    fill: var(--button-hover-fill-color);\n",
              "  }\n",
              "\n",
              "  .colab-df-quickchart-complete:disabled,\n",
              "  .colab-df-quickchart-complete:disabled:hover {\n",
              "    background-color: var(--disabled-bg-color);\n",
              "    fill: var(--disabled-fill-color);\n",
              "    box-shadow: none;\n",
              "  }\n",
              "\n",
              "  .colab-df-spinner {\n",
              "    border: 2px solid var(--fill-color);\n",
              "    border-color: transparent;\n",
              "    border-bottom-color: var(--fill-color);\n",
              "    animation:\n",
              "      spin 1s steps(1) infinite;\n",
              "  }\n",
              "\n",
              "  @keyframes spin {\n",
              "    0% {\n",
              "      border-color: transparent;\n",
              "      border-bottom-color: var(--fill-color);\n",
              "      border-left-color: var(--fill-color);\n",
              "    }\n",
              "    20% {\n",
              "      border-color: transparent;\n",
              "      border-left-color: var(--fill-color);\n",
              "      border-top-color: var(--fill-color);\n",
              "    }\n",
              "    30% {\n",
              "      border-color: transparent;\n",
              "      border-left-color: var(--fill-color);\n",
              "      border-top-color: var(--fill-color);\n",
              "      border-right-color: var(--fill-color);\n",
              "    }\n",
              "    40% {\n",
              "      border-color: transparent;\n",
              "      border-right-color: var(--fill-color);\n",
              "      border-top-color: var(--fill-color);\n",
              "    }\n",
              "    60% {\n",
              "      border-color: transparent;\n",
              "      border-right-color: var(--fill-color);\n",
              "    }\n",
              "    80% {\n",
              "      border-color: transparent;\n",
              "      border-right-color: var(--fill-color);\n",
              "      border-bottom-color: var(--fill-color);\n",
              "    }\n",
              "    90% {\n",
              "      border-color: transparent;\n",
              "      border-bottom-color: var(--fill-color);\n",
              "    }\n",
              "  }\n",
              "</style>\n",
              "\n",
              "  <script>\n",
              "    async function quickchart(key) {\n",
              "      const quickchartButtonEl =\n",
              "        document.querySelector('#' + key + ' button');\n",
              "      quickchartButtonEl.disabled = true;  // To prevent multiple clicks.\n",
              "      quickchartButtonEl.classList.add('colab-df-spinner');\n",
              "      try {\n",
              "        const charts = await google.colab.kernel.invokeFunction(\n",
              "            'suggestCharts', [key], {});\n",
              "      } catch (error) {\n",
              "        console.error('Error during call to suggestCharts:', error);\n",
              "      }\n",
              "      quickchartButtonEl.classList.remove('colab-df-spinner');\n",
              "      quickchartButtonEl.classList.add('colab-df-quickchart-complete');\n",
              "    }\n",
              "    (() => {\n",
              "      let quickchartButtonEl =\n",
              "        document.querySelector('#df-78263cf5-1093-4593-a222-9006c4cf65f2 button');\n",
              "      quickchartButtonEl.style.display =\n",
              "        google.colab.kernel.accessAllowed ? 'block' : 'none';\n",
              "    })();\n",
              "  </script>\n",
              "</div>\n",
              "\n",
              "    </div>\n",
              "  </div>\n"
            ],
            "application/vnd.google.colaboratory.intrinsic+json": {
              "type": "dataframe",
              "variable_name": "df",
              "summary": "{\n  \"name\": \"df\",\n  \"rows\": 39173,\n  \"fields\": [\n    {\n      \"column\": \"tweet_id\",\n      \"properties\": {\n        \"dtype\": \"number\",\n        \"std\": 118833374,\n        \"min\": 1693956189,\n        \"max\": 1966441171,\n        \"num_unique_values\": 39173,\n        \"samples\": [\n          1963875034,\n          1695374566,\n          1695963429\n        ],\n        \"semantic_type\": \"\",\n        \"description\": \"\"\n      }\n    },\n    {\n      \"column\": \"sentiment\",\n      \"properties\": {\n        \"dtype\": \"category\",\n        \"num_unique_values\": 12,\n        \"samples\": [\n          \"relief\",\n          \"boredom\",\n          \"sadness\"\n        ],\n        \"semantic_type\": \"\",\n        \"description\": \"\"\n      }\n    },\n    {\n      \"column\": \"content\",\n      \"properties\": {\n        \"dtype\": \"string\",\n        \"num_unique_values\": 39006,\n        \"samples\": [\n          \"Finished dexter season2    start on season 3 next week?\",\n          \"Who's going out tonight? I want to go out  xxx\",\n          \"Had a pretty good day. Let's see how the night goes. ;-) oh I have to work all day tomorrow no picnic for me\"\n        ],\n        \"semantic_type\": \"\",\n        \"description\": \"\"\n      }\n    },\n    {\n      \"column\": \"clase\",\n      \"properties\": {\n        \"dtype\": \"number\",\n        \"std\": 1.3905315283096564,\n        \"min\": 0.0,\n        \"max\": 4.0,\n        \"num_unique_values\": 5,\n        \"samples\": [\n          3.0,\n          4.0,\n          2.0\n        ],\n        \"semantic_type\": \"\",\n        \"description\": \"\"\n      }\n    },\n    {\n      \"column\": \"content_clean\",\n      \"properties\": {\n        \"dtype\": \"string\",\n        \"num_unique_values\": 37273,\n        \"samples\": [\n          \"temporary tattoo totally sad died\",\n          \"funny sitting external keyboard mouse macbook bed looks strange comfortable\",\n          \"fix guess write bored watch tv man lame\"\n        ],\n        \"semantic_type\": \"\",\n        \"description\": \"\"\n      }\n    }\n  ]\n}"
            }
          },
          "metadata": {},
          "execution_count": 21
        }
      ]
    },
    {
      "cell_type": "code",
      "source": [
        "df['content_clean'] = df['content_clean'].str.replace(r'\\bgf\\b', 'girlfriend', regex=True)\n",
        "df['content_clean'] = df['content_clean'].str.replace(r'\\bbf\\b', 'boyfriend', regex=True)\n",
        "df['content_clean'] = df['content_clean'].str.replace(r'\\bbc\\b', 'because', regex=True)\n",
        "df['content_clean'] = df['content_clean'].str.replace(r'\\bbff\\b', 'best friends forever', regex=True)"
      ],
      "metadata": {
        "id": "MxBd2GVEsBjb"
      },
      "execution_count": null,
      "outputs": []
    },
    {
      "cell_type": "markdown",
      "source": [],
      "metadata": {
        "id": "cIs_jwBYCJis"
      }
    },
    {
      "cell_type": "code",
      "source": [
        "df.info()"
      ],
      "metadata": {
        "colab": {
          "base_uri": "https://localhost:8080/"
        },
        "id": "TtJ2BNZHB827",
        "outputId": "ddfec898-d691-43c3-ccaa-7fe9ca9df5b4"
      },
      "execution_count": null,
      "outputs": [
        {
          "output_type": "stream",
          "name": "stdout",
          "text": [
            "<class 'pandas.core.frame.DataFrame'>\n",
            "Int64Index: 39027 entries, 1 to 39999\n",
            "Data columns (total 5 columns):\n",
            " #   Column         Non-Null Count  Dtype  \n",
            "---  ------         --------------  -----  \n",
            " 0   tweet_id       39027 non-null  int64  \n",
            " 1   sentiment      39027 non-null  object \n",
            " 2   content        39027 non-null  object \n",
            " 3   clase          39027 non-null  float64\n",
            " 4   content_clean  39027 non-null  object \n",
            "dtypes: float64(1), int64(1), object(3)\n",
            "memory usage: 1.8+ MB\n"
          ]
        }
      ]
    },
    {
      "cell_type": "code",
      "source": [
        "# Limpiar los espacios en blanco en la columna\n",
        "df['content_clean'] = df['content_clean'].str.replace(r'\\s+', ' ', regex=True)"
      ],
      "metadata": {
        "id": "fm-MB-NBp_HH"
      },
      "execution_count": null,
      "outputs": []
    },
    {
      "cell_type": "code",
      "source": [
        "df['clase'].value_counts(1) #clases desbalanceadas"
      ],
      "metadata": {
        "colab": {
          "base_uri": "https://localhost:8080/"
        },
        "id": "0zKzueMmJ0cF",
        "outputId": "0251b80b-6dfa-48da-d15e-e8fef9d32154"
      },
      "execution_count": null,
      "outputs": [
        {
          "output_type": "execute_result",
          "data": {
            "text/plain": [
              "0    0.376425\n",
              "2    0.344325\n",
              "1    0.279250\n",
              "Name: clase, dtype: float64"
            ]
          },
          "metadata": {},
          "execution_count": 21
        }
      ]
    },
    {
      "cell_type": "code",
      "source": [
        "pip install stylecloud"
      ],
      "metadata": {
        "colab": {
          "base_uri": "https://localhost:8080/"
        },
        "id": "tbouvhDdFeKV",
        "outputId": "59239d6f-28b8-4212-d9fe-cdc6a3eb1310"
      },
      "execution_count": null,
      "outputs": [
        {
          "output_type": "stream",
          "name": "stdout",
          "text": [
            "Collecting stylecloud\n",
            "  Downloading stylecloud-0.5.2.tar.gz (262 kB)\n",
            "\u001b[2K     \u001b[90m━━━━━━━━━━━━━━━━━━━━━━━━━━━━━━━━━━━━━━━━\u001b[0m \u001b[32m262.1/262.1 kB\u001b[0m \u001b[31m1.8 MB/s\u001b[0m eta \u001b[36m0:00:00\u001b[0m\n",
            "\u001b[?25h  Preparing metadata (setup.py) ... \u001b[?25l\u001b[?25hdone\n",
            "Requirement already satisfied: wordcloud in /usr/local/lib/python3.10/dist-packages (from stylecloud) (1.9.3)\n",
            "Collecting icon-font-to-png (from stylecloud)\n",
            "  Downloading icon_font_to_png-0.4.1-py2.py3-none-any.whl (161 kB)\n",
            "\u001b[2K     \u001b[90m━━━━━━━━━━━━━━━━━━━━━━━━━━━━━━━━━━━━━━━━\u001b[0m \u001b[32m161.4/161.4 kB\u001b[0m \u001b[31m2.3 MB/s\u001b[0m eta \u001b[36m0:00:00\u001b[0m\n",
            "\u001b[?25hCollecting palettable (from stylecloud)\n",
            "  Downloading palettable-3.3.3-py2.py3-none-any.whl (332 kB)\n",
            "\u001b[2K     \u001b[90m━━━━━━━━━━━━━━━━━━━━━━━━━━━━━━━━━━━━━━━━\u001b[0m \u001b[32m332.3/332.3 kB\u001b[0m \u001b[31m2.5 MB/s\u001b[0m eta \u001b[36m0:00:00\u001b[0m\n",
            "\u001b[?25hCollecting fire (from stylecloud)\n",
            "  Downloading fire-0.6.0.tar.gz (88 kB)\n",
            "\u001b[2K     \u001b[90m━━━━━━━━━━━━━━━━━━━━━━━━━━━━━━━━━━━━━━━━\u001b[0m \u001b[32m88.4/88.4 kB\u001b[0m \u001b[31m2.6 MB/s\u001b[0m eta \u001b[36m0:00:00\u001b[0m\n",
            "\u001b[?25h  Preparing metadata (setup.py) ... \u001b[?25l\u001b[?25hdone\n",
            "Requirement already satisfied: matplotlib in /usr/local/lib/python3.10/dist-packages (from stylecloud) (3.7.1)\n",
            "Requirement already satisfied: six in /usr/local/lib/python3.10/dist-packages (from fire->stylecloud) (1.16.0)\n",
            "Requirement already satisfied: termcolor in /usr/local/lib/python3.10/dist-packages (from fire->stylecloud) (2.4.0)\n",
            "Requirement already satisfied: Pillow>=4.0.0 in /usr/local/lib/python3.10/dist-packages (from icon-font-to-png->stylecloud) (9.4.0)\n",
            "Requirement already satisfied: requests>=2.12.5 in /usr/local/lib/python3.10/dist-packages (from icon-font-to-png->stylecloud) (2.31.0)\n",
            "Collecting tinycss>=0.4 (from icon-font-to-png->stylecloud)\n",
            "  Downloading tinycss-0.4.tar.gz (87 kB)\n",
            "\u001b[2K     \u001b[90m━━━━━━━━━━━━━━━━━━━━━━━━━━━━━━━━━━━━━━━━\u001b[0m \u001b[32m87.8/87.8 kB\u001b[0m \u001b[31m394.4 kB/s\u001b[0m eta \u001b[36m0:00:00\u001b[0m\n",
            "\u001b[?25h  Preparing metadata (setup.py) ... \u001b[?25l\u001b[?25hdone\n",
            "Requirement already satisfied: contourpy>=1.0.1 in /usr/local/lib/python3.10/dist-packages (from matplotlib->stylecloud) (1.2.0)\n",
            "Requirement already satisfied: cycler>=0.10 in /usr/local/lib/python3.10/dist-packages (from matplotlib->stylecloud) (0.12.1)\n",
            "Requirement already satisfied: fonttools>=4.22.0 in /usr/local/lib/python3.10/dist-packages (from matplotlib->stylecloud) (4.49.0)\n",
            "Requirement already satisfied: kiwisolver>=1.0.1 in /usr/local/lib/python3.10/dist-packages (from matplotlib->stylecloud) (1.4.5)\n",
            "Requirement already satisfied: numpy>=1.20 in /usr/local/lib/python3.10/dist-packages (from matplotlib->stylecloud) (1.25.2)\n",
            "Requirement already satisfied: packaging>=20.0 in /usr/local/lib/python3.10/dist-packages (from matplotlib->stylecloud) (24.0)\n",
            "Requirement already satisfied: pyparsing>=2.3.1 in /usr/local/lib/python3.10/dist-packages (from matplotlib->stylecloud) (3.1.2)\n",
            "Requirement already satisfied: python-dateutil>=2.7 in /usr/local/lib/python3.10/dist-packages (from matplotlib->stylecloud) (2.8.2)\n",
            "Requirement already satisfied: charset-normalizer<4,>=2 in /usr/local/lib/python3.10/dist-packages (from requests>=2.12.5->icon-font-to-png->stylecloud) (3.3.2)\n",
            "Requirement already satisfied: idna<4,>=2.5 in /usr/local/lib/python3.10/dist-packages (from requests>=2.12.5->icon-font-to-png->stylecloud) (3.6)\n",
            "Requirement already satisfied: urllib3<3,>=1.21.1 in /usr/local/lib/python3.10/dist-packages (from requests>=2.12.5->icon-font-to-png->stylecloud) (2.0.7)\n",
            "Requirement already satisfied: certifi>=2017.4.17 in /usr/local/lib/python3.10/dist-packages (from requests>=2.12.5->icon-font-to-png->stylecloud) (2024.2.2)\n",
            "Building wheels for collected packages: stylecloud, fire, tinycss\n",
            "  Building wheel for stylecloud (setup.py) ... \u001b[?25l\u001b[?25hdone\n",
            "  Created wheel for stylecloud: filename=stylecloud-0.5.2-py3-none-any.whl size=259494 sha256=5a8974f947a89cdb056652ef14555d68ed681b304156c828ef9025145999982b\n",
            "  Stored in directory: /root/.cache/pip/wheels/aa/c8/27/9374f4fc7133015d902b5e2c75ad951edd57eb1ae948495915\n",
            "  Building wheel for fire (setup.py) ... \u001b[?25l\u001b[?25hdone\n",
            "  Created wheel for fire: filename=fire-0.6.0-py2.py3-none-any.whl size=117029 sha256=74256e93cf04e1656fe9871437120a4f454c3317a94bb95c8a4be8f8db153762\n",
            "  Stored in directory: /root/.cache/pip/wheels/d6/6d/5d/5b73fa0f46d01a793713f8859201361e9e581ced8c75e5c6a3\n",
            "  Building wheel for tinycss (setup.py) ... \u001b[?25l\u001b[?25hdone\n",
            "  Created wheel for tinycss: filename=tinycss-0.4-cp310-cp310-linux_x86_64.whl size=307714 sha256=05a4740cba3feb0a73b77c3d15a9cad693a0a0ca4a3a497151b6c950d0b39c01\n",
            "  Stored in directory: /root/.cache/pip/wheels/39/52/4c/ca7bc9c8bb0fc4789d806bf78cac9d230efb3d3d8082e247c6\n",
            "Successfully built stylecloud fire tinycss\n",
            "Installing collected packages: tinycss, palettable, fire, icon-font-to-png, stylecloud\n",
            "Successfully installed fire-0.6.0 icon-font-to-png-0.4.1 palettable-3.3.3 stylecloud-0.5.2 tinycss-0.4\n"
          ]
        }
      ]
    },
    {
      "cell_type": "code",
      "source": [
        "import stylecloud\n",
        "\n",
        "text = ' '.join(df['content_clean'])\n",
        "\n",
        "# Generar la nube de palabras con stylecloud\n",
        "stylecloud.gen_stylecloud(text=text,\n",
        "                          palette='matplotlib.Viridis_10',  # Selecciona una paleta de colores\n",
        "                          icon_name='fas fa-cloud',  # Icono de la nube de palabras\n",
        "                          size=1024,  # Tamaño de la imagen en píxeles\n",
        "                          output_name='wordcloud_clean.png'  # Nombre del archivo de salida\n",
        "                          )"
      ],
      "metadata": {
        "id": "6242y3kYFW5K"
      },
      "execution_count": null,
      "outputs": []
    },
    {
      "cell_type": "code",
      "source": [
        "from PIL import Image\n",
        "\n",
        "# Cargar la imagen de la nube de palabras generada\n",
        "wordcloud_image = Image.open('wordcloud_clean.png')\n",
        "\n",
        "# Mostrar la imagen con matplotlib\n",
        "plt.figure(figsize=(10, 8))\n",
        "plt.imshow(wordcloud_image, interpolation='bilinear')\n",
        "plt.axis('off')  # Oculta los ejes\n",
        "plt.show()\n"
      ],
      "metadata": {
        "colab": {
          "base_uri": "https://localhost:8080/",
          "height": 653
        },
        "id": "29qjERaJFiQj",
        "outputId": "e48372a5-6966-4cc2-e447-73713c6115e1"
      },
      "execution_count": null,
      "outputs": [
        {
          "output_type": "display_data",
          "data": {
            "text/plain": [
              "<Figure size 1000x800 with 1 Axes>"
            ],
            "image/png": "[encoded data removed]"
          },
          "metadata": {}
        }
      ]
    },
    {
      "cell_type": "code",
      "source": [
        "df['content_clean'] = df['content_clean'].str.replace('quot', '')"
      ],
      "metadata": {
        "id": "1dnbS8WqFX11"
      },
      "execution_count": null,
      "outputs": []
    },
    {
      "cell_type": "code",
      "source": [
        "df['content_clean'] = df['content_clean'].str.replace('amp', '')"
      ],
      "metadata": {
        "id": "i9-TDiQtRLze"
      },
      "execution_count": null,
      "outputs": []
    },
    {
      "cell_type": "code",
      "source": [
        "def reemplazar_letras_repetidas(texto):\n",
        "    return re.sub(r'(.)\\1{2,}', r'\\1', texto)\n",
        "\n",
        "# Aplicar la función reemplazar_letras_repetidas a la columna 'texto' del DataFrame\n",
        "df['content_clean'] = df['content_clean'].apply(reemplazar_letras_repetidas)"
      ],
      "metadata": {
        "id": "5gwKCg7rU0LE"
      },
      "execution_count": null,
      "outputs": []
    },
    {
      "cell_type": "code",
      "source": [
        "# de palabras por oracion\n",
        "df2=df.copy()\n",
        "df2['num_palabras']=df2['content'].map(lambda x: len(x.split()))\n",
        "num_palabras=df2.groupby(['sentiment','num_palabras'])['tweet_id'].count().reset_index()"
      ],
      "metadata": {
        "id": "08GweoLwTcJK"
      },
      "execution_count": null,
      "outputs": []
    },
    {
      "cell_type": "code",
      "source": [
        "#num_palabras['content'].quantile([0,0.1,0.2,0.3,0.4,0.5,0.6,0.7,0.75,0.8,0.9])"
      ],
      "metadata": {
        "id": "dxN3lc0FsA-1"
      },
      "execution_count": null,
      "outputs": []
    },
    {
      "cell_type": "code",
      "source": [
        "fig = px.histogram(num_palabras, x=\"num_palabras\", y=\"tweet_id\",color='sentiment')\n",
        "fig.show()"
      ],
      "metadata": {
        "colab": {
          "base_uri": "https://localhost:8080/",
          "height": 542
        },
        "id": "0KvJ0Ir8qKKT",
        "outputId": "7196ca30-564e-46e5-9e61-950a445e1855"
      },
      "execution_count": null,
      "outputs": [
        {
          "output_type": "display_data",
          "data": {
            "text/html": [
              "<html>\n",
              "<head><meta charset=\"utf-8\" /></head>\n",
              "<body>\n",
              "    <div>            <script src=\"https://cdnjs.cloudflare.com/ajax/libs/mathjax/2.7.5/MathJax.js?config=TeX-AMS-MML_SVG\"></script><script type=\"text/javascript\">if (window.MathJax && window.MathJax.Hub && window.MathJax.Hub.Config) {window.MathJax.Hub.Config({SVG: {font: \"STIX-Web\"}});}</script>                <script type=\"text/javascript\">window.PlotlyConfig = {MathJaxConfig: 'local'};</script>\n",
              "        <script charset=\"utf-8\" src=\"https://cdn.plot.ly/plotly-2.24.1.min.js\"></script>                <div id=\"b3ea5ebc-d8be-4c89-97a4-33feb7309f31\" class=\"plotly-graph-div\" style=\"height:525px; width:100%;\"></div>            <script type=\"text/javascript\">                                    window.PLOTLYENV=window.PLOTLYENV || {};                                    if (document.getElementById(\"b3ea5ebc-d8be-4c89-97a4-33feb7309f31\")) {                    Plotly.newPlot(                        \"b3ea5ebc-d8be-4c89-97a4-33feb7309f31\",                        [{\"alignmentgroup\":\"True\",\"bingroup\":\"x\",\"histfunc\":\"sum\",\"hovertemplate\":\"sentiment=anger\\u003cbr\\u003enum_palabras=%{x}\\u003cbr\\u003esum of tweet_id=%{y}\\u003cextra\\u003e\\u003c\\u002fextra\\u003e\",\"legendgroup\":\"anger\",\"marker\":{\"color\":\"#636efa\",\"pattern\":{\"shape\":\"\"}},\"name\":\"anger\",\"offsetgroup\":\"anger\",\"orientation\":\"v\",\"showlegend\":true,\"x\":[1,2,3,4,5,6,7,8,9,10,11,12,13,14,15,16,17,18,19,20,21,22,23,24,25,26,27,30],\"xaxis\":\"x\",\"y\":[1,3,2,1,4,2,11,6,4,4,4,6,5,6,6,4,3,4,6,2,10,2,4,2,3,2,2,1],\"yaxis\":\"y\",\"type\":\"histogram\"},{\"alignmentgroup\":\"True\",\"bingroup\":\"x\",\"histfunc\":\"sum\",\"hovertemplate\":\"sentiment=boredom\\u003cbr\\u003enum_palabras=%{x}\\u003cbr\\u003esum of tweet_id=%{y}\\u003cextra\\u003e\\u003c\\u002fextra\\u003e\",\"legendgroup\":\"boredom\",\"marker\":{\"color\":\"#EF553B\",\"pattern\":{\"shape\":\"\"}},\"name\":\"boredom\",\"offsetgroup\":\"boredom\",\"orientation\":\"v\",\"showlegend\":true,\"x\":[2,3,4,5,6,7,8,9,10,11,12,13,14,15,16,17,18,19,20,21,22,23,24,25,26,27,28,31],\"xaxis\":\"x\",\"y\":[1,6,5,10,9,8,14,9,6,8,13,7,10,5,5,10,10,1,6,2,10,2,11,3,5,1,1,1],\"yaxis\":\"y\",\"type\":\"histogram\"},{\"alignmentgroup\":\"True\",\"bingroup\":\"x\",\"histfunc\":\"sum\",\"hovertemplate\":\"sentiment=empty\\u003cbr\\u003enum_palabras=%{x}\\u003cbr\\u003esum of tweet_id=%{y}\\u003cextra\\u003e\\u003c\\u002fextra\\u003e\",\"legendgroup\":\"empty\",\"marker\":{\"color\":\"#00cc96\",\"pattern\":{\"shape\":\"\"}},\"name\":\"empty\",\"offsetgroup\":\"empty\",\"orientation\":\"v\",\"showlegend\":true,\"x\":[1,2,3,4,5,6,7,8,9,10,11,12,13,14,15,16,17,18,19,20,21,22,23,24,25,26,27,28,29,30],\"xaxis\":\"x\",\"y\":[17,24,48,49,57,50,43,57,45,38,43,37,34,29,33,29,22,19,20,19,15,23,15,14,15,14,9,2,4,3],\"yaxis\":\"y\",\"type\":\"histogram\"},{\"alignmentgroup\":\"True\",\"bingroup\":\"x\",\"histfunc\":\"sum\",\"hovertemplate\":\"sentiment=enthusiasm\\u003cbr\\u003enum_palabras=%{x}\\u003cbr\\u003esum of tweet_id=%{y}\\u003cextra\\u003e\\u003c\\u002fextra\\u003e\",\"legendgroup\":\"enthusiasm\",\"marker\":{\"color\":\"#ab63fa\",\"pattern\":{\"shape\":\"\"}},\"name\":\"enthusiasm\",\"offsetgroup\":\"enthusiasm\",\"orientation\":\"v\",\"showlegend\":true,\"x\":[2,3,4,5,6,7,8,9,10,11,12,13,14,15,16,17,18,19,20,21,22,23,24,25,26,27,28,29,30,31,32],\"xaxis\":\"x\",\"y\":[8,19,35,33,46,39,58,36,35,35,42,38,37,33,20,23,17,23,24,25,24,23,28,20,14,8,8,5,1,1,1],\"yaxis\":\"y\",\"type\":\"histogram\"},{\"alignmentgroup\":\"True\",\"bingroup\":\"x\",\"histfunc\":\"sum\",\"hovertemplate\":\"sentiment=fun\\u003cbr\\u003enum_palabras=%{x}\\u003cbr\\u003esum of tweet_id=%{y}\\u003cextra\\u003e\\u003c\\u002fextra\\u003e\",\"legendgroup\":\"fun\",\"marker\":{\"color\":\"#FFA15A\",\"pattern\":{\"shape\":\"\"}},\"name\":\"fun\",\"offsetgroup\":\"fun\",\"orientation\":\"v\",\"showlegend\":true,\"x\":[1,2,3,4,5,6,7,8,9,10,11,12,13,14,15,16,17,18,19,20,21,22,23,24,25,26,27,28,29,30],\"xaxis\":\"x\",\"y\":[1,7,24,40,49,91,87,100,114,83,95,94,91,85,85,79,62,58,64,70,68,57,85,51,46,32,27,19,9,3],\"yaxis\":\"y\",\"type\":\"histogram\"},{\"alignmentgroup\":\"True\",\"bingroup\":\"x\",\"histfunc\":\"sum\",\"hovertemplate\":\"sentiment=happiness\\u003cbr\\u003enum_palabras=%{x}\\u003cbr\\u003esum of tweet_id=%{y}\\u003cextra\\u003e\\u003c\\u002fextra\\u003e\",\"legendgroup\":\"happiness\",\"marker\":{\"color\":\"#19d3f3\",\"pattern\":{\"shape\":\"\"}},\"name\":\"happiness\",\"offsetgroup\":\"happiness\",\"orientation\":\"v\",\"showlegend\":true,\"x\":[1,2,3,4,5,6,7,8,9,10,11,12,13,14,15,16,17,18,19,20,21,22,23,24,25,26,27,28,29,30,31,32],\"xaxis\":\"x\",\"y\":[8,64,161,183,242,289,295,285,246,317,273,256,266,215,220,159,200,170,188,197,160,140,180,158,118,87,53,47,19,11,1,1],\"yaxis\":\"y\",\"type\":\"histogram\"},{\"alignmentgroup\":\"True\",\"bingroup\":\"x\",\"histfunc\":\"sum\",\"hovertemplate\":\"sentiment=hate\\u003cbr\\u003enum_palabras=%{x}\\u003cbr\\u003esum of tweet_id=%{y}\\u003cextra\\u003e\\u003c\\u002fextra\\u003e\",\"legendgroup\":\"hate\",\"marker\":{\"color\":\"#FF6692\",\"pattern\":{\"shape\":\"\"}},\"name\":\"hate\",\"offsetgroup\":\"hate\",\"orientation\":\"v\",\"showlegend\":true,\"x\":[2,3,4,5,6,7,8,9,10,11,12,13,14,15,16,17,18,19,20,21,22,23,24,25,26,27,28,29,30,31,32],\"xaxis\":\"x\",\"y\":[10,37,43,61,53,72,67,71,59,45,55,61,60,63,57,44,57,49,58,50,38,39,51,37,26,24,20,7,5,3,1],\"yaxis\":\"y\",\"type\":\"histogram\"},{\"alignmentgroup\":\"True\",\"bingroup\":\"x\",\"histfunc\":\"sum\",\"hovertemplate\":\"sentiment=love\\u003cbr\\u003enum_palabras=%{x}\\u003cbr\\u003esum of tweet_id=%{y}\\u003cextra\\u003e\\u003c\\u002fextra\\u003e\",\"legendgroup\":\"love\",\"marker\":{\"color\":\"#B6E880\",\"pattern\":{\"shape\":\"\"}},\"name\":\"love\",\"offsetgroup\":\"love\",\"orientation\":\"v\",\"showlegend\":true,\"x\":[1,2,3,4,5,6,7,8,9,10,11,12,13,14,15,16,17,18,19,20,21,22,23,24,25,26,27,28,29,30,31,32],\"xaxis\":\"x\",\"y\":[4,42,145,149,167,197,194,238,246,206,195,178,194,150,166,175,125,152,112,126,105,93,112,106,75,75,53,24,20,11,3,4],\"yaxis\":\"y\",\"type\":\"histogram\"},{\"alignmentgroup\":\"True\",\"bingroup\":\"x\",\"histfunc\":\"sum\",\"hovertemplate\":\"sentiment=neutral\\u003cbr\\u003enum_palabras=%{x}\\u003cbr\\u003esum of tweet_id=%{y}\\u003cextra\\u003e\\u003c\\u002fextra\\u003e\",\"legendgroup\":\"neutral\",\"marker\":{\"color\":\"#FF97FF\",\"pattern\":{\"shape\":\"\"}},\"name\":\"neutral\",\"offsetgroup\":\"neutral\",\"orientation\":\"v\",\"showlegend\":true,\"x\":[1,2,3,4,5,6,7,8,9,10,11,12,13,14,15,16,17,18,19,20,21,22,23,24,25,26,27,28,29,30,31,32,33],\"xaxis\":\"x\",\"y\":[98,289,512,569,573,603,545,522,509,423,387,375,306,319,261,271,216,234,210,247,210,184,195,156,139,99,81,65,17,11,9,2,1],\"yaxis\":\"y\",\"type\":\"histogram\"},{\"alignmentgroup\":\"True\",\"bingroup\":\"x\",\"histfunc\":\"sum\",\"hovertemplate\":\"sentiment=relief\\u003cbr\\u003enum_palabras=%{x}\\u003cbr\\u003esum of tweet_id=%{y}\\u003cextra\\u003e\\u003c\\u002fextra\\u003e\",\"legendgroup\":\"relief\",\"marker\":{\"color\":\"#FECB52\",\"pattern\":{\"shape\":\"\"}},\"name\":\"relief\",\"offsetgroup\":\"relief\",\"orientation\":\"v\",\"showlegend\":true,\"x\":[1,2,3,4,5,6,7,8,9,10,11,12,13,14,15,16,17,18,19,20,21,22,23,24,25,26,27,28,29,30,31,32],\"xaxis\":\"x\",\"y\":[3,14,47,49,77,66,78,82,72,75,63,80,71,69,72,63,69,75,43,55,53,44,39,46,38,30,22,18,4,6,2,1],\"yaxis\":\"y\",\"type\":\"histogram\"},{\"alignmentgroup\":\"True\",\"bingroup\":\"x\",\"histfunc\":\"sum\",\"hovertemplate\":\"sentiment=sadness\\u003cbr\\u003enum_palabras=%{x}\\u003cbr\\u003esum of tweet_id=%{y}\\u003cextra\\u003e\\u003c\\u002fextra\\u003e\",\"legendgroup\":\"sadness\",\"marker\":{\"color\":\"#636efa\",\"pattern\":{\"shape\":\"\"}},\"name\":\"sadness\",\"offsetgroup\":\"sadness\",\"orientation\":\"v\",\"showlegend\":true,\"x\":[1,2,3,4,5,6,7,8,9,10,11,12,13,14,15,16,17,18,19,20,21,22,23,24,25,26,27,28,29,30,31,32],\"xaxis\":\"x\",\"y\":[11,44,136,187,225,241,240,277,288,293,261,224,284,219,220,187,202,177,202,178,161,158,163,141,137,97,88,65,30,15,9,5],\"yaxis\":\"y\",\"type\":\"histogram\"},{\"alignmentgroup\":\"True\",\"bingroup\":\"x\",\"histfunc\":\"sum\",\"hovertemplate\":\"sentiment=surprise\\u003cbr\\u003enum_palabras=%{x}\\u003cbr\\u003esum of tweet_id=%{y}\\u003cextra\\u003e\\u003c\\u002fextra\\u003e\",\"legendgroup\":\"surprise\",\"marker\":{\"color\":\"#EF553B\",\"pattern\":{\"shape\":\"\"}},\"name\":\"surprise\",\"offsetgroup\":\"surprise\",\"orientation\":\"v\",\"showlegend\":true,\"x\":[1,2,3,4,5,6,7,8,9,10,11,12,13,14,15,16,17,18,19,20,21,22,23,24,25,26,27,28,29,30,31],\"xaxis\":\"x\",\"y\":[3,23,49,84,106,123,110,137,130,89,103,111,111,99,90,102,74,74,83,57,68,65,75,67,49,36,31,14,11,10,3],\"yaxis\":\"y\",\"type\":\"histogram\"},{\"alignmentgroup\":\"True\",\"bingroup\":\"x\",\"histfunc\":\"sum\",\"hovertemplate\":\"sentiment=worry\\u003cbr\\u003enum_palabras=%{x}\\u003cbr\\u003esum of tweet_id=%{y}\\u003cextra\\u003e\\u003c\\u002fextra\\u003e\",\"legendgroup\":\"worry\",\"marker\":{\"color\":\"#00cc96\",\"pattern\":{\"shape\":\"\"}},\"name\":\"worry\",\"offsetgroup\":\"worry\",\"orientation\":\"v\",\"showlegend\":true,\"x\":[1,2,3,4,5,6,7,8,9,10,11,12,13,14,15,16,17,18,19,20,21,22,23,24,25,26,27,28,29,30,31,32,33,34],\"xaxis\":\"x\",\"y\":[17,74,183,272,346,410,420,426,457,438,450,412,342,386,349,361,344,328,279,284,311,315,252,258,236,208,124,92,38,31,12,2,1,1],\"yaxis\":\"y\",\"type\":\"histogram\"}],                        {\"template\":{\"data\":{\"histogram2dcontour\":[{\"type\":\"histogram2dcontour\",\"colorbar\":{\"outlinewidth\":0,\"ticks\":\"\"},\"colorscale\":[[0.0,\"#0d0887\"],[0.1111111111111111,\"#46039f\"],[0.2222222222222222,\"#7201a8\"],[0.3333333333333333,\"#9c179e\"],[0.4444444444444444,\"#bd3786\"],[0.5555555555555556,\"#d8576b\"],[0.6666666666666666,\"#ed7953\"],[0.7777777777777778,\"#fb9f3a\"],[0.8888888888888888,\"#fdca26\"],[1.0,\"#f0f921\"]]}],\"choropleth\":[{\"type\":\"choropleth\",\"colorbar\":{\"outlinewidth\":0,\"ticks\":\"\"}}],\"histogram2d\":[{\"type\":\"histogram2d\",\"colorbar\":{\"outlinewidth\":0,\"ticks\":\"\"},\"colorscale\":[[0.0,\"#0d0887\"],[0.1111111111111111,\"#46039f\"],[0.2222222222222222,\"#7201a8\"],[0.3333333333333333,\"#9c179e\"],[0.4444444444444444,\"#bd3786\"],[0.5555555555555556,\"#d8576b\"],[0.6666666666666666,\"#ed7953\"],[0.7777777777777778,\"#fb9f3a\"],[0.8888888888888888,\"#fdca26\"],[1.0,\"#f0f921\"]]}],\"heatmap\":[{\"type\":\"heatmap\",\"colorbar\":{\"outlinewidth\":0,\"ticks\":\"\"},\"colorscale\":[[0.0,\"#0d0887\"],[0.1111111111111111,\"#46039f\"],[0.2222222222222222,\"#7201a8\"],[0.3333333333333333,\"#9c179e\"],[0.4444444444444444,\"#bd3786\"],[0.5555555555555556,\"#d8576b\"],[0.6666666666666666,\"#ed7953\"],[0.7777777777777778,\"#fb9f3a\"],[0.8888888888888888,\"#fdca26\"],[1.0,\"#f0f921\"]]}],\"heatmapgl\":[{\"type\":\"heatmapgl\",\"colorbar\":{\"outlinewidth\":0,\"ticks\":\"\"},\"colorscale\":[[0.0,\"#0d0887\"],[0.1111111111111111,\"#46039f\"],[0.2222222222222222,\"#7201a8\"],[0.3333333333333333,\"#9c179e\"],[0.4444444444444444,\"#bd3786\"],[0.5555555555555556,\"#d8576b\"],[0.6666666666666666,\"#ed7953\"],[0.7777777777777778,\"#fb9f3a\"],[0.8888888888888888,\"#fdca26\"],[1.0,\"#f0f921\"]]}],\"contourcarpet\":[{\"type\":\"contourcarpet\",\"colorbar\":{\"outlinewidth\":0,\"ticks\":\"\"}}],\"contour\":[{\"type\":\"contour\",\"colorbar\":{\"outlinewidth\":0,\"ticks\":\"\"},\"colorscale\":[[0.0,\"#0d0887\"],[0.1111111111111111,\"#46039f\"],[0.2222222222222222,\"#7201a8\"],[0.3333333333333333,\"#9c179e\"],[0.4444444444444444,\"#bd3786\"],[0.5555555555555556,\"#d8576b\"],[0.6666666666666666,\"#ed7953\"],[0.7777777777777778,\"#fb9f3a\"],[0.8888888888888888,\"#fdca26\"],[1.0,\"#f0f921\"]]}],\"surface\":[{\"type\":\"surface\",\"colorbar\":{\"outlinewidth\":0,\"ticks\":\"\"},\"colorscale\":[[0.0,\"#0d0887\"],[0.1111111111111111,\"#46039f\"],[0.2222222222222222,\"#7201a8\"],[0.3333333333333333,\"#9c179e\"],[0.4444444444444444,\"#bd3786\"],[0.5555555555555556,\"#d8576b\"],[0.6666666666666666,\"#ed7953\"],[0.7777777777777778,\"#fb9f3a\"],[0.8888888888888888,\"#fdca26\"],[1.0,\"#f0f921\"]]}],\"mesh3d\":[{\"type\":\"mesh3d\",\"colorbar\":{\"outlinewidth\":0,\"ticks\":\"\"}}],\"scatter\":[{\"fillpattern\":{\"fillmode\":\"overlay\",\"size\":10,\"solidity\":0.2},\"type\":\"scatter\"}],\"parcoords\":[{\"type\":\"parcoords\",\"line\":{\"colorbar\":{\"outlinewidth\":0,\"ticks\":\"\"}}}],\"scatterpolargl\":[{\"type\":\"scatterpolargl\",\"marker\":{\"colorbar\":{\"outlinewidth\":0,\"ticks\":\"\"}}}],\"bar\":[{\"error_x\":{\"color\":\"#2a3f5f\"},\"error_y\":{\"color\":\"#2a3f5f\"},\"marker\":{\"line\":{\"color\":\"#E5ECF6\",\"width\":0.5},\"pattern\":{\"fillmode\":\"overlay\",\"size\":10,\"solidity\":0.2}},\"type\":\"bar\"}],\"scattergeo\":[{\"type\":\"scattergeo\",\"marker\":{\"colorbar\":{\"outlinewidth\":0,\"ticks\":\"\"}}}],\"scatterpolar\":[{\"type\":\"scatterpolar\",\"marker\":{\"colorbar\":{\"outlinewidth\":0,\"ticks\":\"\"}}}],\"histogram\":[{\"marker\":{\"pattern\":{\"fillmode\":\"overlay\",\"size\":10,\"solidity\":0.2}},\"type\":\"histogram\"}],\"scattergl\":[{\"type\":\"scattergl\",\"marker\":{\"colorbar\":{\"outlinewidth\":0,\"ticks\":\"\"}}}],\"scatter3d\":[{\"type\":\"scatter3d\",\"line\":{\"colorbar\":{\"outlinewidth\":0,\"ticks\":\"\"}},\"marker\":{\"colorbar\":{\"outlinewidth\":0,\"ticks\":\"\"}}}],\"scattermapbox\":[{\"type\":\"scattermapbox\",\"marker\":{\"colorbar\":{\"outlinewidth\":0,\"ticks\":\"\"}}}],\"scatterternary\":[{\"type\":\"scatterternary\",\"marker\":{\"colorbar\":{\"outlinewidth\":0,\"ticks\":\"\"}}}],\"scattercarpet\":[{\"type\":\"scattercarpet\",\"marker\":{\"colorbar\":{\"outlinewidth\":0,\"ticks\":\"\"}}}],\"carpet\":[{\"aaxis\":{\"endlinecolor\":\"#2a3f5f\",\"gridcolor\":\"white\",\"linecolor\":\"white\",\"minorgridcolor\":\"white\",\"startlinecolor\":\"#2a3f5f\"},\"baxis\":{\"endlinecolor\":\"#2a3f5f\",\"gridcolor\":\"white\",\"linecolor\":\"white\",\"minorgridcolor\":\"white\",\"startlinecolor\":\"#2a3f5f\"},\"type\":\"carpet\"}],\"table\":[{\"cells\":{\"fill\":{\"color\":\"#EBF0F8\"},\"line\":{\"color\":\"white\"}},\"header\":{\"fill\":{\"color\":\"#C8D4E3\"},\"line\":{\"color\":\"white\"}},\"type\":\"table\"}],\"barpolar\":[{\"marker\":{\"line\":{\"color\":\"#E5ECF6\",\"width\":0.5},\"pattern\":{\"fillmode\":\"overlay\",\"size\":10,\"solidity\":0.2}},\"type\":\"barpolar\"}],\"pie\":[{\"automargin\":true,\"type\":\"pie\"}]},\"layout\":{\"autotypenumbers\":\"strict\",\"colorway\":[\"#636efa\",\"#EF553B\",\"#00cc96\",\"#ab63fa\",\"#FFA15A\",\"#19d3f3\",\"#FF6692\",\"#B6E880\",\"#FF97FF\",\"#FECB52\"],\"font\":{\"color\":\"#2a3f5f\"},\"hovermode\":\"closest\",\"hoverlabel\":{\"align\":\"left\"},\"paper_bgcolor\":\"white\",\"plot_bgcolor\":\"#E5ECF6\",\"polar\":{\"bgcolor\":\"#E5ECF6\",\"angularaxis\":{\"gridcolor\":\"white\",\"linecolor\":\"white\",\"ticks\":\"\"},\"radialaxis\":{\"gridcolor\":\"white\",\"linecolor\":\"white\",\"ticks\":\"\"}},\"ternary\":{\"bgcolor\":\"#E5ECF6\",\"aaxis\":{\"gridcolor\":\"white\",\"linecolor\":\"white\",\"ticks\":\"\"},\"baxis\":{\"gridcolor\":\"white\",\"linecolor\":\"white\",\"ticks\":\"\"},\"caxis\":{\"gridcolor\":\"white\",\"linecolor\":\"white\",\"ticks\":\"\"}},\"coloraxis\":{\"colorbar\":{\"outlinewidth\":0,\"ticks\":\"\"}},\"colorscale\":{\"sequential\":[[0.0,\"#0d0887\"],[0.1111111111111111,\"#46039f\"],[0.2222222222222222,\"#7201a8\"],[0.3333333333333333,\"#9c179e\"],[0.4444444444444444,\"#bd3786\"],[0.5555555555555556,\"#d8576b\"],[0.6666666666666666,\"#ed7953\"],[0.7777777777777778,\"#fb9f3a\"],[0.8888888888888888,\"#fdca26\"],[1.0,\"#f0f921\"]],\"sequentialminus\":[[0.0,\"#0d0887\"],[0.1111111111111111,\"#46039f\"],[0.2222222222222222,\"#7201a8\"],[0.3333333333333333,\"#9c179e\"],[0.4444444444444444,\"#bd3786\"],[0.5555555555555556,\"#d8576b\"],[0.6666666666666666,\"#ed7953\"],[0.7777777777777778,\"#fb9f3a\"],[0.8888888888888888,\"#fdca26\"],[1.0,\"#f0f921\"]],\"diverging\":[[0,\"#8e0152\"],[0.1,\"#c51b7d\"],[0.2,\"#de77ae\"],[0.3,\"#f1b6da\"],[0.4,\"#fde0ef\"],[0.5,\"#f7f7f7\"],[0.6,\"#e6f5d0\"],[0.7,\"#b8e186\"],[0.8,\"#7fbc41\"],[0.9,\"#4d9221\"],[1,\"#276419\"]]},\"xaxis\":{\"gridcolor\":\"white\",\"linecolor\":\"white\",\"ticks\":\"\",\"title\":{\"standoff\":15},\"zerolinecolor\":\"white\",\"automargin\":true,\"zerolinewidth\":2},\"yaxis\":{\"gridcolor\":\"white\",\"linecolor\":\"white\",\"ticks\":\"\",\"title\":{\"standoff\":15},\"zerolinecolor\":\"white\",\"automargin\":true,\"zerolinewidth\":2},\"scene\":{\"xaxis\":{\"backgroundcolor\":\"#E5ECF6\",\"gridcolor\":\"white\",\"linecolor\":\"white\",\"showbackground\":true,\"ticks\":\"\",\"zerolinecolor\":\"white\",\"gridwidth\":2},\"yaxis\":{\"backgroundcolor\":\"#E5ECF6\",\"gridcolor\":\"white\",\"linecolor\":\"white\",\"showbackground\":true,\"ticks\":\"\",\"zerolinecolor\":\"white\",\"gridwidth\":2},\"zaxis\":{\"backgroundcolor\":\"#E5ECF6\",\"gridcolor\":\"white\",\"linecolor\":\"white\",\"showbackground\":true,\"ticks\":\"\",\"zerolinecolor\":\"white\",\"gridwidth\":2}},\"shapedefaults\":{\"line\":{\"color\":\"#2a3f5f\"}},\"annotationdefaults\":{\"arrowcolor\":\"#2a3f5f\",\"arrowhead\":0,\"arrowwidth\":1},\"geo\":{\"bgcolor\":\"white\",\"landcolor\":\"#E5ECF6\",\"subunitcolor\":\"white\",\"showland\":true,\"showlakes\":true,\"lakecolor\":\"white\"},\"title\":{\"x\":0.05},\"mapbox\":{\"style\":\"light\"}}},\"xaxis\":{\"anchor\":\"y\",\"domain\":[0.0,1.0],\"title\":{\"text\":\"num_palabras\"}},\"yaxis\":{\"anchor\":\"x\",\"domain\":[0.0,1.0],\"title\":{\"text\":\"sum of tweet_id\"}},\"legend\":{\"title\":{\"text\":\"sentiment\"},\"tracegroupgap\":0},\"margin\":{\"t\":60},\"barmode\":\"relative\"},                        {\"responsive\": true}                    ).then(function(){\n",
              "                            \n",
              "var gd = document.getElementById('b3ea5ebc-d8be-4c89-97a4-33feb7309f31');\n",
              "var x = new MutationObserver(function (mutations, observer) {{\n",
              "        var display = window.getComputedStyle(gd).display;\n",
              "        if (!display || display === 'none') {{\n",
              "            console.log([gd, 'removed!']);\n",
              "            Plotly.purge(gd);\n",
              "            observer.disconnect();\n",
              "        }}\n",
              "}});\n",
              "\n",
              "// Listen for the removal of the full notebook cells\n",
              "var notebookContainer = gd.closest('#notebook-container');\n",
              "if (notebookContainer) {{\n",
              "    x.observe(notebookContainer, {childList: true});\n",
              "}}\n",
              "\n",
              "// Listen for the clearing of the current output cell\n",
              "var outputEl = gd.closest('.output');\n",
              "if (outputEl) {{\n",
              "    x.observe(outputEl, {childList: true});\n",
              "}}\n",
              "\n",
              "                        })                };                            </script>        </div>\n",
              "</body>\n",
              "</html>"
            ]
          },
          "metadata": {}
        }
      ]
    },
    {
      "cell_type": "code",
      "source": [
        "#longitud de la oración\n",
        "df2['longitud']=df2['content'].map(lambda x: len(x))"
      ],
      "metadata": {
        "id": "Vm7aWw5XgC2J"
      },
      "execution_count": null,
      "outputs": []
    },
    {
      "cell_type": "code",
      "source": [
        "longitud=df2.groupby(['sentiment','longitud'])['tweet_id'].count().reset_index()\n",
        "fig = px.histogram(longitud, x=\"longitud\", y=\"tweet_id\",color='sentiment')\n",
        "fig.show()"
      ],
      "metadata": {
        "colab": {
          "base_uri": "https://localhost:8080/",
          "height": 542
        },
        "id": "YSAb3b73gLc_",
        "outputId": "e1981b97-1db4-4b87-afd9-75da9d5c970a"
      },
      "execution_count": null,
      "outputs": [
        {
          "output_type": "display_data",
          "data": {
            "text/html": [
              "<html>\n",
              "<head><meta charset=\"utf-8\" /></head>\n",
              "<body>\n",
              "    <div>            <script src=\"https://cdnjs.cloudflare.com/ajax/libs/mathjax/2.7.5/MathJax.js?config=TeX-AMS-MML_SVG\"></script><script type=\"text/javascript\">if (window.MathJax && window.MathJax.Hub && window.MathJax.Hub.Config) {window.MathJax.Hub.Config({SVG: {font: \"STIX-Web\"}});}</script>                <script type=\"text/javascript\">window.PlotlyConfig = {MathJaxConfig: 'local'};</script>\n",
              "        <script charset=\"utf-8\" src=\"https://cdn.plot.ly/plotly-2.24.1.min.js\"></script>                <div id=\"81f455c9-3534-4240-8259-accd193bd5bc\" class=\"plotly-graph-div\" style=\"height:525px; width:100%;\"></div>            <script type=\"text/javascript\">                                    window.PLOTLYENV=window.PLOTLYENV || {};                                    if (document.getElementById(\"81f455c9-3534-4240-8259-accd193bd5bc\")) {                    Plotly.newPlot(                        \"81f455c9-3534-4240-8259-accd193bd5bc\",                        [{\"alignmentgroup\":\"True\",\"bingroup\":\"x\",\"histfunc\":\"sum\",\"hovertemplate\":\"sentiment=anger\\u003cbr\\u003elongitud=%{x}\\u003cbr\\u003esum of tweet_id=%{y}\\u003cextra\\u003e\\u003c\\u002fextra\\u003e\",\"legendgroup\":\"anger\",\"marker\":{\"color\":\"#636efa\",\"pattern\":{\"shape\":\"\"}},\"name\":\"anger\",\"offsetgroup\":\"anger\",\"orientation\":\"v\",\"showlegend\":true,\"x\":[10,13,14,17,20,21,26,29,30,32,34,36,38,40,41,42,43,44,45,46,47,48,51,54,55,58,59,61,64,65,66,67,69,70,72,73,76,77,78,79,81,83,85,86,87,88,89,90,91,95,97,98,99,100,102,103,107,108,109,110,114,118,120,121,122,123,125,127,134,135,137,138,140,141,145],\"xaxis\":\"x\",\"y\":[1,1,1,1,1,1,1,1,1,2,1,4,1,2,1,1,2,2,1,1,2,1,1,1,3,1,1,1,3,2,1,2,3,2,1,1,1,3,1,1,1,1,1,1,1,1,2,3,3,2,2,1,1,1,1,2,2,1,2,1,1,2,2,1,2,1,1,1,1,2,1,2,1,1,2],\"yaxis\":\"y\",\"type\":\"histogram\"},{\"alignmentgroup\":\"True\",\"bingroup\":\"x\",\"histfunc\":\"sum\",\"hovertemplate\":\"sentiment=boredom\\u003cbr\\u003elongitud=%{x}\\u003cbr\\u003esum of tweet_id=%{y}\\u003cextra\\u003e\\u003c\\u002fextra\\u003e\",\"legendgroup\":\"boredom\",\"marker\":{\"color\":\"#EF553B\",\"pattern\":{\"shape\":\"\"}},\"name\":\"boredom\",\"offsetgroup\":\"boredom\",\"orientation\":\"v\",\"showlegend\":true,\"x\":[12,15,16,19,20,21,23,25,27,28,29,31,32,33,34,35,36,37,38,39,40,41,42,43,44,46,47,48,49,50,51,52,54,55,56,57,58,59,60,61,62,63,65,66,67,68,69,70,71,72,74,75,76,77,80,82,85,86,88,89,90,91,92,93,94,96,97,98,99,100,102,104,105,107,108,109,110,111,112,114,116,117,120,122,124,125,129,130,131,132,133,134,135,136,137,138,142,150],\"xaxis\":\"x\",\"y\":[1,1,1,1,1,1,4,2,1,3,1,2,1,5,4,1,1,2,4,2,4,1,1,1,2,3,1,2,2,1,3,1,1,1,1,1,1,3,4,3,3,3,1,3,3,1,2,1,8,1,1,1,1,1,2,2,2,1,3,1,2,1,1,2,1,3,1,1,1,2,1,3,1,1,1,2,2,1,1,2,1,1,1,1,1,4,1,2,1,6,3,1,1,2,1,2,2,1],\"yaxis\":\"y\",\"type\":\"histogram\"},{\"alignmentgroup\":\"True\",\"bingroup\":\"x\",\"histfunc\":\"sum\",\"hovertemplate\":\"sentiment=empty\\u003cbr\\u003elongitud=%{x}\\u003cbr\\u003esum of tweet_id=%{y}\\u003cextra\\u003e\\u003c\\u002fextra\\u003e\",\"legendgroup\":\"empty\",\"marker\":{\"color\":\"#00cc96\",\"pattern\":{\"shape\":\"\"}},\"name\":\"empty\",\"offsetgroup\":\"empty\",\"orientation\":\"v\",\"showlegend\":true,\"x\":[1,7,8,10,11,12,13,14,15,16,17,18,19,20,21,22,23,24,25,26,27,28,29,30,31,32,33,34,35,36,37,38,39,40,41,42,43,44,45,46,47,48,49,50,51,52,53,54,55,56,57,58,59,60,61,62,63,64,65,66,67,68,69,70,71,72,73,74,75,76,77,78,79,80,81,82,83,84,85,86,87,88,89,90,91,92,93,94,95,96,97,98,99,100,101,102,103,104,105,106,107,108,109,110,111,112,113,114,115,116,118,119,120,121,122,123,124,125,126,127,128,129,130,131,132,133,134,135,136,137,138,139,141,146,147,152],\"xaxis\":\"x\",\"y\":[1,4,1,3,3,7,1,8,6,6,15,8,10,9,7,9,11,8,10,11,8,8,9,8,9,10,9,9,7,7,12,8,8,8,7,11,10,8,7,9,12,8,9,8,7,10,9,3,11,10,7,6,12,13,8,6,8,8,10,3,8,7,5,8,5,10,7,8,7,6,7,3,4,8,4,4,9,4,6,2,11,3,4,5,7,4,7,5,4,3,3,4,1,2,3,2,4,9,3,1,1,2,3,3,6,4,4,2,4,5,3,7,4,5,4,3,4,3,8,5,4,3,6,2,4,3,3,5,8,12,6,1,2,1,1,1],\"yaxis\":\"y\",\"type\":\"histogram\"},{\"alignmentgroup\":\"True\",\"bingroup\":\"x\",\"histfunc\":\"sum\",\"hovertemplate\":\"sentiment=enthusiasm\\u003cbr\\u003elongitud=%{x}\\u003cbr\\u003esum of tweet_id=%{y}\\u003cextra\\u003e\\u003c\\u002fextra\\u003e\",\"legendgroup\":\"enthusiasm\",\"marker\":{\"color\":\"#ab63fa\",\"pattern\":{\"shape\":\"\"}},\"name\":\"enthusiasm\",\"offsetgroup\":\"enthusiasm\",\"orientation\":\"v\",\"showlegend\":true,\"x\":[10,11,12,13,15,16,17,18,19,20,21,22,23,24,25,26,27,28,29,30,31,32,33,34,35,36,37,38,39,40,41,42,43,44,45,46,47,48,49,50,51,52,53,54,55,56,57,58,59,60,61,62,63,64,65,66,67,68,69,70,71,72,73,74,75,76,77,78,79,80,81,82,83,84,85,86,87,88,89,90,91,92,93,94,95,96,97,98,99,100,101,102,103,104,105,106,107,108,109,110,111,112,113,114,115,116,117,118,119,120,121,122,123,124,125,126,127,128,129,130,131,132,133,134,135,136,137,138,140,141,144,145,146,147],\"xaxis\":\"x\",\"y\":[1,1,1,3,1,2,2,3,1,4,4,8,7,5,2,3,7,4,1,6,10,8,7,5,8,16,9,14,11,10,9,9,8,10,7,5,7,7,10,8,9,4,8,8,4,10,8,4,8,4,8,5,10,8,6,4,6,10,10,11,6,7,6,6,4,9,5,4,5,7,3,7,5,6,10,2,7,5,4,5,9,1,10,5,5,6,4,4,6,4,4,7,3,3,3,1,1,5,1,7,4,3,9,4,4,1,2,5,8,3,4,6,2,10,7,2,4,9,7,2,5,6,6,8,7,8,13,12,1,1,1,1,1,2],\"yaxis\":\"y\",\"type\":\"histogram\"},{\"alignmentgroup\":\"True\",\"bingroup\":\"x\",\"histfunc\":\"sum\",\"hovertemplate\":\"sentiment=fun\\u003cbr\\u003elongitud=%{x}\\u003cbr\\u003esum of tweet_id=%{y}\\u003cextra\\u003e\\u003c\\u002fextra\\u003e\",\"legendgroup\":\"fun\",\"marker\":{\"color\":\"#FFA15A\",\"pattern\":{\"shape\":\"\"}},\"name\":\"fun\",\"offsetgroup\":\"fun\",\"orientation\":\"v\",\"showlegend\":true,\"x\":[9,14,15,16,17,18,19,20,21,22,23,24,25,26,27,28,29,30,31,32,33,34,35,36,37,38,39,40,41,42,43,44,45,46,47,48,49,50,51,52,53,54,55,56,57,58,59,60,61,62,63,64,65,66,67,68,69,70,71,72,73,74,75,76,77,78,79,80,81,82,83,84,85,86,87,88,89,90,91,92,93,94,95,96,97,98,99,100,101,102,103,104,105,106,107,108,109,110,111,112,113,114,115,116,117,118,119,120,121,122,123,124,125,126,127,128,129,130,131,132,133,134,135,136,137,138,139,140,141,142,143,144,145,147,149,151,157,158],\"xaxis\":\"x\",\"y\":[1,1,2,1,4,4,3,5,6,7,9,7,7,9,8,7,9,11,5,17,10,11,17,12,20,18,15,14,14,18,14,14,17,18,24,17,18,20,23,20,12,20,17,22,15,16,7,20,17,21,15,17,24,19,19,18,18,17,16,12,21,14,16,17,12,9,9,17,26,21,16,12,14,11,14,20,15,14,15,18,12,10,14,10,11,13,15,11,13,14,8,12,13,13,11,10,11,8,10,13,7,5,11,10,13,9,10,14,7,21,21,12,13,14,8,13,28,9,16,17,17,27,23,29,22,31,5,3,3,5,1,3,2,1,1,1,1,1],\"yaxis\":\"y\",\"type\":\"histogram\"},{\"alignmentgroup\":\"True\",\"bingroup\":\"x\",\"histfunc\":\"sum\",\"hovertemplate\":\"sentiment=happiness\\u003cbr\\u003elongitud=%{x}\\u003cbr\\u003esum of tweet_id=%{y}\\u003cextra\\u003e\\u003c\\u002fextra\\u003e\",\"legendgroup\":\"happiness\",\"marker\":{\"color\":\"#19d3f3\",\"pattern\":{\"shape\":\"\"}},\"name\":\"happiness\",\"offsetgroup\":\"happiness\",\"orientation\":\"v\",\"showlegend\":true,\"x\":[7,8,9,10,11,12,13,14,15,16,17,18,19,20,21,22,23,24,25,26,27,28,29,30,31,32,33,34,35,36,37,38,39,40,41,42,43,44,45,46,47,48,49,50,51,52,53,54,55,56,57,58,59,60,61,62,63,64,65,66,67,68,69,70,71,72,73,74,75,76,77,78,79,80,81,82,83,84,85,86,87,88,89,90,91,92,93,94,95,96,97,98,99,100,101,102,103,104,105,106,107,108,109,110,111,112,113,114,115,116,117,118,119,120,121,122,123,124,125,126,127,128,129,130,131,132,133,134,135,136,137,138,139,140,141,142,143,144,145,146,147,149,153,157],\"xaxis\":\"x\",\"y\":[2,2,4,1,3,6,10,9,11,17,26,26,31,26,27,35,27,28,33,38,28,37,40,38,58,53,45,48,30,43,56,65,60,43,55,53,55,55,63,50,54,57,51,56,51,36,58,53,49,52,53,54,65,51,40,62,50,44,49,55,46,54,48,57,39,45,44,46,40,41,45,44,57,41,40,50,49,39,34,30,36,49,25,33,25,35,36,40,41,42,37,36,31,33,30,26,28,31,32,19,29,33,44,34,35,20,35,35,29,28,39,33,41,23,33,36,26,31,28,31,37,33,25,38,41,39,55,51,71,59,74,51,13,6,9,9,4,3,2,6,6,1,1,1],\"yaxis\":\"y\",\"type\":\"histogram\"},{\"alignmentgroup\":\"True\",\"bingroup\":\"x\",\"histfunc\":\"sum\",\"hovertemplate\":\"sentiment=hate\\u003cbr\\u003elongitud=%{x}\\u003cbr\\u003esum of tweet_id=%{y}\\u003cextra\\u003e\\u003c\\u002fextra\\u003e\",\"legendgroup\":\"hate\",\"marker\":{\"color\":\"#FF6692\",\"pattern\":{\"shape\":\"\"}},\"name\":\"hate\",\"offsetgroup\":\"hate\",\"orientation\":\"v\",\"showlegend\":true,\"x\":[7,10,11,13,14,15,16,17,18,19,20,21,22,23,24,25,26,27,28,29,30,31,32,33,34,35,36,37,38,39,40,41,42,43,44,45,46,47,48,49,50,51,52,53,54,55,56,57,58,59,60,61,62,63,64,65,66,67,68,69,70,71,72,73,74,75,76,77,78,79,80,81,82,83,84,85,86,87,88,89,90,91,92,93,94,95,96,97,98,99,100,101,102,103,104,105,106,107,108,109,110,111,112,113,114,115,116,117,118,119,120,121,122,123,124,125,126,127,128,129,130,131,132,133,134,135,136,137,138,139,140,141,142,144,145,146,148,151,152],\"xaxis\":\"x\",\"y\":[1,1,1,2,4,4,4,5,10,7,8,5,6,10,6,9,12,14,11,13,9,14,8,15,10,12,9,14,9,15,11,8,10,10,14,12,17,10,9,9,15,10,10,7,9,14,10,7,10,12,8,17,13,9,8,10,10,19,11,10,8,15,4,8,8,9,15,12,17,15,11,17,14,13,10,11,13,12,9,15,13,13,10,13,12,7,8,14,6,11,6,11,7,6,8,8,6,8,7,8,5,6,7,3,9,7,6,7,9,8,6,8,11,5,10,11,11,9,8,13,10,9,15,12,14,15,27,27,20,3,3,4,1,1,1,1,3,2,1],\"yaxis\":\"y\",\"type\":\"histogram\"},{\"alignmentgroup\":\"True\",\"bingroup\":\"x\",\"histfunc\":\"sum\",\"hovertemplate\":\"sentiment=love\\u003cbr\\u003elongitud=%{x}\\u003cbr\\u003esum of tweet_id=%{y}\\u003cextra\\u003e\\u003c\\u002fextra\\u003e\",\"legendgroup\":\"love\",\"marker\":{\"color\":\"#B6E880\",\"pattern\":{\"shape\":\"\"}},\"name\":\"love\",\"offsetgroup\":\"love\",\"orientation\":\"v\",\"showlegend\":true,\"x\":[9,10,11,12,13,14,15,16,17,18,19,20,21,22,23,24,25,26,27,28,29,30,31,32,33,34,35,36,37,38,39,40,41,42,43,44,45,46,47,48,49,50,51,52,53,54,55,56,57,58,59,60,61,62,63,64,65,66,67,68,69,70,71,72,73,74,75,76,77,78,79,80,81,82,83,84,85,86,87,88,89,90,91,92,93,94,95,96,97,98,99,100,101,102,103,104,105,106,107,108,109,110,111,112,113,114,115,116,117,118,119,120,121,122,123,124,125,126,127,128,129,130,131,132,133,134,135,136,137,138,139,140,141,142,143,144,145,146,147,148,150,151,152,157,158],\"xaxis\":\"x\",\"y\":[1,2,7,4,4,8,12,10,21,27,34,15,28,20,21,26,22,28,35,27,33,40,34,33,30,36,39,39,34,35,37,29,50,40,32,40,52,34,53,46,42,37,34,25,44,33,48,43,29,42,39,36,48,34,31,50,45,31,41,39,26,36,33,25,43,30,29,31,32,37,24,29,25,28,27,34,30,35,37,29,22,20,23,21,36,32,23,24,29,28,21,29,25,24,21,21,27,23,21,37,21,17,25,32,27,20,19,25,21,17,26,19,10,9,16,20,17,21,19,22,23,25,38,31,26,44,31,50,44,43,8,12,11,4,1,7,9,3,4,2,2,1,2,1,1],\"yaxis\":\"y\",\"type\":\"histogram\"},{\"alignmentgroup\":\"True\",\"bingroup\":\"x\",\"histfunc\":\"sum\",\"hovertemplate\":\"sentiment=neutral\\u003cbr\\u003elongitud=%{x}\\u003cbr\\u003esum of tweet_id=%{y}\\u003cextra\\u003e\\u003c\\u002fextra\\u003e\",\"legendgroup\":\"neutral\",\"marker\":{\"color\":\"#FF97FF\",\"pattern\":{\"shape\":\"\"}},\"name\":\"neutral\",\"offsetgroup\":\"neutral\",\"orientation\":\"v\",\"showlegend\":true,\"x\":[1,6,7,8,9,10,11,12,13,14,15,16,17,18,19,20,21,22,23,24,25,26,27,28,29,30,31,32,33,34,35,36,37,38,39,40,41,42,43,44,45,46,47,48,49,50,51,52,53,54,55,56,57,58,59,60,61,62,63,64,65,66,67,68,69,70,71,72,73,74,75,76,77,78,79,80,81,82,83,84,85,86,87,88,89,90,91,92,93,94,95,96,97,98,99,100,101,102,103,104,105,106,107,108,109,110,111,112,113,114,115,116,117,118,119,120,121,122,123,124,125,126,127,128,129,130,131,132,133,134,135,136,137,138,139,140,141,142,143,144,145,146,147,148,150,152,153,154,155,156,157],\"xaxis\":\"x\",\"y\":[3,1,19,21,29,34,38,57,50,64,46,73,77,92,103,70,88,110,105,105,114,86,94,108,115,93,107,109,119,107,93,100,96,97,95,105,92,98,87,92,91,112,102,99,84,110,98,92,91,105,92,91,76,65,72,83,84,65,82,61,73,69,80,62,73,73,54,56,63,51,46,44,61,63,54,48,52,52,54,44,42,45,46,49,47,46,46,47,46,46,48,44,48,41,44,45,45,34,45,37,41,49,38,46,35,44,38,39,44,31,39,33,38,35,46,40,33,32,38,46,40,42,34,32,44,52,41,45,57,66,69,81,108,50,5,16,11,11,3,6,9,5,8,1,1,1,1,1,1,1,1],\"yaxis\":\"y\",\"type\":\"histogram\"},{\"alignmentgroup\":\"True\",\"bingroup\":\"x\",\"histfunc\":\"sum\",\"hovertemplate\":\"sentiment=relief\\u003cbr\\u003elongitud=%{x}\\u003cbr\\u003esum of tweet_id=%{y}\\u003cextra\\u003e\\u003c\\u002fextra\\u003e\",\"legendgroup\":\"relief\",\"marker\":{\"color\":\"#FECB52\",\"pattern\":{\"shape\":\"\"}},\"name\":\"relief\",\"offsetgroup\":\"relief\",\"orientation\":\"v\",\"showlegend\":true,\"x\":[8,9,11,12,13,14,15,16,17,18,19,20,21,22,23,24,25,26,27,28,29,30,31,32,33,34,35,36,37,38,39,40,41,42,43,44,45,46,47,48,49,50,51,52,53,54,55,56,57,58,59,60,61,62,63,64,65,66,67,68,69,70,71,72,73,74,75,76,77,78,79,80,81,82,83,84,85,86,87,88,89,90,91,92,93,94,95,96,97,98,99,100,101,102,103,104,105,106,107,108,109,110,111,112,113,114,115,116,117,118,119,120,121,122,123,124,125,126,127,128,129,130,131,132,133,134,135,136,137,138,139,140,141,142,143,144,145,146,147,148,154,156],\"xaxis\":\"x\",\"y\":[3,2,3,2,1,6,8,7,4,2,7,7,10,11,7,10,6,10,14,10,12,14,16,12,12,17,13,19,10,12,16,15,20,23,8,14,9,17,11,18,19,8,11,19,13,12,16,12,16,13,13,11,11,16,7,12,23,19,14,12,13,15,11,14,11,12,14,12,19,15,9,11,16,16,12,10,15,9,10,12,13,12,7,7,19,11,7,13,10,12,12,6,15,12,13,10,7,13,8,11,6,11,9,11,14,9,16,7,6,8,17,10,8,9,11,7,7,6,6,5,14,7,8,11,14,15,19,11,37,12,3,1,7,2,1,3,1,4,1,1,1,1],\"yaxis\":\"y\",\"type\":\"histogram\"},{\"alignmentgroup\":\"True\",\"bingroup\":\"x\",\"histfunc\":\"sum\",\"hovertemplate\":\"sentiment=sadness\\u003cbr\\u003elongitud=%{x}\\u003cbr\\u003esum of tweet_id=%{y}\\u003cextra\\u003e\\u003c\\u002fextra\\u003e\",\"legendgroup\":\"sadness\",\"marker\":{\"color\":\"#636efa\",\"pattern\":{\"shape\":\"\"}},\"name\":\"sadness\",\"offsetgroup\":\"sadness\",\"orientation\":\"v\",\"showlegend\":true,\"x\":[6,7,8,9,10,11,12,13,14,15,16,17,18,19,20,21,22,23,24,25,26,27,28,29,30,31,32,33,34,35,36,37,38,39,40,41,42,43,44,45,46,47,48,49,50,51,52,53,54,55,56,57,58,59,60,61,62,63,64,65,66,67,68,69,70,71,72,73,74,75,76,77,78,79,80,81,82,83,84,85,86,87,88,89,90,91,92,93,94,95,96,97,98,99,100,101,102,103,104,105,106,107,108,109,110,111,112,113,114,115,116,117,118,119,120,121,122,123,124,125,126,127,128,129,130,131,132,133,134,135,136,137,138,139,140,141,142,143,144,145,146,147,148,152,160,161],\"xaxis\":\"x\",\"y\":[1,3,6,4,12,7,15,23,17,22,26,33,17,21,25,31,25,37,39,39,28,42,32,34,46,47,41,46,46,37,42,59,55,48,43,61,56,50,36,56,44,66,56,39,57,51,70,51,48,49,50,48,53,51,44,48,51,44,44,43,42,38,39,64,43,48,52,45,50,43,46,50,53,40,38,41,34,48,41,36,44,41,41,34,32,30,43,36,33,36,36,34,35,29,33,27,27,34,26,29,37,28,32,24,42,41,30,33,25,30,26,35,27,18,31,23,23,47,26,29,39,26,28,35,41,36,36,47,53,53,69,89,58,7,13,13,5,2,5,4,3,3,4,1,1,1],\"yaxis\":\"y\",\"type\":\"histogram\"},{\"alignmentgroup\":\"True\",\"bingroup\":\"x\",\"histfunc\":\"sum\",\"hovertemplate\":\"sentiment=surprise\\u003cbr\\u003elongitud=%{x}\\u003cbr\\u003esum of tweet_id=%{y}\\u003cextra\\u003e\\u003c\\u002fextra\\u003e\",\"legendgroup\":\"surprise\",\"marker\":{\"color\":\"#EF553B\",\"pattern\":{\"shape\":\"\"}},\"name\":\"surprise\",\"offsetgroup\":\"surprise\",\"orientation\":\"v\",\"showlegend\":true,\"x\":[7,9,11,12,13,14,15,16,17,18,19,20,21,22,23,24,25,26,27,28,29,30,31,32,33,34,35,36,37,38,39,40,41,42,43,44,45,46,47,48,49,50,51,52,53,54,55,56,57,58,59,60,61,62,63,64,65,66,67,68,69,70,71,72,73,74,75,76,77,78,79,80,81,82,83,84,85,86,87,88,89,90,91,92,93,94,95,96,97,98,99,100,101,102,103,104,105,106,107,108,109,110,111,112,113,114,115,116,117,118,119,120,121,122,123,124,125,126,127,128,129,130,131,132,133,134,135,136,137,138,139,140,141,142,143,144,145,146,147,148,149,151,154,166],\"xaxis\":\"x\",\"y\":[2,2,4,1,4,9,3,4,12,9,9,14,7,12,13,14,11,20,18,17,16,15,22,21,16,26,23,20,19,16,27,24,25,24,25,29,25,20,27,21,29,19,23,30,21,14,19,14,19,23,22,19,19,15,29,23,17,24,17,23,11,18,27,20,18,28,16,19,22,18,9,16,14,14,18,31,13,14,15,13,19,14,13,11,8,21,20,17,16,17,16,19,12,12,9,12,9,9,11,5,12,14,11,13,18,10,14,10,17,7,12,11,8,16,15,11,8,19,10,18,10,15,12,21,22,21,26,30,42,24,6,3,7,3,1,3,4,5,3,1,1,2,1,1],\"yaxis\":\"y\",\"type\":\"histogram\"},{\"alignmentgroup\":\"True\",\"bingroup\":\"x\",\"histfunc\":\"sum\",\"hovertemplate\":\"sentiment=worry\\u003cbr\\u003elongitud=%{x}\\u003cbr\\u003esum of tweet_id=%{y}\\u003cextra\\u003e\\u003c\\u002fextra\\u003e\",\"legendgroup\":\"worry\",\"marker\":{\"color\":\"#00cc96\",\"pattern\":{\"shape\":\"\"}},\"name\":\"worry\",\"offsetgroup\":\"worry\",\"orientation\":\"v\",\"showlegend\":true,\"x\":[7,8,9,10,11,12,13,14,15,16,17,18,19,20,21,22,23,24,25,26,27,28,29,30,31,32,33,34,35,36,37,38,39,40,41,42,43,44,45,46,47,48,49,50,51,52,53,54,55,56,57,58,59,60,61,62,63,64,65,66,67,68,69,70,71,72,73,74,75,76,77,78,79,80,81,82,83,84,85,86,87,88,89,90,91,92,93,94,95,96,97,98,99,100,101,102,103,104,105,106,107,108,109,110,111,112,113,114,115,116,117,118,119,120,121,122,123,124,125,126,127,128,129,130,131,132,133,134,135,136,137,138,139,140,141,142,143,144,145,146,147,148,150,151,152,154,160,167],\"xaxis\":\"x\",\"y\":[1,8,5,5,9,15,27,34,26,31,33,33,31,46,49,44,57,56,41,55,54,75,61,68,77,75,68,73,63,86,78,76,79,85,73,70,88,82,88,80,102,81,101,69,72,86,99,74,87,92,86,80,71,78,82,56,76,84,78,77,75,84,74,66,71,82,67,68,78,69,77,61,72,67,70,71,58,65,54,53,53,61,71,61,68,48,79,55,54,67,59,72,57,62,48,58,49,59,51,48,56,57,49,48,47,48,52,60,56,42,57,50,46,65,47,55,49,54,46,53,62,58,66,71,65,55,76,98,97,147,148,85,14,19,14,8,5,7,4,5,6,5,3,2,1,1,1,1],\"yaxis\":\"y\",\"type\":\"histogram\"}],                        {\"template\":{\"data\":{\"histogram2dcontour\":[{\"type\":\"histogram2dcontour\",\"colorbar\":{\"outlinewidth\":0,\"ticks\":\"\"},\"colorscale\":[[0.0,\"#0d0887\"],[0.1111111111111111,\"#46039f\"],[0.2222222222222222,\"#7201a8\"],[0.3333333333333333,\"#9c179e\"],[0.4444444444444444,\"#bd3786\"],[0.5555555555555556,\"#d8576b\"],[0.6666666666666666,\"#ed7953\"],[0.7777777777777778,\"#fb9f3a\"],[0.8888888888888888,\"#fdca26\"],[1.0,\"#f0f921\"]]}],\"choropleth\":[{\"type\":\"choropleth\",\"colorbar\":{\"outlinewidth\":0,\"ticks\":\"\"}}],\"histogram2d\":[{\"type\":\"histogram2d\",\"colorbar\":{\"outlinewidth\":0,\"ticks\":\"\"},\"colorscale\":[[0.0,\"#0d0887\"],[0.1111111111111111,\"#46039f\"],[0.2222222222222222,\"#7201a8\"],[0.3333333333333333,\"#9c179e\"],[0.4444444444444444,\"#bd3786\"],[0.5555555555555556,\"#d8576b\"],[0.6666666666666666,\"#ed7953\"],[0.7777777777777778,\"#fb9f3a\"],[0.8888888888888888,\"#fdca26\"],[1.0,\"#f0f921\"]]}],\"heatmap\":[{\"type\":\"heatmap\",\"colorbar\":{\"outlinewidth\":0,\"ticks\":\"\"},\"colorscale\":[[0.0,\"#0d0887\"],[0.1111111111111111,\"#46039f\"],[0.2222222222222222,\"#7201a8\"],[0.3333333333333333,\"#9c179e\"],[0.4444444444444444,\"#bd3786\"],[0.5555555555555556,\"#d8576b\"],[0.6666666666666666,\"#ed7953\"],[0.7777777777777778,\"#fb9f3a\"],[0.8888888888888888,\"#fdca26\"],[1.0,\"#f0f921\"]]}],\"heatmapgl\":[{\"type\":\"heatmapgl\",\"colorbar\":{\"outlinewidth\":0,\"ticks\":\"\"},\"colorscale\":[[0.0,\"#0d0887\"],[0.1111111111111111,\"#46039f\"],[0.2222222222222222,\"#7201a8\"],[0.3333333333333333,\"#9c179e\"],[0.4444444444444444,\"#bd3786\"],[0.5555555555555556,\"#d8576b\"],[0.6666666666666666,\"#ed7953\"],[0.7777777777777778,\"#fb9f3a\"],[0.8888888888888888,\"#fdca26\"],[1.0,\"#f0f921\"]]}],\"contourcarpet\":[{\"type\":\"contourcarpet\",\"colorbar\":{\"outlinewidth\":0,\"ticks\":\"\"}}],\"contour\":[{\"type\":\"contour\",\"colorbar\":{\"outlinewidth\":0,\"ticks\":\"\"},\"colorscale\":[[0.0,\"#0d0887\"],[0.1111111111111111,\"#46039f\"],[0.2222222222222222,\"#7201a8\"],[0.3333333333333333,\"#9c179e\"],[0.4444444444444444,\"#bd3786\"],[0.5555555555555556,\"#d8576b\"],[0.6666666666666666,\"#ed7953\"],[0.7777777777777778,\"#fb9f3a\"],[0.8888888888888888,\"#fdca26\"],[1.0,\"#f0f921\"]]}],\"surface\":[{\"type\":\"surface\",\"colorbar\":{\"outlinewidth\":0,\"ticks\":\"\"},\"colorscale\":[[0.0,\"#0d0887\"],[0.1111111111111111,\"#46039f\"],[0.2222222222222222,\"#7201a8\"],[0.3333333333333333,\"#9c179e\"],[0.4444444444444444,\"#bd3786\"],[0.5555555555555556,\"#d8576b\"],[0.6666666666666666,\"#ed7953\"],[0.7777777777777778,\"#fb9f3a\"],[0.8888888888888888,\"#fdca26\"],[1.0,\"#f0f921\"]]}],\"mesh3d\":[{\"type\":\"mesh3d\",\"colorbar\":{\"outlinewidth\":0,\"ticks\":\"\"}}],\"scatter\":[{\"fillpattern\":{\"fillmode\":\"overlay\",\"size\":10,\"solidity\":0.2},\"type\":\"scatter\"}],\"parcoords\":[{\"type\":\"parcoords\",\"line\":{\"colorbar\":{\"outlinewidth\":0,\"ticks\":\"\"}}}],\"scatterpolargl\":[{\"type\":\"scatterpolargl\",\"marker\":{\"colorbar\":{\"outlinewidth\":0,\"ticks\":\"\"}}}],\"bar\":[{\"error_x\":{\"color\":\"#2a3f5f\"},\"error_y\":{\"color\":\"#2a3f5f\"},\"marker\":{\"line\":{\"color\":\"#E5ECF6\",\"width\":0.5},\"pattern\":{\"fillmode\":\"overlay\",\"size\":10,\"solidity\":0.2}},\"type\":\"bar\"}],\"scattergeo\":[{\"type\":\"scattergeo\",\"marker\":{\"colorbar\":{\"outlinewidth\":0,\"ticks\":\"\"}}}],\"scatterpolar\":[{\"type\":\"scatterpolar\",\"marker\":{\"colorbar\":{\"outlinewidth\":0,\"ticks\":\"\"}}}],\"histogram\":[{\"marker\":{\"pattern\":{\"fillmode\":\"overlay\",\"size\":10,\"solidity\":0.2}},\"type\":\"histogram\"}],\"scattergl\":[{\"type\":\"scattergl\",\"marker\":{\"colorbar\":{\"outlinewidth\":0,\"ticks\":\"\"}}}],\"scatter3d\":[{\"type\":\"scatter3d\",\"line\":{\"colorbar\":{\"outlinewidth\":0,\"ticks\":\"\"}},\"marker\":{\"colorbar\":{\"outlinewidth\":0,\"ticks\":\"\"}}}],\"scattermapbox\":[{\"type\":\"scattermapbox\",\"marker\":{\"colorbar\":{\"outlinewidth\":0,\"ticks\":\"\"}}}],\"scatterternary\":[{\"type\":\"scatterternary\",\"marker\":{\"colorbar\":{\"outlinewidth\":0,\"ticks\":\"\"}}}],\"scattercarpet\":[{\"type\":\"scattercarpet\",\"marker\":{\"colorbar\":{\"outlinewidth\":0,\"ticks\":\"\"}}}],\"carpet\":[{\"aaxis\":{\"endlinecolor\":\"#2a3f5f\",\"gridcolor\":\"white\",\"linecolor\":\"white\",\"minorgridcolor\":\"white\",\"startlinecolor\":\"#2a3f5f\"},\"baxis\":{\"endlinecolor\":\"#2a3f5f\",\"gridcolor\":\"white\",\"linecolor\":\"white\",\"minorgridcolor\":\"white\",\"startlinecolor\":\"#2a3f5f\"},\"type\":\"carpet\"}],\"table\":[{\"cells\":{\"fill\":{\"color\":\"#EBF0F8\"},\"line\":{\"color\":\"white\"}},\"header\":{\"fill\":{\"color\":\"#C8D4E3\"},\"line\":{\"color\":\"white\"}},\"type\":\"table\"}],\"barpolar\":[{\"marker\":{\"line\":{\"color\":\"#E5ECF6\",\"width\":0.5},\"pattern\":{\"fillmode\":\"overlay\",\"size\":10,\"solidity\":0.2}},\"type\":\"barpolar\"}],\"pie\":[{\"automargin\":true,\"type\":\"pie\"}]},\"layout\":{\"autotypenumbers\":\"strict\",\"colorway\":[\"#636efa\",\"#EF553B\",\"#00cc96\",\"#ab63fa\",\"#FFA15A\",\"#19d3f3\",\"#FF6692\",\"#B6E880\",\"#FF97FF\",\"#FECB52\"],\"font\":{\"color\":\"#2a3f5f\"},\"hovermode\":\"closest\",\"hoverlabel\":{\"align\":\"left\"},\"paper_bgcolor\":\"white\",\"plot_bgcolor\":\"#E5ECF6\",\"polar\":{\"bgcolor\":\"#E5ECF6\",\"angularaxis\":{\"gridcolor\":\"white\",\"linecolor\":\"white\",\"ticks\":\"\"},\"radialaxis\":{\"gridcolor\":\"white\",\"linecolor\":\"white\",\"ticks\":\"\"}},\"ternary\":{\"bgcolor\":\"#E5ECF6\",\"aaxis\":{\"gridcolor\":\"white\",\"linecolor\":\"white\",\"ticks\":\"\"},\"baxis\":{\"gridcolor\":\"white\",\"linecolor\":\"white\",\"ticks\":\"\"},\"caxis\":{\"gridcolor\":\"white\",\"linecolor\":\"white\",\"ticks\":\"\"}},\"coloraxis\":{\"colorbar\":{\"outlinewidth\":0,\"ticks\":\"\"}},\"colorscale\":{\"sequential\":[[0.0,\"#0d0887\"],[0.1111111111111111,\"#46039f\"],[0.2222222222222222,\"#7201a8\"],[0.3333333333333333,\"#9c179e\"],[0.4444444444444444,\"#bd3786\"],[0.5555555555555556,\"#d8576b\"],[0.6666666666666666,\"#ed7953\"],[0.7777777777777778,\"#fb9f3a\"],[0.8888888888888888,\"#fdca26\"],[1.0,\"#f0f921\"]],\"sequentialminus\":[[0.0,\"#0d0887\"],[0.1111111111111111,\"#46039f\"],[0.2222222222222222,\"#7201a8\"],[0.3333333333333333,\"#9c179e\"],[0.4444444444444444,\"#bd3786\"],[0.5555555555555556,\"#d8576b\"],[0.6666666666666666,\"#ed7953\"],[0.7777777777777778,\"#fb9f3a\"],[0.8888888888888888,\"#fdca26\"],[1.0,\"#f0f921\"]],\"diverging\":[[0,\"#8e0152\"],[0.1,\"#c51b7d\"],[0.2,\"#de77ae\"],[0.3,\"#f1b6da\"],[0.4,\"#fde0ef\"],[0.5,\"#f7f7f7\"],[0.6,\"#e6f5d0\"],[0.7,\"#b8e186\"],[0.8,\"#7fbc41\"],[0.9,\"#4d9221\"],[1,\"#276419\"]]},\"xaxis\":{\"gridcolor\":\"white\",\"linecolor\":\"white\",\"ticks\":\"\",\"title\":{\"standoff\":15},\"zerolinecolor\":\"white\",\"automargin\":true,\"zerolinewidth\":2},\"yaxis\":{\"gridcolor\":\"white\",\"linecolor\":\"white\",\"ticks\":\"\",\"title\":{\"standoff\":15},\"zerolinecolor\":\"white\",\"automargin\":true,\"zerolinewidth\":2},\"scene\":{\"xaxis\":{\"backgroundcolor\":\"#E5ECF6\",\"gridcolor\":\"white\",\"linecolor\":\"white\",\"showbackground\":true,\"ticks\":\"\",\"zerolinecolor\":\"white\",\"gridwidth\":2},\"yaxis\":{\"backgroundcolor\":\"#E5ECF6\",\"gridcolor\":\"white\",\"linecolor\":\"white\",\"showbackground\":true,\"ticks\":\"\",\"zerolinecolor\":\"white\",\"gridwidth\":2},\"zaxis\":{\"backgroundcolor\":\"#E5ECF6\",\"gridcolor\":\"white\",\"linecolor\":\"white\",\"showbackground\":true,\"ticks\":\"\",\"zerolinecolor\":\"white\",\"gridwidth\":2}},\"shapedefaults\":{\"line\":{\"color\":\"#2a3f5f\"}},\"annotationdefaults\":{\"arrowcolor\":\"#2a3f5f\",\"arrowhead\":0,\"arrowwidth\":1},\"geo\":{\"bgcolor\":\"white\",\"landcolor\":\"#E5ECF6\",\"subunitcolor\":\"white\",\"showland\":true,\"showlakes\":true,\"lakecolor\":\"white\"},\"title\":{\"x\":0.05},\"mapbox\":{\"style\":\"light\"}}},\"xaxis\":{\"anchor\":\"y\",\"domain\":[0.0,1.0],\"title\":{\"text\":\"longitud\"}},\"yaxis\":{\"anchor\":\"x\",\"domain\":[0.0,1.0],\"title\":{\"text\":\"sum of tweet_id\"}},\"legend\":{\"title\":{\"text\":\"sentiment\"},\"tracegroupgap\":0},\"margin\":{\"t\":60},\"barmode\":\"relative\"},                        {\"responsive\": true}                    ).then(function(){\n",
              "                            \n",
              "var gd = document.getElementById('81f455c9-3534-4240-8259-accd193bd5bc');\n",
              "var x = new MutationObserver(function (mutations, observer) {{\n",
              "        var display = window.getComputedStyle(gd).display;\n",
              "        if (!display || display === 'none') {{\n",
              "            console.log([gd, 'removed!']);\n",
              "            Plotly.purge(gd);\n",
              "            observer.disconnect();\n",
              "        }}\n",
              "}});\n",
              "\n",
              "// Listen for the removal of the full notebook cells\n",
              "var notebookContainer = gd.closest('#notebook-container');\n",
              "if (notebookContainer) {{\n",
              "    x.observe(notebookContainer, {childList: true});\n",
              "}}\n",
              "\n",
              "// Listen for the clearing of the current output cell\n",
              "var outputEl = gd.closest('.output');\n",
              "if (outputEl) {{\n",
              "    x.observe(outputEl, {childList: true});\n",
              "}}\n",
              "\n",
              "                        })                };                            </script>        </div>\n",
              "</body>\n",
              "</html>"
            ]
          },
          "metadata": {}
        }
      ]
    },
    {
      "cell_type": "code",
      "source": [
        "df[\"len_text_raw\"] = df[\"content\"].str.len()\n",
        "df[\"n_lower_ratio_len\"] = df[\"content\"].map(lambda x:sum(map(str.islower, x))) / df[\"len_text_raw\"]\n",
        "df[\"n_upper_ratio_len\"] = df[\"content\"].map(lambda x:sum(map(str.isupper, x))) / df[\"len_text_raw\"]\n",
        "df[\"n_words\"] = df[\"content\"].str.split(\" \").str.len()\n",
        "df[\"n_letters\"] = df[\"content\"].map(lambda x:sum(map(str.isalpha, x)))\n",
        "df[\"n_lower_ratio_letters\"] = df[\"content\"].map(lambda x:sum(map(str.islower, x))) / df[\"n_letters\"]\n",
        "df[\"n_upper_ratio_letters\"] = df[\"content\"].map(lambda x:sum(map(str.isupper, x))) / df[\"n_letters\"]"
      ],
      "metadata": {
        "id": "YznHSvAJ5-Tt"
      },
      "execution_count": null,
      "outputs": []
    },
    {
      "cell_type": "code",
      "source": [
        "#faltas de ortografia\n",
        "#spell = SpellChecker()\n",
        "\n",
        "#def verificar_ortografia(texto):\n",
        "#    palabras = texto.split()\n",
        "#    contador = 0\n",
        "#    for palabra in palabras:\n",
        "#        if palabra.lower() not in spell:\n",
        "#            contador += 1\n",
        "#    return contador"
      ],
      "metadata": {
        "id": "7HNlHAeusvMF"
      },
      "execution_count": null,
      "outputs": []
    },
    {
      "cell_type": "code",
      "source": [
        "#sin emojis\n",
        "#df2[\"n_emojis\"] = df2[\"content\"].map(emoji.emoji_count)\n",
        "#df2['n_emojis'].value_counts()"
      ],
      "metadata": {
        "id": "Wz3YryDO2GlV"
      },
      "execution_count": null,
      "outputs": []
    },
    {
      "cell_type": "code",
      "source": [
        "#quitamos Stop words antes de hacer nueve de palabras\n",
        "stop_words = set(stopwords.words('english'))\n",
        "stop_words.update(['im',\"I'm\"])"
      ],
      "metadata": {
        "id": "aR48w-aMNVNC"
      },
      "execution_count": null,
      "outputs": []
    },
    {
      "cell_type": "code",
      "source": [
        "text = \" \".join(review for review in df[\"content_clean\"])\n",
        "\n",
        "#mask = np.array(Image.open(\"/content/nube.png\"))\n",
        "#mask[mask == 1] = 255\n",
        "\n",
        "wordcloud = WordCloud(stopwords=stop_words, background_color=\"white\").generate(text)\n",
        "plt.figure(figsize=(10, 5))\n",
        "plt.imshow(wordcloud,interpolation='bilinear')\n",
        "plt.axis('off')\n",
        "plt.show()"
      ],
      "metadata": {
        "colab": {
          "base_uri": "https://localhost:8080/",
          "height": 210
        },
        "id": "IiXc2nJKUTnM",
        "outputId": "4edf7524-3cba-44a1-a02c-69478013c486"
      },
      "execution_count": null,
      "outputs": [
        {
          "output_type": "error",
          "ename": "NameError",
          "evalue": "name 'stop_words' is not defined",
          "traceback": [
            "\u001b[0;31m---------------------------------------------------------------------------\u001b[0m",
            "\u001b[0;31mNameError\u001b[0m                                 Traceback (most recent call last)",
            "\u001b[0;32m<ipython-input-44-0dad28b334dc>\u001b[0m in \u001b[0;36m<cell line: 6>\u001b[0;34m()\u001b[0m\n\u001b[1;32m      4\u001b[0m \u001b[0;31m#mask[mask == 1] = 255\u001b[0m\u001b[0;34m\u001b[0m\u001b[0;34m\u001b[0m\u001b[0m\n\u001b[1;32m      5\u001b[0m \u001b[0;34m\u001b[0m\u001b[0m\n\u001b[0;32m----> 6\u001b[0;31m \u001b[0mwordcloud\u001b[0m \u001b[0;34m=\u001b[0m \u001b[0mWordCloud\u001b[0m\u001b[0;34m(\u001b[0m\u001b[0mstopwords\u001b[0m\u001b[0;34m=\u001b[0m\u001b[0mstop_words\u001b[0m\u001b[0;34m,\u001b[0m \u001b[0mbackground_color\u001b[0m\u001b[0;34m=\u001b[0m\u001b[0;34m\"white\"\u001b[0m\u001b[0;34m)\u001b[0m\u001b[0;34m.\u001b[0m\u001b[0mgenerate\u001b[0m\u001b[0;34m(\u001b[0m\u001b[0mtext\u001b[0m\u001b[0;34m)\u001b[0m\u001b[0;34m\u001b[0m\u001b[0;34m\u001b[0m\u001b[0m\n\u001b[0m\u001b[1;32m      7\u001b[0m \u001b[0mplt\u001b[0m\u001b[0;34m.\u001b[0m\u001b[0mfigure\u001b[0m\u001b[0;34m(\u001b[0m\u001b[0mfigsize\u001b[0m\u001b[0;34m=\u001b[0m\u001b[0;34m(\u001b[0m\u001b[0;36m10\u001b[0m\u001b[0;34m,\u001b[0m \u001b[0;36m5\u001b[0m\u001b[0;34m)\u001b[0m\u001b[0;34m)\u001b[0m\u001b[0;34m\u001b[0m\u001b[0;34m\u001b[0m\u001b[0m\n\u001b[1;32m      8\u001b[0m \u001b[0mplt\u001b[0m\u001b[0;34m.\u001b[0m\u001b[0mimshow\u001b[0m\u001b[0;34m(\u001b[0m\u001b[0mwordcloud\u001b[0m\u001b[0;34m,\u001b[0m\u001b[0minterpolation\u001b[0m\u001b[0;34m=\u001b[0m\u001b[0;34m'bilinear'\u001b[0m\u001b[0;34m)\u001b[0m\u001b[0;34m\u001b[0m\u001b[0;34m\u001b[0m\u001b[0m\n",
            "\u001b[0;31mNameError\u001b[0m: name 'stop_words' is not defined"
          ]
        }
      ]
    },
    {
      "cell_type": "markdown",
      "source": [
        "# Preprocesamiento"
      ],
      "metadata": {
        "id": "Y1hTRZgH1Qbg"
      }
    },
    {
      "cell_type": "code",
      "source": [
        "def clean_text(text, pattern=\"[^a-zA-Z0-9 ]\"):\n",
        "    cleaned_text = unicodedata.normalize('NFD', text).encode('ascii', 'ignore')\n",
        "    cleaned_text = re.sub(pattern, \" \", cleaned_text.decode(\"utf-8\"), flags=re.UNICODE)\n",
        "    cleaned_text = u' '.join(cleaned_text.lower().strip().split())\n",
        "    return cleaned_text"
      ],
      "metadata": {
        "id": "FF1DDqhGhffg"
      },
      "execution_count": null,
      "outputs": []
    },
    {
      "cell_type": "code",
      "source": [
        "#def transformaciones(df,texto):\n",
        "#  df[texto]=df[texto].map(lambda x: clean_text(x))\n",
        "#  df[texto]=df[texto].str.lower() # minusculas\n",
        "#  df[texto]=df[texto].map(lambda text:\" \".join([x for x in text.split(\" \") if x not in stop_words]))\n",
        "#  corpus=\" \".join(df[texto].values)\n",
        "#  fdist=nltk.FreqDist(corpus.split())\n",
        "#  list_hapaxes=fdist.hapaxes()\n",
        "#  df[texto]=df[texto].map(lambda text:\" \".join([x for x in text.split(\" \") if x not in list_hapaxes]))\n",
        "#  lemmatizer = WordNetLemmatizer()\n",
        "#  df[texto] = df[texto].apply(lambda x: ' '.join([lemmatizer.lemmatize(word) for word in word_tokenize(x)]))\n"
      ],
      "metadata": {
        "id": "Z_PWX_fWDqLh"
      },
      "execution_count": null,
      "outputs": []
    },
    {
      "cell_type": "code",
      "source": [
        "df['content']=df['content'].map(lambda x: clean_text(x)) #unicode"
      ],
      "metadata": {
        "id": "WXmFYCkYms76"
      },
      "execution_count": null,
      "outputs": []
    },
    {
      "cell_type": "code",
      "source": [
        "df['content']=df['content'].str.lower() # minusculas\n",
        "df[\"content\"]=df[\"content\"].map(lambda text:\" \".join([x for x in text.split(\" \") if x not in stop_words]))#STOPWORDS"
      ],
      "metadata": {
        "id": "H3Onlid-h2S8"
      },
      "execution_count": null,
      "outputs": []
    },
    {
      "cell_type": "code",
      "source": [
        "#HAPAXES\n",
        "corpus=\" \".join(df[\"content_clean\"].values)\n",
        "fdist=nltk.FreqDist(corpus.split())\n",
        "list_hapaxes=fdist.hapaxes()"
      ],
      "metadata": {
        "id": "IldBWaB0oYAx"
      },
      "execution_count": null,
      "outputs": []
    },
    {
      "cell_type": "code",
      "source": [
        "len(list_hapaxes) #32,712"
      ],
      "metadata": {
        "id": "vGsBNhYbselL",
        "colab": {
          "base_uri": "https://localhost:8080/"
        },
        "outputId": "69bae388-e8f6-4eb6-95ac-210ed93b0d32"
      },
      "execution_count": null,
      "outputs": [
        {
          "output_type": "execute_result",
          "data": {
            "text/plain": [
              "16946"
            ]
          },
          "metadata": {},
          "execution_count": 46
        }
      ]
    },
    {
      "cell_type": "code",
      "source": [
        "list_hapaxes"
      ],
      "metadata": {
        "colab": {
          "base_uri": "https://localhost:8080/"
        },
        "id": "q3iVP5Xoveir",
        "outputId": "2fc0d089-588d-4d42-c752-98d89d79a9f9"
      },
      "execution_count": null,
      "outputs": [
        {
          "output_type": "execute_result",
          "data": {
            "text/plain": [
              "['charlene',\n",
              " 'tourture',\n",
              " 'itonlinelaughter',\n",
              " 'leaking',\n",
              " 'signals',\n",
              " 'plotting',\n",
              " 'muahahaha',\n",
              " 'balisage',\n",
              " 'markup',\n",
              " 'topicmaps',\n",
              " 'keggers',\n",
              " 'lewd',\n",
              " 'koxpers',\n",
              " \"bs'd\",\n",
              " 'contractions',\n",
              " 'skott',\n",
              " 'uds',\n",
              " 'wnna',\n",
              " '6hrs',\n",
              " 'restructuring',\n",
              " 'dibs',\n",
              " 'sulu',\n",
              " 'onward',\n",
              " 'aby',\n",
              " 'yaris',\n",
              " '70mpg',\n",
              " 'pumkpin',\n",
              " 'nudges',\n",
              " 'sexual',\n",
              " 'maternal',\n",
              " \"'threatening'\",\n",
              " \"'him'\",\n",
              " 'plurking',\n",
              " 'bacterin',\n",
              " 'voobys',\n",
              " 'elp',\n",
              " 'ae',\n",
              " \"knight's\",\n",
              " 'definitly',\n",
              " \"'it'sakey'\",\n",
              " 'blaahh',\n",
              " 'spellchecker',\n",
              " 'unhelpful',\n",
              " 'availble',\n",
              " 'plucked',\n",
              " 'cayogial',\n",
              " 'rakeem',\n",
              " 'bbye',\n",
              " 'biochem',\n",
              " 'misshu',\n",
              " 'retry',\n",
              " 'tasteless',\n",
              " 'portion',\n",
              " 'youstinkatrespondingtotexts',\n",
              " 'cheesesteak',\n",
              " '626',\n",
              " 'twiddling',\n",
              " \"16'th\",\n",
              " 'achieving',\n",
              " 'cumbersome',\n",
              " 'neemah',\n",
              " 'airmatras',\n",
              " 'wellness',\n",
              " 'insuran',\n",
              " 'meanw',\n",
              " 'bestfriends',\n",
              " '400mb',\n",
              " 'onpeak',\n",
              " 'memo',\n",
              " 'yearling',\n",
              " 'splinter',\n",
              " 'muppets',\n",
              " 'displeased',\n",
              " 'thanksgiving',\n",
              " 'tangled',\n",
              " 'dislocation',\n",
              " 'fracture',\n",
              " 'resulted',\n",
              " 'torchwood',\n",
              " 'weeknend',\n",
              " '3ware',\n",
              " '9650se',\n",
              " 'x25',\n",
              " 'raid5',\n",
              " '800mhz',\n",
              " 'iop',\n",
              " 'hpt',\n",
              " 'adaptec',\n",
              " '5405',\n",
              " '2ghz',\n",
              " 'roasters',\n",
              " 'oir',\n",
              " 'migrains',\n",
              " 'optimist',\n",
              " 'bakersfield',\n",
              " 'ports',\n",
              " 'twittle',\n",
              " 'linking',\n",
              " 'ravenclaw',\n",
              " \"suhana's\",\n",
              " 'ocu',\n",
              " 'altnoy',\n",
              " 'calcs',\n",
              " 'cockatoos',\n",
              " 'vaiko',\n",
              " 'nedumaran',\n",
              " 'ltte',\n",
              " 'numerous',\n",
              " 'clwn',\n",
              " 'guitars',\n",
              " 'retrieve',\n",
              " 'permaban',\n",
              " 'seemy',\n",
              " 'guyfreind',\n",
              " 'misleading',\n",
              " 'concentration',\n",
              " 'ultimately',\n",
              " 'twittascope',\n",
              " 'ebtter',\n",
              " 'adn',\n",
              " 'shortstack',\n",
              " 'stressors',\n",
              " 'binder',\n",
              " 'ulduar',\n",
              " 'vhemt',\n",
              " 'beup',\n",
              " 'shivashankar',\n",
              " 'spellin',\n",
              " 'justify',\n",
              " 'curler',\n",
              " 'pitts',\n",
              " 'steppin',\n",
              " 'explored',\n",
              " 'balconies',\n",
              " 'diabetic',\n",
              " 'vom',\n",
              " 'strongest',\n",
              " 'tryst',\n",
              " 'punkin',\n",
              " 'beover',\n",
              " 'arroyo',\n",
              " 'lacrimal',\n",
              " 'infectection',\n",
              " 'unsalvageable',\n",
              " 'medhurst',\n",
              " 'aarrgghh',\n",
              " 'orals',\n",
              " 'gizmo',\n",
              " 'h8s',\n",
              " 'growls',\n",
              " 'pruple',\n",
              " 'fingie',\n",
              " \"pinocchio's\",\n",
              " 'miscarriage',\n",
              " 'zit',\n",
              " 'herpes',\n",
              " 'ratt',\n",
              " 'pearcy',\n",
              " 'dbl',\n",
              " 'whyy',\n",
              " 'vineri',\n",
              " 'nimic',\n",
              " 'probabil',\n",
              " 'pierdut',\n",
              " 'humpalow',\n",
              " 'fiuuhh',\n",
              " 'shortage',\n",
              " 'combers',\n",
              " 'toth',\n",
              " 'panicky',\n",
              " 'extracted',\n",
              " 'yesyesyes',\n",
              " \"charle's\",\n",
              " 'savemart',\n",
              " 'hayward',\n",
              " \"schindler's\",\n",
              " 'tatt',\n",
              " 'erock',\n",
              " 'jolted',\n",
              " 'blames',\n",
              " 'tactical',\n",
              " 'gratification',\n",
              " 'ayaw',\n",
              " 'bumukas',\n",
              " 'chace',\n",
              " 'hiphop',\n",
              " 'nursery',\n",
              " '16yo',\n",
              " \"tweetie's\",\n",
              " 'calibre',\n",
              " 'jacksonville',\n",
              " '530p',\n",
              " 'sleppytime',\n",
              " 'tmwr',\n",
              " 'cones',\n",
              " 'chapman',\n",
              " 'hongkong',\n",
              " 'superseeded',\n",
              " 'dmp',\n",
              " \"fuckin'm\",\n",
              " 'transtelecom',\n",
              " 'beefin',\n",
              " 'problematic',\n",
              " 'desperatly',\n",
              " 'ravels',\n",
              " 'justa',\n",
              " 'birfdayy',\n",
              " 'discourages',\n",
              " '4rom',\n",
              " 'extremly',\n",
              " 'chubba',\n",
              " 'relisting',\n",
              " 'jab',\n",
              " 'mnet',\n",
              " 'slidebar',\n",
              " 'cbd',\n",
              " 'mtub',\n",
              " 'cmon',\n",
              " 'rachyl',\n",
              " 'sliders',\n",
              " 'barjohnnys',\n",
              " 'morcom',\n",
              " 'notlooking',\n",
              " 'upsidedown',\n",
              " 'priecing',\n",
              " 'famz',\n",
              " \"caan't\",\n",
              " 'iht',\n",
              " 'ahar',\n",
              " 'athough',\n",
              " \"'open\",\n",
              " \"season'\",\n",
              " 'foreigners',\n",
              " 'interwebz',\n",
              " 'compton',\n",
              " 'pettigrew',\n",
              " 'e1',\n",
              " \"palomino's\",\n",
              " 'gilmour',\n",
              " 'cofe',\n",
              " 'martwo',\n",
              " 'knooww',\n",
              " 'whangamata',\n",
              " 'domestics',\n",
              " 'aright',\n",
              " 'outties',\n",
              " 'aptitude',\n",
              " 'wimp',\n",
              " 'perv',\n",
              " 'scrapped',\n",
              " 'rejecting',\n",
              " 'substances',\n",
              " 'twomey',\n",
              " 'icann',\n",
              " 'outcome',\n",
              " 'mbs',\n",
              " 'gory',\n",
              " 'nyeh',\n",
              " 'recapping',\n",
              " 'clash',\n",
              " 'iyaa',\n",
              " 'preservatives',\n",
              " 'balboa',\n",
              " 'gimana',\n",
              " 'whittier',\n",
              " 'siggy',\n",
              " 'lupus',\n",
              " 'thatsimee',\n",
              " 'abang',\n",
              " 'no0o0o0o',\n",
              " 'wipe',\n",
              " 'slate',\n",
              " 'finsh',\n",
              " 'allowd',\n",
              " \"chaseton's\",\n",
              " 'horriterrible',\n",
              " 'annonymity',\n",
              " 'kbangun',\n",
              " 'gara2',\n",
              " 'mimpi',\n",
              " 'loneliness',\n",
              " 'creeps',\n",
              " 'nodd',\n",
              " \"fakin'\",\n",
              " 'kisha',\n",
              " 'tense',\n",
              " 'edges',\n",
              " 'braggin',\n",
              " 'franz',\n",
              " 'friended',\n",
              " 'sommat',\n",
              " 'footwear',\n",
              " 'ignorent',\n",
              " 'aholes',\n",
              " 'overturn',\n",
              " 'wiat',\n",
              " 'beddy',\n",
              " \"traveller's\",\n",
              " 'maggi',\n",
              " 'goreng',\n",
              " 'cmin',\n",
              " 'xt',\n",
              " 'poorest',\n",
              " 'complexion',\n",
              " \"downloadfestival's\",\n",
              " 'contradiction',\n",
              " 'sama',\n",
              " 'luvd',\n",
              " 'extent',\n",
              " 'pomona',\n",
              " 'pdhpe',\n",
              " 'caritoo',\n",
              " 'dissapointment',\n",
              " 'malfunctioning',\n",
              " 'pelzer',\n",
              " 'trailor',\n",
              " 'fx100',\n",
              " 'teradici',\n",
              " 'hda',\n",
              " 'drv',\n",
              " 'tripoly',\n",
              " 'huf',\n",
              " 'acs',\n",
              " 'shenanigans',\n",
              " 'mouses',\n",
              " 'tatoo',\n",
              " 'zongzi',\n",
              " \"dell's\",\n",
              " 'warrenty',\n",
              " 'operate',\n",
              " 'bymyself',\n",
              " 'repops',\n",
              " 'lays',\n",
              " 'backaches',\n",
              " 'imprisoned',\n",
              " 'importing',\n",
              " 'scheme',\n",
              " 'i20',\n",
              " 'sisser',\n",
              " 'churchill',\n",
              " 'bla',\n",
              " 'bahh',\n",
              " \"ring'\",\n",
              " 'creppy',\n",
              " 'jemi',\n",
              " 'beths',\n",
              " 'unperfect',\n",
              " 'reaper',\n",
              " 'punlk',\n",
              " 'torcon',\n",
              " 'fjdskal',\n",
              " 'youtubed',\n",
              " 'darnitt',\n",
              " 'injustice',\n",
              " 'nostalgia',\n",
              " 'tushar',\n",
              " 'twitastic',\n",
              " 'budgeting',\n",
              " 'chasers',\n",
              " 'grimsby',\n",
              " 'farewelling',\n",
              " \"heating's\",\n",
              " 'lyrically',\n",
              " 'blackout',\n",
              " 'ggd2',\n",
              " 'ggd1',\n",
              " 'hickups',\n",
              " 'taekwando',\n",
              " 'accomodation',\n",
              " 'sleeved',\n",
              " 'alltop',\n",
              " 'playn',\n",
              " 'livechat',\n",
              " 'weekdays',\n",
              " 'enevitable',\n",
              " 'bores',\n",
              " 'temme',\n",
              " 'firangs',\n",
              " 'jowki',\n",
              " 'representative',\n",
              " 'punjab',\n",
              " 'cleanout',\n",
              " 'bookshelf',\n",
              " '209',\n",
              " '205',\n",
              " 'cigg',\n",
              " '7500',\n",
              " 'shitest',\n",
              " 'sadfaced',\n",
              " 'thurstag',\n",
              " '800x',\n",
              " 'maatt',\n",
              " 'frnds',\n",
              " 'manasellaam',\n",
              " 'kulir100',\n",
              " 'nanbargale',\n",
              " 'forked',\n",
              " \"grandmother's\",\n",
              " 'locket',\n",
              " \"18's\",\n",
              " 'tomorrw',\n",
              " 'ahahaay',\n",
              " 'unto',\n",
              " 'carlie',\n",
              " 'affecting',\n",
              " 'janitor',\n",
              " 'extremally',\n",
              " 'laught',\n",
              " 'possum',\n",
              " 'mailinglist',\n",
              " 'secs',\n",
              " 'yesterdaynight',\n",
              " 'knijp',\n",
              " 'jaap',\n",
              " 'pinga',\n",
              " 'conserving',\n",
              " 'attributed',\n",
              " 'seizure',\n",
              " 'inducing',\n",
              " 'soloist',\n",
              " 'vo',\n",
              " 'honza',\n",
              " '49am',\n",
              " 'jerms',\n",
              " 'mrr',\n",
              " 'lust',\n",
              " 'matty',\n",
              " 'aila',\n",
              " 'cyclone',\n",
              " 'sunshade',\n",
              " 'panwa',\n",
              " 'reaches',\n",
              " 'tweetless',\n",
              " 'retain',\n",
              " 'alrightt',\n",
              " 'wanders',\n",
              " 'weebo',\n",
              " 'mistreated',\n",
              " 'ecxept',\n",
              " 'got2meet',\n",
              " 'rhyder',\n",
              " 'hitten',\n",
              " '2orw',\n",
              " 'bni',\n",
              " 'dokomi',\n",
              " 'unnerve',\n",
              " 'sameway',\n",
              " 'monte',\n",
              " 'cristo',\n",
              " 'ibs',\n",
              " 'slouch',\n",
              " 'suhana',\n",
              " 'sinks',\n",
              " 'crotch',\n",
              " 'spattered',\n",
              " 'butno',\n",
              " 'patched',\n",
              " 'tessy',\n",
              " 'halp',\n",
              " 'veoh',\n",
              " 'unny',\n",
              " 'wna',\n",
              " \"'phuture\",\n",
              " 'goode',\n",
              " 'anythgin',\n",
              " 'cures',\n",
              " 'oregan',\n",
              " 'd60',\n",
              " 'huhuh',\n",
              " 'epps',\n",
              " 'updatd',\n",
              " 'stacks',\n",
              " 'wdyt',\n",
              " 'deceiving',\n",
              " 'threes',\n",
              " 'hifi',\n",
              " 'minish',\n",
              " 'ezlo',\n",
              " 'bprohibiting',\n",
              " 'gett',\n",
              " \"goofin'\",\n",
              " \"'ol\",\n",
              " 'clit',\n",
              " 'shemms',\n",
              " 'straining',\n",
              " '78277',\n",
              " 'marlito',\n",
              " 'novaliches',\n",
              " 'big1',\n",
              " 'eather',\n",
              " 'macaroons',\n",
              " 'wookei',\n",
              " 'neighbourhood',\n",
              " 'bully',\n",
              " 'argr',\n",
              " 'yearss',\n",
              " 'feeders',\n",
              " \"krypton's\",\n",
              " 'lorry',\n",
              " 'signaling',\n",
              " 'censor',\n",
              " 'dirteeh',\n",
              " 'ethernet',\n",
              " \"s'acaba\",\n",
              " 'setmana',\n",
              " 'amb',\n",
              " 'millor',\n",
              " 'pol',\n",
              " 'udd',\n",
              " 'misadventures',\n",
              " 'pfftt',\n",
              " 'boxset',\n",
              " 'zimbabwe',\n",
              " 'noones',\n",
              " 'dargah',\n",
              " 'eprocurement',\n",
              " 'blacklisted',\n",
              " 'whitelist',\n",
              " 'siblings',\n",
              " 'dolidh',\n",
              " 'leeuwarden',\n",
              " 'regina',\n",
              " 'deux',\n",
              " 'amritsar',\n",
              " 'wholesale',\n",
              " \"s'just\",\n",
              " 'gha',\n",
              " 'foh',\n",
              " 'shortcoming',\n",
              " 'integrated',\n",
              " 'subtract',\n",
              " 'pelangi',\n",
              " 'dsaa09',\n",
              " 'posse',\n",
              " 'vacant',\n",
              " 'dynamic',\n",
              " 'annpyimg',\n",
              " 'interrupt',\n",
              " 'yeps',\n",
              " 'darrian',\n",
              " 'lawns',\n",
              " 'pepo',\n",
              " 'leavn',\n",
              " \"hal's\",\n",
              " 'shannie',\n",
              " 'souvlaki',\n",
              " 'dimitris',\n",
              " 'epicfail',\n",
              " 'liao',\n",
              " 'bunk',\n",
              " 'handset',\n",
              " 'headphone',\n",
              " 'ccrying',\n",
              " 'depite',\n",
              " 'caity',\n",
              " 'hatiku',\n",
              " 'calming',\n",
              " 'gren',\n",
              " 'poltergeist',\n",
              " 'faking',\n",
              " 'theyr',\n",
              " 'pilots',\n",
              " 'gogol',\n",
              " 'bordello',\n",
              " 'civilization',\n",
              " 'decrease',\n",
              " 'streamed',\n",
              " 'wishful',\n",
              " 'melatonin',\n",
              " 'smarmy',\n",
              " 'boytoy',\n",
              " 'oist',\n",
              " 'sakit',\n",
              " 'hsbc',\n",
              " 'apy',\n",
              " 'montepulciano',\n",
              " 'trailing',\n",
              " 'pwg',\n",
              " 'botched',\n",
              " 'hybrid',\n",
              " 'xl',\n",
              " 'manger',\n",
              " 'spencers',\n",
              " 'wealthed',\n",
              " 'dif',\n",
              " 'qmbol',\n",
              " 'bursting',\n",
              " 'bucky',\n",
              " 'insulinoma',\n",
              " 'prednisone',\n",
              " 'oop',\n",
              " \"resume's\",\n",
              " 'officejet',\n",
              " 'j4550',\n",
              " 'windows7',\n",
              " 'fax',\n",
              " 'goddam',\n",
              " 'goodgirl',\n",
              " 'hordies',\n",
              " 'valium',\n",
              " 'cheks',\n",
              " 'foreword',\n",
              " 'blackberrymessenger',\n",
              " 'itx',\n",
              " 'depechemode',\n",
              " 'gahan',\n",
              " 'tweetboard',\n",
              " 'boredboots',\n",
              " 'tshwane',\n",
              " 'morphed',\n",
              " 'jumpy',\n",
              " 'hazy',\n",
              " 'hom',\n",
              " 'tda',\n",
              " 'mmkayy',\n",
              " 'undrstand',\n",
              " 'busays',\n",
              " 'waray',\n",
              " 'menudo',\n",
              " '2ft',\n",
              " 'laud',\n",
              " 'weddin',\n",
              " 'proppa',\n",
              " 'everythin',\n",
              " 'gday',\n",
              " 'interop',\n",
              " 'vb6',\n",
              " 'dll',\n",
              " 'hustlaball',\n",
              " 'prowler',\n",
              " 'multitask',\n",
              " 'shrinking',\n",
              " \"'candamir'\",\n",
              " 'worthed',\n",
              " 'skewl',\n",
              " '1946',\n",
              " 'bue',\n",
              " 'throws',\n",
              " 'russel',\n",
              " \"brand's\",\n",
              " 'ponderland',\n",
              " 'botherin',\n",
              " 'underpaid',\n",
              " 'ohyeah',\n",
              " 'wrinkles',\n",
              " 'scarey',\n",
              " 'paradice',\n",
              " 'expecto',\n",
              " 'patronum',\n",
              " 'yata',\n",
              " 'whereas',\n",
              " 'resemble',\n",
              " 'hyperlinks',\n",
              " 'indentation',\n",
              " 'idont',\n",
              " \"tyson's\",\n",
              " 'gnna',\n",
              " 'radar',\n",
              " 'exxciiteed',\n",
              " 'booya',\n",
              " 'sexin',\n",
              " 'nites',\n",
              " \"haribo's\",\n",
              " 'donot',\n",
              " 'ftl',\n",
              " \"shady's\",\n",
              " 'equations',\n",
              " 'graphs',\n",
              " 'untalented',\n",
              " 'skimmed',\n",
              " 'imitate',\n",
              " 'europers',\n",
              " 'tiffys',\n",
              " 'stripes',\n",
              " 'temples',\n",
              " 'butmy',\n",
              " 'carparks',\n",
              " 'storysize',\n",
              " 'prompting',\n",
              " 'hemp',\n",
              " 'batt',\n",
              " 'todayh',\n",
              " 'oink',\n",
              " \"'night\",\n",
              " \"ruxbury'\",\n",
              " 'frightened',\n",
              " \"cy's\",\n",
              " \"mofo'ing\",\n",
              " 'nts',\n",
              " 'rica',\n",
              " 'ulead',\n",
              " 'doodle',\n",
              " 'eisteddfod',\n",
              " 'gloriously',\n",
              " 'sigue',\n",
              " 'ventolin',\n",
              " 'delted',\n",
              " 'thermal',\n",
              " '75c',\n",
              " 'mudweight',\n",
              " 'confusions',\n",
              " 'chuu',\n",
              " 'dbsk',\n",
              " \"oppa's\",\n",
              " 'mirotic',\n",
              " 'sleppy',\n",
              " 'winced',\n",
              " 'flatland',\n",
              " 'administrative',\n",
              " 'pple',\n",
              " 'blehckk',\n",
              " '2dives',\n",
              " '10m',\n",
              " 'dynamite',\n",
              " 'reefs',\n",
              " 'shen',\n",
              " '66',\n",
              " 'daugter',\n",
              " 'g2g',\n",
              " 'straightened',\n",
              " 'ysj',\n",
              " 'overdo',\n",
              " 'envious',\n",
              " 'muay',\n",
              " 'buttershots',\n",
              " 'gez',\n",
              " 'junt',\n",
              " '401',\n",
              " 'baggage',\n",
              " 'naisee',\n",
              " 'flares',\n",
              " 'arond',\n",
              " 'twittix',\n",
              " 'v1',\n",
              " 'bmi',\n",
              " 'obesed',\n",
              " '790',\n",
              " 'pismo',\n",
              " 'powershot',\n",
              " 'swinish',\n",
              " 'spender',\n",
              " 'bej',\n",
              " 'semanggi',\n",
              " 'jorx',\n",
              " 'toms',\n",
              " 'carwash',\n",
              " 'skunks',\n",
              " 'stab',\n",
              " 'bhuja',\n",
              " 'fakeflu',\n",
              " 'bankrupt',\n",
              " 'sundaes',\n",
              " 'dumpster',\n",
              " 'messgae',\n",
              " 'saver',\n",
              " 'cayman',\n",
              " 'iteari',\n",
              " '0ut',\n",
              " 'sandwiched',\n",
              " 'ria',\n",
              " 'portmeirion',\n",
              " 'groundbreaking',\n",
              " '9followers',\n",
              " \"'hurrah\",\n",
              " \"'cos\",\n",
              " 'briefs',\n",
              " 'travellers',\n",
              " 'council',\n",
              " 'heltershelter',\n",
              " 'myonlysanction',\n",
              " 'musicals',\n",
              " 'stray',\n",
              " 'cans',\n",
              " 'fooked',\n",
              " 'phill',\n",
              " 'listens',\n",
              " 'msi',\n",
              " '200km',\n",
              " 'microphone',\n",
              " 'skylight',\n",
              " 'fern',\n",
              " 'missd',\n",
              " 'otha',\n",
              " 'certificate',\n",
              " 'gryffindor',\n",
              " 'pushin',\n",
              " 'bushing',\n",
              " 'ankles',\n",
              " 'eeks',\n",
              " 'trenchcoat',\n",
              " 'zip',\n",
              " 'courney',\n",
              " 'walet',\n",
              " 'smokers',\n",
              " 'vandalize',\n",
              " 'spitting',\n",
              " 'mms',\n",
              " 'waer',\n",
              " 'nexxt',\n",
              " 'telstra',\n",
              " 'teleco',\n",
              " 'gudafternoon',\n",
              " 'maintaining',\n",
              " \"page's\",\n",
              " 'kellan',\n",
              " 'lutz',\n",
              " \"audun's\",\n",
              " 'molyneux',\n",
              " 'foodshopping',\n",
              " 'earnt',\n",
              " 'slepz',\n",
              " 'whatthefuck',\n",
              " 'tweefight',\n",
              " 'preform',\n",
              " 'crapped',\n",
              " 'moro',\n",
              " 'christians',\n",
              " '10jaffa',\n",
              " 'alott',\n",
              " 'kahit',\n",
              " 'pesos',\n",
              " 'fusterated',\n",
              " 'throats',\n",
              " 'earaches',\n",
              " 'tranlsators',\n",
              " 'beinnale',\n",
              " 'greatscores',\n",
              " 'yeaps',\n",
              " 'programmes',\n",
              " 'losses',\n",
              " 'levin',\n",
              " 'resee',\n",
              " 'housemate',\n",
              " 'reminise',\n",
              " 'preggers',\n",
              " 'trimmer',\n",
              " 'servings',\n",
              " 'jericho',\n",
              " 'pleeaassee',\n",
              " 'flee',\n",
              " 'bunking',\n",
              " 'litt',\n",
              " 'lese',\n",
              " 'siste',\n",
              " 'tweetsen',\n",
              " 'prooved',\n",
              " '64577',\n",
              " 'billionth',\n",
              " 'yis',\n",
              " 'ryke',\n",
              " 'sph',\n",
              " 'dissappoint',\n",
              " 'follwin',\n",
              " 'henry',\n",
              " 'gunner',\n",
              " 'shorry',\n",
              " 'bebeh',\n",
              " 'okeh',\n",
              " 'finales',\n",
              " 'pornstar',\n",
              " 'tallented',\n",
              " 'badoptus',\n",
              " 'kaneohe',\n",
              " 'fucksake',\n",
              " 'dom',\n",
              " 'oxm',\n",
              " 'shifter',\n",
              " 'disseldorf',\n",
              " 'nervy',\n",
              " 'folders',\n",
              " 'trw',\n",
              " 'abduzzeedo',\n",
              " 'indicates',\n",
              " 'gulb',\n",
              " 'mths',\n",
              " 'sasd',\n",
              " 'akhrnya',\n",
              " 'nggi',\n",
              " 'nya',\n",
              " 'macet2',\n",
              " 'season4',\n",
              " 'pdhl',\n",
              " 'nyari',\n",
              " 'season3nya',\n",
              " 'disclaimer',\n",
              " 'constipated',\n",
              " 'tigerheat',\n",
              " 'otherdad',\n",
              " 'macabre',\n",
              " 'nuclear',\n",
              " 'warisfucked',\n",
              " 'inshalla',\n",
              " 'devo',\n",
              " 'astor',\n",
              " 'playcount',\n",
              " 'siempre',\n",
              " 'occasional',\n",
              " 'imissu',\n",
              " 'burying',\n",
              " 'erotica',\n",
              " 'snuffing',\n",
              " 'wefollow',\n",
              " 'btr',\n",
              " 'jaron',\n",
              " 'ticketek',\n",
              " 'infomercials',\n",
              " 'placebo',\n",
              " 'tori',\n",
              " 'amos',\n",
              " 'bejewled',\n",
              " 'higherscore',\n",
              " 'truss',\n",
              " '365days',\n",
              " 'rperss',\n",
              " 'costing',\n",
              " 'nationals',\n",
              " '38am',\n",
              " 'funsies',\n",
              " 'whoshere',\n",
              " 'virtues',\n",
              " 'slug',\n",
              " 'improvment',\n",
              " 'hamlet',\n",
              " 'gyms',\n",
              " 'cagayan',\n",
              " 'oro',\n",
              " 'wag',\n",
              " 'nadedepress',\n",
              " 'dubiln',\n",
              " 'brunos',\n",
              " 'hayfevery',\n",
              " 'sufferin',\n",
              " 'euh',\n",
              " 'ldap',\n",
              " 'schema',\n",
              " 'joemar',\n",
              " 'bataan',\n",
              " 'camiguin',\n",
              " 'ofcmates',\n",
              " 'luwas',\n",
              " \"t8's\",\n",
              " 'emalon',\n",
              " 'summervac',\n",
              " 'pringles',\n",
              " 'acidentally',\n",
              " 'bitin',\n",
              " 'xrebelrebelx',\n",
              " '42am',\n",
              " 'resorting',\n",
              " 'helens',\n",
              " 'geebus',\n",
              " 'alumnus',\n",
              " 'blimey',\n",
              " 'vagas',\n",
              " 'fack',\n",
              " 'seriouse',\n",
              " 'lea',\n",
              " 'bofa',\n",
              " 'prioritizing',\n",
              " 'streching',\n",
              " '10mm',\n",
              " 'batery',\n",
              " 'tryingtofind',\n",
              " 'movieto',\n",
              " 'wowowee',\n",
              " 'bluedart',\n",
              " 'smoothstreaming',\n",
              " \"client's\",\n",
              " 'squabbling',\n",
              " 'tumblarity',\n",
              " 'frazzled',\n",
              " 'liers',\n",
              " 'hurghada',\n",
              " 'srtarting',\n",
              " 'cleand',\n",
              " 'loserville',\n",
              " 'laths',\n",
              " 'tally',\n",
              " 'carelessness',\n",
              " 'naia',\n",
              " \"laddie's\",\n",
              " \"dentist's\",\n",
              " 'recoverable',\n",
              " 'clingy',\n",
              " '200f2',\n",
              " 'twedding',\n",
              " '15minutes',\n",
              " 'i900d',\n",
              " 'fisheye',\n",
              " 'acorn',\n",
              " 'invasion',\n",
              " '2k9',\n",
              " 'goodie',\n",
              " 'fung',\n",
              " 'dumplings',\n",
              " 'mfk',\n",
              " 'potholes',\n",
              " 'foresee',\n",
              " 'moneyz',\n",
              " \"dm'd\",\n",
              " ...]"
            ]
          },
          "metadata": {},
          "execution_count": 45
        }
      ]
    },
    {
      "cell_type": "code",
      "source": [
        "df[\"content_clean\"]=df[\"content_clean\"].map(lambda text:\" \".join([x for x in text.split(\" \") if x not in list_hapaxes]))"
      ],
      "metadata": {
        "id": "d6avncAXv3cK"
      },
      "execution_count": null,
      "outputs": []
    },
    {
      "cell_type": "code",
      "source": [
        "#lematizacion\n",
        "lemmatizer = WordNetLemmatizer()\n",
        "df['content'] = df['content'].apply(lambda x: ' '.join([lemmatizer.lemmatize(word) for word in word_tokenize(x)]))\n"
      ],
      "metadata": {
        "id": "yjcJSgwJ9ETl"
      },
      "execution_count": null,
      "outputs": []
    },
    {
      "cell_type": "code",
      "source": [
        "df.to_csv('/content/drive/MyDrive/1_DCD/M4_2Practica/df_twitter_limpio_conhapaxes.csv')"
      ],
      "metadata": {
        "id": "aC7_TiJqGZUM"
      },
      "execution_count": null,
      "outputs": []
    },
    {
      "cell_type": "code",
      "source": [
        "from sklearn.model_selection import (train_test_split, RepeatedKFold, RepeatedStratifiedKFold,\n",
        "                                     cross_validate, cross_val_score, KFold)\n",
        "from tensorflow.keras.utils import to_categorical\n",
        "from sklearn.preprocessing import LabelEncoder"
      ],
      "metadata": {
        "id": "fR2jlngMGUxC"
      },
      "execution_count": null,
      "outputs": []
    },
    {
      "cell_type": "code",
      "source": [
        "#división train y test\n",
        "#X=df['content']\n",
        "y=df['clase']"
      ],
      "metadata": {
        "id": "_6HSPYO1FRi5"
      },
      "execution_count": null,
      "outputs": []
    },
    {
      "cell_type": "code",
      "source": [
        "y[0]"
      ],
      "metadata": {
        "colab": {
          "base_uri": "https://localhost:8080/"
        },
        "id": "zgVWjZy5GuUG",
        "outputId": "b423348e-be25-432f-e56e-2967aab95610"
      },
      "execution_count": null,
      "outputs": [
        {
          "output_type": "execute_result",
          "data": {
            "text/plain": [
              "array([0., 1., 0.], dtype=float32)"
            ]
          },
          "metadata": {},
          "execution_count": 30
        }
      ]
    },
    {
      "cell_type": "code",
      "source": [
        "label_encoder = LabelEncoder()\n",
        "y= label_encoder.fit_transform(y)\n",
        "y= to_categorical(y)"
      ],
      "metadata": {
        "id": "M3fo4NwNHbnH"
      },
      "execution_count": null,
      "outputs": []
    },
    {
      "cell_type": "code",
      "source": [
        "#y_train.value_counts(1)\n",
        "#tokenizer = Tokenizer()\n",
        "#tokenizer.fit_on_texts(X_train)\n",
        "#word_index = tokenizer.word_index"
      ],
      "metadata": {
        "id": "V7qO3sDvG92k"
      },
      "execution_count": null,
      "outputs": []
    },
    {
      "cell_type": "code",
      "source": [
        "#tokenizacion\n",
        "tokenizer = Tokenizer()\n",
        "tokenizer.fit_on_texts(df['content_clean'])\n",
        "word_index = tokenizer.word_index"
      ],
      "metadata": {
        "id": "2NvlqKLzxRfk"
      },
      "execution_count": null,
      "outputs": []
    },
    {
      "cell_type": "code",
      "source": [
        "#unique_word=len(word_index)\n",
        "tokenized_reviews = tokenizer.texts_to_sequences(df['content_clean'])"
      ],
      "metadata": {
        "id": "lenOvBANB4F9"
      },
      "execution_count": null,
      "outputs": []
    },
    {
      "cell_type": "code",
      "source": [
        "max_length = max([len(x) for x in tokenized_reviews])"
      ],
      "metadata": {
        "id": "A6hO47ZWCcFB"
      },
      "execution_count": null,
      "outputs": []
    },
    {
      "cell_type": "code",
      "source": [],
      "metadata": {
        "id": "mStwUWgGaIOb"
      },
      "execution_count": null,
      "outputs": []
    },
    {
      "cell_type": "code",
      "source": [],
      "metadata": {
        "id": "xCjPdH__aRro"
      },
      "execution_count": null,
      "outputs": []
    },
    {
      "cell_type": "code",
      "source": [],
      "metadata": {
        "id": "GyB6Tg3haT_s"
      },
      "execution_count": null,
      "outputs": []
    },
    {
      "cell_type": "code",
      "source": [
        "X_train, X_test, y_train, y_test = train_test_split(tokenized_reviews, y,stratify=y,train_size=.8, random_state=1208)"
      ],
      "metadata": {
        "id": "Ru2ech5sMuc1"
      },
      "execution_count": null,
      "outputs": []
    },
    {
      "cell_type": "code",
      "source": [
        "from tensorflow.keras.models import Sequential\n",
        "from tensorflow.keras.layers import Flatten, Embedding, Dense\n",
        "from tensorflow.keras.preprocessing.sequence import pad_sequences"
      ],
      "metadata": {
        "id": "TilkOd9PA3Za"
      },
      "execution_count": null,
      "outputs": []
    },
    {
      "cell_type": "code",
      "source": [
        "X_train_padded = pad_sequences(X_train, maxlen=max_length, padding='post')\n",
        "X_test_padded = pad_sequences(X_test, maxlen=max_length, padding='post')"
      ],
      "metadata": {
        "id": "JZfsQijYLu0a"
      },
      "execution_count": null,
      "outputs": []
    },
    {
      "cell_type": "markdown",
      "source": [
        "Embedding"
      ],
      "metadata": {
        "id": "FkfK60djBkVe"
      }
    },
    {
      "cell_type": "code",
      "source": [
        "from keras.optimizers import Adam"
      ],
      "metadata": {
        "id": "4sMLfd0MUAk6"
      },
      "execution_count": null,
      "outputs": []
    },
    {
      "cell_type": "code",
      "source": [
        "import gensim.downloader\n",
        "print(list(gensim.downloader.info()['models'].keys()))"
      ],
      "metadata": {
        "colab": {
          "base_uri": "https://localhost:8080/"
        },
        "id": "bJRUniODAey4",
        "outputId": "63f11b04-f23a-4332-a7f4-d1c2719b3c84"
      },
      "execution_count": null,
      "outputs": [
        {
          "output_type": "stream",
          "name": "stdout",
          "text": [
            "['fasttext-wiki-news-subwords-300', 'conceptnet-numberbatch-17-06-300', 'word2vec-ruscorpora-300', 'word2vec-google-news-300', 'glove-wiki-gigaword-50', 'glove-wiki-gigaword-100', 'glove-wiki-gigaword-200', 'glove-wiki-gigaword-300', 'glove-twitter-25', 'glove-twitter-50', 'glove-twitter-100', 'glove-twitter-200', '__testing_word2vec-matrix-synopsis']\n"
          ]
        }
      ]
    },
    {
      "cell_type": "code",
      "source": [
        "embedding_matrix = gensim.downloader.load('glove-twitter-200')"
      ],
      "metadata": {
        "id": "Tz03yqfXBeFH",
        "colab": {
          "base_uri": "https://localhost:8080/"
        },
        "outputId": "02c59f33-590b-4fc5-a931-861ec574f93b"
      },
      "execution_count": null,
      "outputs": [
        {
          "output_type": "stream",
          "name": "stdout",
          "text": [
            "[==================================================] 100.0% 758.5/758.5MB downloaded\n"
          ]
        }
      ]
    },
    {
      "cell_type": "code",
      "source": [
        "embedding_vectors = embedding_matrix.vectors"
      ],
      "metadata": {
        "id": "2XngL6EDJ9ZX"
      },
      "execution_count": null,
      "outputs": []
    },
    {
      "cell_type": "code",
      "source": [
        "embedding_vectors"
      ],
      "metadata": {
        "colab": {
          "base_uri": "https://localhost:8080/"
        },
        "id": "2AjyzONlRg80",
        "outputId": "bd84c124-da72-468c-8f0c-697ab746a7ae"
      },
      "execution_count": null,
      "outputs": [
        {
          "output_type": "execute_result",
          "data": {
            "text/plain": [
              "array([[ 3.1553e-01,  5.3765e-01,  1.0177e-01, ..., -4.5664e-01,\n",
              "        -4.6540e-01,  5.2066e-01],\n",
              "       [ 3.5132e-01,  5.6084e-04, -2.1488e-01, ...,  3.6684e-02,\n",
              "        -3.7206e-02,  8.5384e-01],\n",
              "       [ 8.0767e-01,  4.9786e-01,  8.2696e-02, ..., -7.3302e-02,\n",
              "        -4.7785e-01,  6.7059e-01],\n",
              "       ...,\n",
              "       [ 4.6298e-01,  1.0477e-01,  2.3461e-01, ..., -4.2007e-01,\n",
              "        -3.2021e-01, -5.3523e-01],\n",
              "       [ 5.9501e-01, -2.1580e-01,  2.9049e-01, ...,  2.2362e-01,\n",
              "         1.2880e-01, -3.8757e-02],\n",
              "       [-5.9487e-01, -1.9176e-01,  3.7470e-01, ..., -1.4474e-01,\n",
              "        -1.9884e-01, -9.2338e-01]], dtype=float32)"
            ]
          },
          "metadata": {},
          "execution_count": 6
        }
      ]
    },
    {
      "cell_type": "code",
      "source": [
        "from sklearn.manifold import TSNE\n",
        "\n",
        "tsne = TSNE()\n",
        "embed_tsne = tsne.fit_transform(embedding_vectors)"
      ],
      "metadata": {
        "id": "7Fi61AQpxUf8"
      },
      "execution_count": null,
      "outputs": []
    },
    {
      "cell_type": "code",
      "source": [
        "import matplotlib.pyplot as plt"
      ],
      "metadata": {
        "id": "fprPq1yUxXai"
      },
      "execution_count": null,
      "outputs": []
    },
    {
      "cell_type": "code",
      "source": [
        "\n",
        "fig, ax = plt.subplots(figsize=(16, 16))\n",
        "for idx, word in enumerate((list(gensim.wv.key_to_index.keys())[:200])):\n",
        "    plt.scatter(*embed_tsne[idx, :], color='steelblue')\n",
        "    plt.annotate(word, (embed_tsne[idx, 0], embed_tsne[idx, 1]), alpha=0.7)\n",
        "\n",
        "plt.grid()"
      ],
      "metadata": {
        "id": "41dqOv61xaew"
      },
      "execution_count": null,
      "outputs": []
    },
    {
      "cell_type": "code",
      "source": [
        "unique_word= len(embedding_matrix.key_to_index)"
      ],
      "metadata": {
        "id": "0yvFE2BwLjo-"
      },
      "execution_count": null,
      "outputs": []
    },
    {
      "cell_type": "code",
      "source": [
        "unique_word"
      ],
      "metadata": {
        "colab": {
          "base_uri": "https://localhost:8080/"
        },
        "id": "AQaspG4KbT_J",
        "outputId": "f8b1987e-3a5c-47fa-8f54-28060bc58fa2"
      },
      "execution_count": null,
      "outputs": [
        {
          "output_type": "execute_result",
          "data": {
            "text/plain": [
              "1193514"
            ]
          },
          "metadata": {},
          "execution_count": 66
        }
      ]
    },
    {
      "cell_type": "code",
      "source": [
        "embedding_layer = Embedding(input_dim=unique_word, output_dim=200, weights=[embedding_vectors], input_length=max_length, trainable=False)"
      ],
      "metadata": {
        "id": "0uC0ZV5jFp4k"
      },
      "execution_count": null,
      "outputs": []
    },
    {
      "cell_type": "code",
      "source": [
        "from tensorflow.keras.layers import SimpleRNN"
      ],
      "metadata": {
        "id": "lRr-NcyuExGq"
      },
      "execution_count": null,
      "outputs": []
    },
    {
      "cell_type": "code",
      "source": [
        "from tensorflow.keras.layers import Input, Embedding, SimpleRNN, Dense, Concatenate"
      ],
      "metadata": {
        "id": "kx3ZwXr8GVfN"
      },
      "execution_count": null,
      "outputs": []
    },
    {
      "cell_type": "code",
      "source": [
        "from keras.callbacks import EarlyStopping"
      ],
      "metadata": {
        "id": "33KOccSnfW6L"
      },
      "execution_count": null,
      "outputs": []
    },
    {
      "cell_type": "code",
      "source": [
        "early_stop = EarlyStopping(monitor='val_loss', patience=5)"
      ],
      "metadata": {
        "id": "qF-TmR9AVYqH"
      },
      "execution_count": null,
      "outputs": []
    },
    {
      "cell_type": "code",
      "source": [
        "model_rnn = Sequential()\n",
        "model_rnn.add(embedding_layer)\n",
        "model_rnn.add(SimpleRNN(units=200))\n",
        "model_rnn.add(Dense(3, activation='softmax'))\n",
        "\n",
        "model_rnn.compile(optimizer='adam', loss='categorical_crossentropy', metrics=['accuracy'])"
      ],
      "metadata": {
        "id": "Fbz3nnD0E9iV"
      },
      "execution_count": null,
      "outputs": []
    },
    {
      "cell_type": "code",
      "source": [
        "y_test"
      ],
      "metadata": {
        "colab": {
          "base_uri": "https://localhost:8080/"
        },
        "id": "y3d-0d7tJjro",
        "outputId": "c114ecdb-79d4-4ac5-c432-9270f642e1c2"
      },
      "execution_count": null,
      "outputs": [
        {
          "output_type": "execute_result",
          "data": {
            "text/plain": [
              "array([[1., 0., 0.],\n",
              "       [1., 0., 0.],\n",
              "       [0., 1., 0.],\n",
              "       ...,\n",
              "       [0., 0., 1.],\n",
              "       [0., 1., 0.],\n",
              "       [1., 0., 0.]], dtype=float32)"
            ]
          },
          "metadata": {},
          "execution_count": 49
        }
      ]
    },
    {
      "cell_type": "code",
      "source": [
        "model_rnn.fit(X_train_padded, y_train, epochs=100,validation_data=(X_test_padded, y_test),callbacks=[early_stop])\n",
        "#model.fit(X_train, y_cat_train, epochs=10, validation_data=(X_val, y_cat_val), callbacks=[early_stop])"
      ],
      "metadata": {
        "colab": {
          "base_uri": "https://localhost:8080/"
        },
        "id": "8MCVRcT1Nb6p",
        "outputId": "f824f1ee-b24c-4f5d-a24c-84df8f23d3a0"
      },
      "execution_count": null,
      "outputs": [
        {
          "output_type": "stream",
          "name": "stdout",
          "text": [
            "Epoch 1/100\n",
            "1000/1000 [==============================] - 30s 26ms/step - loss: 1.1112 - accuracy: 0.3589 - val_loss: 1.0917 - val_accuracy: 0.3764\n",
            "Epoch 2/100\n",
            "1000/1000 [==============================] - 23s 23ms/step - loss: 1.1010 - accuracy: 0.3577 - val_loss: 1.0947 - val_accuracy: 0.3444\n",
            "Epoch 3/100\n",
            "1000/1000 [==============================] - 23s 23ms/step - loss: 1.1007 - accuracy: 0.3606 - val_loss: 1.0987 - val_accuracy: 0.3444\n",
            "Epoch 4/100\n",
            "1000/1000 [==============================] - 27s 27ms/step - loss: 1.1015 - accuracy: 0.3583 - val_loss: 1.0965 - val_accuracy: 0.3764\n",
            "Epoch 5/100\n",
            "1000/1000 [==============================] - 25s 25ms/step - loss: 1.1030 - accuracy: 0.3602 - val_loss: 1.1059 - val_accuracy: 0.3764\n",
            "Epoch 6/100\n",
            "1000/1000 [==============================] - 24s 24ms/step - loss: 1.0996 - accuracy: 0.3615 - val_loss: 1.0950 - val_accuracy: 0.3765\n"
          ]
        },
        {
          "output_type": "execute_result",
          "data": {
            "text/plain": [
              "<keras.src.callbacks.History at 0x7fcd48cd9ae0>"
            ]
          },
          "metadata": {},
          "execution_count": 50
        }
      ]
    },
    {
      "cell_type": "code",
      "source": [
        "model_rnn = Sequential()\n",
        "model_rnn.add(embedding_layer)\n",
        "model_rnn.add(SimpleRNN(units=128, return_sequences=True))\n",
        "model_rnn.add(SimpleRNN(units=50))\n",
        "model_rnn.add(Dense(3, activation='softmax'))\n",
        "\n",
        "#'adam' 25-26\n",
        "model_rnn.compile(optimizer=Adam(learning_rate=0.001), loss='categorical_crossentropy', metrics=['accuracy'])"
      ],
      "metadata": {
        "id": "aYdPJcMeTaBS"
      },
      "execution_count": null,
      "outputs": []
    },
    {
      "cell_type": "code",
      "source": [
        "model_rnn.fit(X_train_padded, y_train, epochs=100,validation_data=(X_test_padded, y_test),callbacks=[early_stop])"
      ],
      "metadata": {
        "colab": {
          "base_uri": "https://localhost:8080/"
        },
        "id": "IBdUcXqWTcOk",
        "outputId": "3ca8ade8-6de4-4e6f-db19-0803246f6544"
      },
      "execution_count": null,
      "outputs": [
        {
          "output_type": "stream",
          "name": "stdout",
          "text": [
            "Epoch 1/100\n",
            "1000/1000 [==============================] - 29s 26ms/step - loss: 1.0963 - accuracy: 0.3657 - val_loss: 1.0932 - val_accuracy: 0.3764\n",
            "Epoch 2/100\n",
            "1000/1000 [==============================] - 26s 26ms/step - loss: 1.0945 - accuracy: 0.3667 - val_loss: 1.0926 - val_accuracy: 0.3444\n",
            "Epoch 3/100\n",
            "1000/1000 [==============================] - 29s 29ms/step - loss: 1.0947 - accuracy: 0.3681 - val_loss: 1.0942 - val_accuracy: 0.3764\n",
            "Epoch 4/100\n",
            "1000/1000 [==============================] - 25s 25ms/step - loss: 1.0936 - accuracy: 0.3703 - val_loss: 1.1031 - val_accuracy: 0.3444\n",
            "Epoch 5/100\n",
            "1000/1000 [==============================] - 24s 24ms/step - loss: 1.0938 - accuracy: 0.3693 - val_loss: 1.0981 - val_accuracy: 0.3764\n",
            "Epoch 6/100\n",
            "1000/1000 [==============================] - 25s 25ms/step - loss: 1.0944 - accuracy: 0.3710 - val_loss: 1.0920 - val_accuracy: 0.3764\n",
            "Epoch 7/100\n",
            "1000/1000 [==============================] - 25s 25ms/step - loss: 1.0939 - accuracy: 0.3698 - val_loss: 1.0945 - val_accuracy: 0.3764\n",
            "Epoch 8/100\n",
            "1000/1000 [==============================] - 25s 25ms/step - loss: 1.0940 - accuracy: 0.3643 - val_loss: 1.0919 - val_accuracy: 0.3764\n",
            "Epoch 9/100\n",
            "1000/1000 [==============================] - 25s 25ms/step - loss: 1.0944 - accuracy: 0.3679 - val_loss: 1.0954 - val_accuracy: 0.3445\n",
            "Epoch 10/100\n",
            "1000/1000 [==============================] - 26s 26ms/step - loss: 1.0945 - accuracy: 0.3653 - val_loss: 1.0922 - val_accuracy: 0.3764\n",
            "Epoch 11/100\n",
            "1000/1000 [==============================] - 24s 24ms/step - loss: 1.0942 - accuracy: 0.3659 - val_loss: 1.0934 - val_accuracy: 0.3765\n",
            "Epoch 12/100\n",
            "1000/1000 [==============================] - 25s 25ms/step - loss: 1.0944 - accuracy: 0.3700 - val_loss: 1.0955 - val_accuracy: 0.3445\n",
            "Epoch 13/100\n",
            "1000/1000 [==============================] - 26s 26ms/step - loss: 1.0941 - accuracy: 0.3711 - val_loss: 1.1009 - val_accuracy: 0.3445\n"
          ]
        },
        {
          "output_type": "execute_result",
          "data": {
            "text/plain": [
              "<keras.src.callbacks.History at 0x7fcd4029dfc0>"
            ]
          },
          "metadata": {},
          "execution_count": 52
        }
      ]
    },
    {
      "cell_type": "markdown",
      "source": [
        "GRU"
      ],
      "metadata": {
        "id": "sLPFl3mGexo4"
      }
    },
    {
      "cell_type": "code",
      "source": [
        "from tensorflow.keras.layers import GRU\n",
        "from keras.layers import Dropout"
      ],
      "metadata": {
        "id": "G_0xz4NRbIsF"
      },
      "execution_count": null,
      "outputs": []
    },
    {
      "cell_type": "code",
      "source": [
        "model_gru = Sequential()\n",
        "model_gru.add(embedding_layer)\n",
        "model_gru.add(GRU(units=50,return_sequences=True))\n",
        "model_gru.add(Dropout(0.30))\n",
        "model_gru.add(GRU(units=50,return_sequences=True))\n",
        "model_gru.add(Dropout(0.2))\n",
        "model_gru.add(GRU(units=25))\n",
        "model_gru.add(Dense(3, activation='softmax'))\n",
        "#44-34\n",
        "#46-34\n",
        "model_gru.compile(optimizer='adam', loss='categorical_crossentropy', metrics=['accuracy'])"
      ],
      "metadata": {
        "id": "dCOcgBPnezSs"
      },
      "execution_count": null,
      "outputs": []
    },
    {
      "cell_type": "code",
      "source": [
        "model_gru.fit(X_train_padded, y_train, epochs=100,validation_data=(X_test_padded, y_test),callbacks=[early_stop])"
      ],
      "metadata": {
        "colab": {
          "base_uri": "https://localhost:8080/"
        },
        "id": "NasnPASpe6Oc",
        "outputId": "579247f4-a62d-46db-b8b3-b18d31af81da"
      },
      "execution_count": null,
      "outputs": [
        {
          "output_type": "stream",
          "name": "stdout",
          "text": [
            "Epoch 1/100\n",
            "1000/1000 [==============================] - 55s 49ms/step - loss: 1.0617 - accuracy: 0.4288 - val_loss: 1.0078 - val_accuracy: 0.5058\n",
            "Epoch 2/100\n",
            "1000/1000 [==============================] - 44s 44ms/step - loss: 0.9818 - accuracy: 0.5245 - val_loss: 0.9672 - val_accuracy: 0.5364\n",
            "Epoch 3/100\n",
            "1000/1000 [==============================] - 45s 45ms/step - loss: 0.9401 - accuracy: 0.5597 - val_loss: 0.9681 - val_accuracy: 0.5401\n",
            "Epoch 4/100\n",
            "1000/1000 [==============================] - 47s 47ms/step - loss: 0.9061 - accuracy: 0.5798 - val_loss: 0.9738 - val_accuracy: 0.5322\n",
            "Epoch 5/100\n",
            "1000/1000 [==============================] - 44s 44ms/step - loss: 0.8688 - accuracy: 0.6086 - val_loss: 0.9719 - val_accuracy: 0.5391\n",
            "Epoch 6/100\n",
            "1000/1000 [==============================] - 47s 47ms/step - loss: 0.8312 - accuracy: 0.6334 - val_loss: 1.0027 - val_accuracy: 0.5269\n",
            "Epoch 7/100\n",
            "1000/1000 [==============================] - 47s 47ms/step - loss: 0.7930 - accuracy: 0.6590 - val_loss: 1.0452 - val_accuracy: 0.5232\n"
          ]
        },
        {
          "output_type": "execute_result",
          "data": {
            "text/plain": [
              "<keras.src.callbacks.History at 0x7fcd49316140>"
            ]
          },
          "metadata": {},
          "execution_count": 55
        }
      ]
    },
    {
      "cell_type": "code",
      "source": [
        "model_gru2 = Sequential()\n",
        "model_gru2.add(embedding_layer)\n",
        "model_gru2.add(GRU(units=128,return_sequences=True))\n",
        "model_gru2.add(Dropout(0.30))\n",
        "model_gru2.add(GRU(units=64,return_sequences=True))\n",
        "model_gru2.add(Dropout(0.25))\n",
        "model_gru2.add(GRU(units=32))\n",
        "model_gru2.add(Dense(16, activation='relu'))\n",
        "model_gru2.add(Dropout(0.25))\n",
        "model_gru2.add(Dense(5, activation='softmax'))\n",
        "#45-35\n",
        "model_gru2.compile(optimizer='adam', loss='categorical_crossentropy', metrics=['accuracy'])"
      ],
      "metadata": {
        "id": "KkfJ5p29PZLS"
      },
      "execution_count": null,
      "outputs": []
    },
    {
      "cell_type": "code",
      "source": [
        "model_gru2.fit(X_train_padded, y_train, epochs=100,validation_data=(X_test_padded, y_test),callbacks=[early_stop])"
      ],
      "metadata": {
        "id": "wsu3PDe1PZdR",
        "colab": {
          "base_uri": "https://localhost:8080/"
        },
        "outputId": "c3de01c5-caa8-4170-e503-609d934a79b3"
      },
      "execution_count": null,
      "outputs": [
        {
          "output_type": "stream",
          "name": "stdout",
          "text": [
            "Epoch 1/100\n",
            "1000/1000 [==============================] - 101s 89ms/step - loss: 1.0904 - accuracy: 0.3733 - val_loss: 1.0852 - val_accuracy: 0.3969\n",
            "Epoch 2/100\n",
            "1000/1000 [==============================] - 86s 86ms/step - loss: 1.0514 - accuracy: 0.4420 - val_loss: 1.0070 - val_accuracy: 0.4820\n",
            "Epoch 3/100\n",
            "1000/1000 [==============================] - 87s 87ms/step - loss: 0.9971 - accuracy: 0.4997 - val_loss: 0.9820 - val_accuracy: 0.5159\n",
            "Epoch 4/100\n",
            "1000/1000 [==============================] - 88s 88ms/step - loss: 0.9600 - accuracy: 0.5427 - val_loss: 0.9830 - val_accuracy: 0.5090\n",
            "Epoch 5/100\n",
            "1000/1000 [==============================] - 82s 82ms/step - loss: 0.9216 - accuracy: 0.5743 - val_loss: 0.9839 - val_accuracy: 0.5329\n",
            "Epoch 6/100\n",
            "1000/1000 [==============================] - 88s 88ms/step - loss: 0.8709 - accuracy: 0.6058 - val_loss: 1.0203 - val_accuracy: 0.5280\n",
            "Epoch 7/100\n",
            "1000/1000 [==============================] - 87s 87ms/step - loss: 0.8108 - accuracy: 0.6457 - val_loss: 1.0772 - val_accuracy: 0.5195\n",
            "Epoch 8/100\n",
            "1000/1000 [==============================] - 88s 88ms/step - loss: 0.7536 - accuracy: 0.6761 - val_loss: 1.1187 - val_accuracy: 0.5131\n"
          ]
        },
        {
          "output_type": "execute_result",
          "data": {
            "text/plain": [
              "<keras.src.callbacks.History at 0x7fcd40f381c0>"
            ]
          },
          "metadata": {},
          "execution_count": 61
        }
      ]
    },
    {
      "cell_type": "markdown",
      "source": [
        "LSTM"
      ],
      "metadata": {
        "id": "dnYU03-opICK"
      }
    },
    {
      "cell_type": "code",
      "source": [
        "from tensorflow.keras.layers import LSTM"
      ],
      "metadata": {
        "id": "3mo22TOUfzSR"
      },
      "execution_count": null,
      "outputs": []
    },
    {
      "cell_type": "code",
      "source": [
        "model_lstm = Sequential()\n",
        "model_lstm.add(embedding_layer)\n",
        "model_lstm.add(LSTM(units=200,return_sequences=True))\n",
        "model_lstm.add(LSTM(units=100,return_sequences=True))\n",
        "model_lstm.add(Dropout(0.25))\n",
        "model_lstm.add(LSTM(units=50,return_sequences=True))\n",
        "model_lstm.add(Dropout(0.25))\n",
        "model_lstm.add(LSTM(units=25))\n",
        "model_lstm.add(Dropout(0.25))\n",
        "model_lstm.add(Dense(50, activation='softmax'))\n",
        "model_lstm.add(Dense(3, activation='softmax'))\n",
        "#44-32\n",
        "#45-35\n",
        "model_lstm.compile(optimizer='adam', loss='categorical_crossentropy', metrics=['accuracy'])"
      ],
      "metadata": {
        "id": "LdUUh5W5pNf-"
      },
      "execution_count": null,
      "outputs": []
    },
    {
      "cell_type": "code",
      "source": [
        "model_lstm.fit(X_train_padded, y_train, epochs=100,validation_data=(X_test_padded, y_test),callbacks=[early_stop])"
      ],
      "metadata": {
        "colab": {
          "base_uri": "https://localhost:8080/"
        },
        "id": "qNQTaz7ctgIY",
        "outputId": "642a0794-bc8b-41bc-a908-d87548675ade"
      },
      "execution_count": null,
      "outputs": [
        {
          "output_type": "stream",
          "name": "stdout",
          "text": [
            "Epoch 1/100\n",
            "1000/1000 [==============================] - 187s 173ms/step - loss: 1.0918 - accuracy: 0.3758 - val_loss: 1.0913 - val_accuracy: 0.3764\n",
            "Epoch 2/100\n",
            "1000/1000 [==============================] - 164s 164ms/step - loss: 1.0914 - accuracy: 0.3748 - val_loss: 1.0912 - val_accuracy: 0.3764\n",
            "Epoch 3/100\n",
            "1000/1000 [==============================] - 170s 170ms/step - loss: 1.0913 - accuracy: 0.3764 - val_loss: 1.0911 - val_accuracy: 0.3764\n",
            "Epoch 4/100\n",
            "1000/1000 [==============================] - 169s 169ms/step - loss: 1.0913 - accuracy: 0.3764 - val_loss: 1.0912 - val_accuracy: 0.3764\n",
            "Epoch 5/100\n",
            "1000/1000 [==============================] - 169s 169ms/step - loss: 1.0913 - accuracy: 0.3760 - val_loss: 1.0911 - val_accuracy: 0.3764\n",
            "Epoch 6/100\n",
            "1000/1000 [==============================] - 166s 166ms/step - loss: 1.0913 - accuracy: 0.3764 - val_loss: 1.0912 - val_accuracy: 0.3764\n",
            "Epoch 7/100\n",
            "1000/1000 [==============================] - 173s 173ms/step - loss: 1.0913 - accuracy: 0.3764 - val_loss: 1.0911 - val_accuracy: 0.3764\n",
            "Epoch 8/100\n",
            "1000/1000 [==============================] - 168s 168ms/step - loss: 1.0913 - accuracy: 0.3764 - val_loss: 1.0911 - val_accuracy: 0.3764\n"
          ]
        },
        {
          "output_type": "execute_result",
          "data": {
            "text/plain": [
              "<keras.src.callbacks.History at 0x7fcd48a2ce50>"
            ]
          },
          "metadata": {},
          "execution_count": 66
        }
      ]
    },
    {
      "cell_type": "code",
      "source": [
        "model_lstm2 = Sequential()\n",
        "model_lstm2.add(embedding_layer)\n",
        "model_lstm2.add(LSTM(units=128,return_sequences=True))\n",
        "model_lstm2.add(Dropout(0.20))\n",
        "model_lstm2.add(LSTM(units=64))\n",
        "model_lstm2.add(Dropout(0.20))\n",
        "model_lstm2.add(Dense(32, activation='sigmoid'))\n",
        "model_lstm2.add(Dense(16, activation='relu'))\n",
        "model_lstm2.add(Dense(8, activation='tanh'))\n",
        "model_lstm2.add(Dropout(0.50))\n",
        "model_lstm2.add(Dense(3, activation='softmax'))\n",
        "# 51-32\n",
        "model_lstm2.compile(optimizer='adam', loss='categorical_crossentropy', metrics=['accuracy'])"
      ],
      "metadata": {
        "id": "4U66znfZtkwn"
      },
      "execution_count": null,
      "outputs": []
    },
    {
      "cell_type": "code",
      "source": [
        "model_lstm2.fit(X_train_padded, y_train, epochs=100,validation_data=(X_test_padded, y_test),callbacks=[early_stop])"
      ],
      "metadata": {
        "colab": {
          "base_uri": "https://localhost:8080/"
        },
        "id": "ZaS6lomuly2B",
        "outputId": "0786c749-8134-4bf1-ddee-a017d4f15108"
      },
      "execution_count": null,
      "outputs": [
        {
          "output_type": "stream",
          "name": "stdout",
          "text": [
            "Epoch 1/100\n",
            "1000/1000 [==============================] - 92s 88ms/step - loss: 1.0928 - accuracy: 0.3742 - val_loss: 1.0914 - val_accuracy: 0.3764\n",
            "Epoch 2/100\n",
            "1000/1000 [==============================] - 84s 84ms/step - loss: 1.0918 - accuracy: 0.3754 - val_loss: 1.0912 - val_accuracy: 0.3764\n",
            "Epoch 3/100\n",
            "1000/1000 [==============================] - 87s 87ms/step - loss: 1.0913 - accuracy: 0.3760 - val_loss: 1.0912 - val_accuracy: 0.3764\n",
            "Epoch 4/100\n",
            "1000/1000 [==============================] - 89s 89ms/step - loss: 1.0914 - accuracy: 0.3764 - val_loss: 1.0912 - val_accuracy: 0.3764\n",
            "Epoch 5/100\n",
            "1000/1000 [==============================] - 86s 86ms/step - loss: 1.0912 - accuracy: 0.3764 - val_loss: 1.0912 - val_accuracy: 0.3764\n",
            "Epoch 6/100\n",
            "1000/1000 [==============================] - 90s 90ms/step - loss: 1.0913 - accuracy: 0.3760 - val_loss: 1.0911 - val_accuracy: 0.3764\n",
            "Epoch 7/100\n",
            "1000/1000 [==============================] - 87s 87ms/step - loss: 1.0913 - accuracy: 0.3760 - val_loss: 1.0913 - val_accuracy: 0.3764\n",
            "Epoch 8/100\n",
            "1000/1000 [==============================] - 84s 84ms/step - loss: 1.0912 - accuracy: 0.3764 - val_loss: 1.0912 - val_accuracy: 0.3764\n",
            "Epoch 9/100\n",
            "1000/1000 [==============================] - 86s 86ms/step - loss: 1.0913 - accuracy: 0.3764 - val_loss: 1.0911 - val_accuracy: 0.3764\n",
            "Epoch 10/100\n",
            "1000/1000 [==============================] - 86s 86ms/step - loss: 1.0913 - accuracy: 0.3763 - val_loss: 1.0911 - val_accuracy: 0.3764\n",
            "Epoch 11/100\n",
            "1000/1000 [==============================] - 89s 89ms/step - loss: 1.0912 - accuracy: 0.3764 - val_loss: 1.0912 - val_accuracy: 0.3764\n",
            "Epoch 12/100\n",
            "1000/1000 [==============================] - 84s 84ms/step - loss: 1.0913 - accuracy: 0.3764 - val_loss: 1.0914 - val_accuracy: 0.3764\n",
            "Epoch 13/100\n",
            "1000/1000 [==============================] - 86s 86ms/step - loss: 1.0912 - accuracy: 0.3764 - val_loss: 1.0912 - val_accuracy: 0.3764\n",
            "Epoch 14/100\n",
            "1000/1000 [==============================] - 86s 86ms/step - loss: 1.0912 - accuracy: 0.3764 - val_loss: 1.0912 - val_accuracy: 0.3764\n"
          ]
        },
        {
          "output_type": "execute_result",
          "data": {
            "text/plain": [
              "<keras.src.callbacks.History at 0x7fcd379b40a0>"
            ]
          },
          "metadata": {},
          "execution_count": 68
        }
      ]
    },
    {
      "cell_type": "markdown",
      "source": [
        "AGREGANDO VARIABLES NUMERICAS"
      ],
      "metadata": {
        "id": "WNmkRj7M8MbK"
      }
    },
    {
      "cell_type": "code",
      "source": [
        "X_numeric = df[[\"len_text_raw\", \"n_lower_ratio_len\", \"n_upper_ratio_len\", \"n_words\", \"n_letters\", \"n_lower_ratio_letters\", \"n_upper_ratio_letters\"]]\n"
      ],
      "metadata": {
        "id": "ZuZSa1pO8PXi"
      },
      "execution_count": null,
      "outputs": []
    },
    {
      "cell_type": "code",
      "source": [
        "X_text_train, X_text_test, X_numeric_train, X_numeric_test, y_train, y_test = train_test_split(tokenized_reviews, X_numeric, y, stratify=y,test_size=0.7, random_state=1208)\n"
      ],
      "metadata": {
        "id": "N0GGgxRU81ex"
      },
      "execution_count": null,
      "outputs": []
    },
    {
      "cell_type": "code",
      "source": [
        "X_train_padded = pad_sequences(X_text_train, maxlen=max_length, padding='post')\n",
        "X_test_padded = pad_sequences(X_text_test, maxlen=max_length, padding='post')"
      ],
      "metadata": {
        "id": "53M521SWJeEv"
      },
      "execution_count": null,
      "outputs": []
    },
    {
      "cell_type": "code",
      "source": [
        "from sklearn.preprocessing import StandardScaler\n",
        "scaler = StandardScaler()\n",
        "X_numeric_train_scaled = scaler.fit_transform(X_numeric_train)\n",
        "X_numeric_test_scaled = scaler.transform(X_numeric_test)"
      ],
      "metadata": {
        "id": "sPc7SkeP80kp"
      },
      "execution_count": null,
      "outputs": []
    },
    {
      "cell_type": "code",
      "source": [
        "from keras.layers import Input, Embedding, SimpleRNN, Dense, concatenate\n",
        "from keras.models import Model"
      ],
      "metadata": {
        "id": "Qu9iWNRSZRar"
      },
      "execution_count": null,
      "outputs": []
    },
    {
      "cell_type": "code",
      "source": [
        "\n",
        "\n",
        "X_train_combined = [X_train_padded, X_numeric_train_scaled]\n",
        "X_test_combined = [X_test_padded, X_numeric_test_scaled]\n",
        "\n",
        "numeric_input = Input(shape=(7,))\n",
        "\n",
        "\n",
        "text_input = Input(shape=(max_length,))\n",
        "\n",
        "embedding_layer = Embedding(input_dim=unique_word, output_dim=100, weights=[embedding_vectors], input_length=max_length, trainable=False)(text_input)\n",
        "#embedding_layer = Embedding(input_dim=unique_word, output_dim=100, weights=[embedding_vectors], input_length=max_length, trainable=False)\n",
        "rnn_output = SimpleRNN(units=100)(embedding_layer)\n",
        "concatenated = concatenate([rnn_output, numeric_input])\n",
        "output = Dense(13, activation='softmax')(concatenated)\n",
        "model = Model(inputs=[text_input, numeric_input], outputs=output)\n",
        "\n",
        "model.compile(optimizer='adam', loss='categorical_crossentropy', metrics=['accuracy'])\n",
        "\n",
        "model.fit(X_train_combined, y_train, validation_data=(X_test_combined, y_test), epochs=50, callbacks=[early_stop])\n"
      ],
      "metadata": {
        "colab": {
          "base_uri": "https://localhost:8080/"
        },
        "id": "OD4B6--LMhlQ",
        "outputId": "08a7c289-68cd-4cb7-8148-473894247c17"
      },
      "execution_count": null,
      "outputs": [
        {
          "output_type": "stream",
          "name": "stdout",
          "text": [
            "Epoch 1/50\n",
            "375/375 [==============================] - 11s 26ms/step - loss: nan - accuracy: 0.0084 - val_loss: nan - val_accuracy: 0.0027\n",
            "Epoch 2/50\n",
            "375/375 [==============================] - 8s 21ms/step - loss: nan - accuracy: 0.0027 - val_loss: nan - val_accuracy: 0.0027\n",
            "Epoch 3/50\n",
            "375/375 [==============================] - 7s 17ms/step - loss: nan - accuracy: 0.0027 - val_loss: nan - val_accuracy: 0.0027\n",
            "Epoch 4/50\n",
            "375/375 [==============================] - 7s 19ms/step - loss: nan - accuracy: 0.0027 - val_loss: nan - val_accuracy: 0.0027\n",
            "Epoch 5/50\n",
            "375/375 [==============================] - 8s 22ms/step - loss: nan - accuracy: 0.0027 - val_loss: nan - val_accuracy: 0.0027\n"
          ]
        },
        {
          "output_type": "execute_result",
          "data": {
            "text/plain": [
              "<keras.src.callbacks.History at 0x7dcb8003c0d0>"
            ]
          },
          "metadata": {},
          "execution_count": 85
        }
      ]
    },
    {
      "cell_type": "code",
      "source": [
        "model_lstm.fit(X_train_padded, y_train, epochs=100,validation_data=(X_test_padded, y_test),callbacks=[early_stop])"
      ],
      "metadata": {
        "id": "kXL4h6I5cHbR"
      },
      "execution_count": null,
      "outputs": []
    }
  ]
}